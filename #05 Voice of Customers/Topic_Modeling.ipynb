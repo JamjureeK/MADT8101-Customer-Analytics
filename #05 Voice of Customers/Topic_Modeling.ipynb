{
  "nbformat": 4,
  "nbformat_minor": 0,
  "metadata": {
    "colab": {
      "provenance": []
    },
    "kernelspec": {
      "name": "python3",
      "display_name": "Python 3"
    },
    "language_info": {
      "name": "python"
    }
  },
  "cells": [
    {
      "cell_type": "code",
      "execution_count": null,
      "metadata": {
        "colab": {
          "base_uri": "https://localhost:8080/"
        },
        "id": "rfhYXgGDeVPu",
        "outputId": "dd5048be-1888-4594-8cd0-61fef48fd518"
      },
      "outputs": [
        {
          "output_type": "stream",
          "name": "stdout",
          "text": [
            "Requirement already satisfied: pythainlp in /usr/local/lib/python3.10/dist-packages (4.0.2)\n",
            "Requirement already satisfied: requests>=2.22.0 in /usr/local/lib/python3.10/dist-packages (from pythainlp) (2.31.0)\n",
            "Requirement already satisfied: charset-normalizer<4,>=2 in /usr/local/lib/python3.10/dist-packages (from requests>=2.22.0->pythainlp) (3.2.0)\n",
            "Requirement already satisfied: idna<4,>=2.5 in /usr/local/lib/python3.10/dist-packages (from requests>=2.22.0->pythainlp) (3.4)\n",
            "Requirement already satisfied: urllib3<3,>=1.21.1 in /usr/local/lib/python3.10/dist-packages (from requests>=2.22.0->pythainlp) (2.0.4)\n",
            "Requirement already satisfied: certifi>=2017.4.17 in /usr/local/lib/python3.10/dist-packages (from requests>=2.22.0->pythainlp) (2023.7.22)\n",
            "Requirement already satisfied: pyLDAvis in /usr/local/lib/python3.10/dist-packages (3.4.1)\n",
            "Requirement already satisfied: numpy>=1.24.2 in /usr/local/lib/python3.10/dist-packages (from pyLDAvis) (1.25.2)\n",
            "Requirement already satisfied: scipy in /usr/local/lib/python3.10/dist-packages (from pyLDAvis) (1.10.1)\n",
            "Requirement already satisfied: pandas>=2.0.0 in /usr/local/lib/python3.10/dist-packages (from pyLDAvis) (2.0.3)\n",
            "Requirement already satisfied: joblib>=1.2.0 in /usr/local/lib/python3.10/dist-packages (from pyLDAvis) (1.3.2)\n",
            "Requirement already satisfied: jinja2 in /usr/local/lib/python3.10/dist-packages (from pyLDAvis) (3.1.2)\n",
            "Requirement already satisfied: numexpr in /usr/local/lib/python3.10/dist-packages (from pyLDAvis) (2.8.5)\n",
            "Requirement already satisfied: funcy in /usr/local/lib/python3.10/dist-packages (from pyLDAvis) (2.0)\n",
            "Requirement already satisfied: scikit-learn>=1.0.0 in /usr/local/lib/python3.10/dist-packages (from pyLDAvis) (1.2.2)\n",
            "Requirement already satisfied: gensim in /usr/local/lib/python3.10/dist-packages (from pyLDAvis) (4.3.1)\n",
            "Requirement already satisfied: setuptools in /usr/local/lib/python3.10/dist-packages (from pyLDAvis) (67.7.2)\n",
            "Requirement already satisfied: python-dateutil>=2.8.2 in /usr/local/lib/python3.10/dist-packages (from pandas>=2.0.0->pyLDAvis) (2.8.2)\n",
            "Requirement already satisfied: pytz>=2020.1 in /usr/local/lib/python3.10/dist-packages (from pandas>=2.0.0->pyLDAvis) (2023.3)\n",
            "Requirement already satisfied: tzdata>=2022.1 in /usr/local/lib/python3.10/dist-packages (from pandas>=2.0.0->pyLDAvis) (2023.3)\n",
            "Requirement already satisfied: threadpoolctl>=2.0.0 in /usr/local/lib/python3.10/dist-packages (from scikit-learn>=1.0.0->pyLDAvis) (3.2.0)\n",
            "Requirement already satisfied: smart-open>=1.8.1 in /usr/local/lib/python3.10/dist-packages (from gensim->pyLDAvis) (6.3.0)\n",
            "Requirement already satisfied: MarkupSafe>=2.0 in /usr/local/lib/python3.10/dist-packages (from jinja2->pyLDAvis) (2.1.3)\n",
            "Requirement already satisfied: six>=1.5 in /usr/local/lib/python3.10/dist-packages (from python-dateutil>=2.8.2->pandas>=2.0.0->pyLDAvis) (1.16.0)\n"
          ]
        }
      ],
      "source": [
        "!pip install --upgrade pythainlp\n",
        "!pip install pyLDAvis"
      ]
    },
    {
      "cell_type": "code",
      "source": [
        "import pandas as pd\n",
        "import pythainlp\n",
        "import gensim\n",
        "import pyLDAvis.gensim\n",
        "pyLDAvis.enable_notebook()\n",
        "import warnings\n",
        "warnings.filterwarnings(\"ignore\", category=DeprecationWarning)"
      ],
      "metadata": {
        "id": "wJcYfW87_bPE"
      },
      "execution_count": null,
      "outputs": []
    },
    {
      "cell_type": "code",
      "source": [
        "df = pd.read_csv('Grab Reviews - Phakchum Khumhom.csv')"
      ],
      "metadata": {
        "id": "eDa8wC1jAIrC"
      },
      "execution_count": null,
      "outputs": []
    },
    {
      "cell_type": "code",
      "source": [
        "df.tail()"
      ],
      "metadata": {
        "colab": {
          "base_uri": "https://localhost:8080/",
          "height": 206
        },
        "id": "NKLQKvRbAlWR",
        "outputId": "a69330a3-a421-4c4c-be8e-4261c028d6b4"
      },
      "execution_count": null,
      "outputs": [
        {
          "output_type": "execute_result",
          "data": {
            "text/plain": [
              "    Review_ID                                             Review\n",
              "15         16  รอบนี้สั่งยำแบบรสหวาน อร่อยเลยค่ะ แต่เหมือนปริ...\n",
              "16         17  เหมือนรสชาติไม่ค่อยคงที่มั้ยคะครั้งที่แล้วสั่ง...\n",
              "17         18                          ผัดฟักทองเค็มนำไปหน่อยค่ะ\n",
              "18         19  สั่งมาครั้งที่ 2 แล้วค่ะ ตั้งแต่ย้ายร้าน เนื่อ...\n",
              "19         20  ผัดฟักทองรอบนี้เค็มโดดไป ส่วนยำมีไม่ค่อยเข้มข้..."
            ],
            "text/html": [
              "\n",
              "  <div id=\"df-2c7b06b7-88f0-4aad-aa4e-e39c1bdd216a\" class=\"colab-df-container\">\n",
              "    <div>\n",
              "<style scoped>\n",
              "    .dataframe tbody tr th:only-of-type {\n",
              "        vertical-align: middle;\n",
              "    }\n",
              "\n",
              "    .dataframe tbody tr th {\n",
              "        vertical-align: top;\n",
              "    }\n",
              "\n",
              "    .dataframe thead th {\n",
              "        text-align: right;\n",
              "    }\n",
              "</style>\n",
              "<table border=\"1\" class=\"dataframe\">\n",
              "  <thead>\n",
              "    <tr style=\"text-align: right;\">\n",
              "      <th></th>\n",
              "      <th>Review_ID</th>\n",
              "      <th>Review</th>\n",
              "    </tr>\n",
              "  </thead>\n",
              "  <tbody>\n",
              "    <tr>\n",
              "      <th>15</th>\n",
              "      <td>16</td>\n",
              "      <td>รอบนี้สั่งยำแบบรสหวาน อร่อยเลยค่ะ แต่เหมือนปริ...</td>\n",
              "    </tr>\n",
              "    <tr>\n",
              "      <th>16</th>\n",
              "      <td>17</td>\n",
              "      <td>เหมือนรสชาติไม่ค่อยคงที่มั้ยคะครั้งที่แล้วสั่ง...</td>\n",
              "    </tr>\n",
              "    <tr>\n",
              "      <th>17</th>\n",
              "      <td>18</td>\n",
              "      <td>ผัดฟักทองเค็มนำไปหน่อยค่ะ</td>\n",
              "    </tr>\n",
              "    <tr>\n",
              "      <th>18</th>\n",
              "      <td>19</td>\n",
              "      <td>สั่งมาครั้งที่ 2 แล้วค่ะ ตั้งแต่ย้ายร้าน เนื่อ...</td>\n",
              "    </tr>\n",
              "    <tr>\n",
              "      <th>19</th>\n",
              "      <td>20</td>\n",
              "      <td>ผัดฟักทองรอบนี้เค็มโดดไป ส่วนยำมีไม่ค่อยเข้มข้...</td>\n",
              "    </tr>\n",
              "  </tbody>\n",
              "</table>\n",
              "</div>\n",
              "    <div class=\"colab-df-buttons\">\n",
              "\n",
              "  <div class=\"colab-df-container\">\n",
              "    <button class=\"colab-df-convert\" onclick=\"convertToInteractive('df-2c7b06b7-88f0-4aad-aa4e-e39c1bdd216a')\"\n",
              "            title=\"Convert this dataframe to an interactive table.\"\n",
              "            style=\"display:none;\">\n",
              "\n",
              "  <svg xmlns=\"http://www.w3.org/2000/svg\" height=\"24px\" viewBox=\"0 -960 960 960\">\n",
              "    <path d=\"M120-120v-720h720v720H120Zm60-500h600v-160H180v160Zm220 220h160v-160H400v160Zm0 220h160v-160H400v160ZM180-400h160v-160H180v160Zm440 0h160v-160H620v160ZM180-180h160v-160H180v160Zm440 0h160v-160H620v160Z\"/>\n",
              "  </svg>\n",
              "    </button>\n",
              "\n",
              "  <style>\n",
              "    .colab-df-container {\n",
              "      display:flex;\n",
              "      gap: 12px;\n",
              "    }\n",
              "\n",
              "    .colab-df-convert {\n",
              "      background-color: #E8F0FE;\n",
              "      border: none;\n",
              "      border-radius: 50%;\n",
              "      cursor: pointer;\n",
              "      display: none;\n",
              "      fill: #1967D2;\n",
              "      height: 32px;\n",
              "      padding: 0 0 0 0;\n",
              "      width: 32px;\n",
              "    }\n",
              "\n",
              "    .colab-df-convert:hover {\n",
              "      background-color: #E2EBFA;\n",
              "      box-shadow: 0px 1px 2px rgba(60, 64, 67, 0.3), 0px 1px 3px 1px rgba(60, 64, 67, 0.15);\n",
              "      fill: #174EA6;\n",
              "    }\n",
              "\n",
              "    .colab-df-buttons div {\n",
              "      margin-bottom: 4px;\n",
              "    }\n",
              "\n",
              "    [theme=dark] .colab-df-convert {\n",
              "      background-color: #3B4455;\n",
              "      fill: #D2E3FC;\n",
              "    }\n",
              "\n",
              "    [theme=dark] .colab-df-convert:hover {\n",
              "      background-color: #434B5C;\n",
              "      box-shadow: 0px 1px 3px 1px rgba(0, 0, 0, 0.15);\n",
              "      filter: drop-shadow(0px 1px 2px rgba(0, 0, 0, 0.3));\n",
              "      fill: #FFFFFF;\n",
              "    }\n",
              "  </style>\n",
              "\n",
              "    <script>\n",
              "      const buttonEl =\n",
              "        document.querySelector('#df-2c7b06b7-88f0-4aad-aa4e-e39c1bdd216a button.colab-df-convert');\n",
              "      buttonEl.style.display =\n",
              "        google.colab.kernel.accessAllowed ? 'block' : 'none';\n",
              "\n",
              "      async function convertToInteractive(key) {\n",
              "        const element = document.querySelector('#df-2c7b06b7-88f0-4aad-aa4e-e39c1bdd216a');\n",
              "        const dataTable =\n",
              "          await google.colab.kernel.invokeFunction('convertToInteractive',\n",
              "                                                    [key], {});\n",
              "        if (!dataTable) return;\n",
              "\n",
              "        const docLinkHtml = 'Like what you see? Visit the ' +\n",
              "          '<a target=\"_blank\" href=https://colab.research.google.com/notebooks/data_table.ipynb>data table notebook</a>'\n",
              "          + ' to learn more about interactive tables.';\n",
              "        element.innerHTML = '';\n",
              "        dataTable['output_type'] = 'display_data';\n",
              "        await google.colab.output.renderOutput(dataTable, element);\n",
              "        const docLink = document.createElement('div');\n",
              "        docLink.innerHTML = docLinkHtml;\n",
              "        element.appendChild(docLink);\n",
              "      }\n",
              "    </script>\n",
              "  </div>\n",
              "\n",
              "\n",
              "<div id=\"df-cda3201f-cef4-408e-9df4-bcac9a7174e6\">\n",
              "  <button class=\"colab-df-quickchart\" onclick=\"quickchart('df-cda3201f-cef4-408e-9df4-bcac9a7174e6')\"\n",
              "            title=\"Suggest charts.\"\n",
              "            style=\"display:none;\">\n",
              "\n",
              "<svg xmlns=\"http://www.w3.org/2000/svg\" height=\"24px\"viewBox=\"0 0 24 24\"\n",
              "     width=\"24px\">\n",
              "    <g>\n",
              "        <path d=\"M19 3H5c-1.1 0-2 .9-2 2v14c0 1.1.9 2 2 2h14c1.1 0 2-.9 2-2V5c0-1.1-.9-2-2-2zM9 17H7v-7h2v7zm4 0h-2V7h2v10zm4 0h-2v-4h2v4z\"/>\n",
              "    </g>\n",
              "</svg>\n",
              "  </button>\n",
              "\n",
              "<style>\n",
              "  .colab-df-quickchart {\n",
              "    background-color: #E8F0FE;\n",
              "    border: none;\n",
              "    border-radius: 50%;\n",
              "    cursor: pointer;\n",
              "    display: none;\n",
              "    fill: #1967D2;\n",
              "    height: 32px;\n",
              "    padding: 0 0 0 0;\n",
              "    width: 32px;\n",
              "  }\n",
              "\n",
              "  .colab-df-quickchart:hover {\n",
              "    background-color: #E2EBFA;\n",
              "    box-shadow: 0px 1px 2px rgba(60, 64, 67, 0.3), 0px 1px 3px 1px rgba(60, 64, 67, 0.15);\n",
              "    fill: #174EA6;\n",
              "  }\n",
              "\n",
              "  [theme=dark] .colab-df-quickchart {\n",
              "    background-color: #3B4455;\n",
              "    fill: #D2E3FC;\n",
              "  }\n",
              "\n",
              "  [theme=dark] .colab-df-quickchart:hover {\n",
              "    background-color: #434B5C;\n",
              "    box-shadow: 0px 1px 3px 1px rgba(0, 0, 0, 0.15);\n",
              "    filter: drop-shadow(0px 1px 2px rgba(0, 0, 0, 0.3));\n",
              "    fill: #FFFFFF;\n",
              "  }\n",
              "</style>\n",
              "\n",
              "  <script>\n",
              "    async function quickchart(key) {\n",
              "      const charts = await google.colab.kernel.invokeFunction(\n",
              "          'suggestCharts', [key], {});\n",
              "    }\n",
              "    (() => {\n",
              "      let quickchartButtonEl =\n",
              "        document.querySelector('#df-cda3201f-cef4-408e-9df4-bcac9a7174e6 button');\n",
              "      quickchartButtonEl.style.display =\n",
              "        google.colab.kernel.accessAllowed ? 'block' : 'none';\n",
              "    })();\n",
              "  </script>\n",
              "</div>\n",
              "    </div>\n",
              "  </div>\n"
            ]
          },
          "metadata": {},
          "execution_count": 4
        }
      ]
    },
    {
      "cell_type": "markdown",
      "source": [
        "### Tokenize words"
      ],
      "metadata": {
        "id": "tdOnI67XAquj"
      }
    },
    {
      "cell_type": "code",
      "source": [
        "stopwords = list(pythainlp.corpus.thai_stopwords())\n",
        "removed_words = [' ', '  ', '\\n', 'ร้าน', 'ค่ะ', 'นะคะ', 'รส', 'รสชาติ', 'กิน', 'ทาน','นๆ','น', 'กก', 'ดดด', '(', ')', '/', '+', '.', '1', '2', '3', '4', '5', '6', '7', '8', '9', '55']\n",
        "screening_words = stopwords + removed_words\n",
        "\n",
        "def tokenize_with_space(sentence):\n",
        "  merged = ' '\n",
        "  words = pythainlp.word_tokenize(str(sentence), engine='newmm')\n",
        "  for word in words:\n",
        "    if word not in screening_words:\n",
        "      merged = merged + ',' + word\n",
        "  return merged[1:]"
      ],
      "metadata": {
        "id": "tXazuw4MAqYI"
      },
      "execution_count": null,
      "outputs": []
    },
    {
      "cell_type": "code",
      "source": [
        "df['Review_tokenized'] = df['Review'].apply(lambda x: tokenize_with_space(x))"
      ],
      "metadata": {
        "id": "QYQXsxrjCj0Q"
      },
      "execution_count": null,
      "outputs": []
    },
    {
      "cell_type": "code",
      "source": [
        "df.tail()"
      ],
      "metadata": {
        "colab": {
          "base_uri": "https://localhost:8080/",
          "height": 206
        },
        "id": "okg3CM_dC0yl",
        "outputId": "fbc3f382-769c-408b-b3c9-25f82fc4d356"
      },
      "execution_count": null,
      "outputs": [
        {
          "output_type": "execute_result",
          "data": {
            "text/plain": [
              "    Review_ID                                             Review  \\\n",
              "15         16  รอบนี้สั่งยำแบบรสหวาน อร่อยเลยค่ะ แต่เหมือนปริ...   \n",
              "16         17  เหมือนรสชาติไม่ค่อยคงที่มั้ยคะครั้งที่แล้วสั่ง...   \n",
              "17         18                          ผัดฟักทองเค็มนำไปหน่อยค่ะ   \n",
              "18         19  สั่งมาครั้งที่ 2 แล้วค่ะ ตั้งแต่ย้ายร้าน เนื่อ...   \n",
              "19         20  ผัดฟักทองรอบนี้เค็มโดดไป ส่วนยำมีไม่ค่อยเข้มข้...   \n",
              "\n",
              "                                     Review_tokenized  \n",
              "15     ,รอบ,สั่ง,ยำ,หวาน,อร่อย,เหมือน,ปริมาณ,แอบ,ลดลง  \n",
              "16   ,เหมือน,คงที่,สั่ง,เหมือน,ติด,หวาน,รอบ,หวาน,เค็ม  \n",
              "17                                   ,ผัด,ฟักทอง,เค็ม  \n",
              "18  ,สั่ง,ย้าย,บ้าน,ตอน,กระแส,สั่ง,ลอง,ตอนนี้,รู้,...  \n",
              "19         ,ผัด,ฟักทอง,รอบ,เค็ม,โดด,ยำ,เข้มข้น,ติด,ขม  "
            ],
            "text/html": [
              "\n",
              "  <div id=\"df-a4ee1d7b-b881-4a47-abe8-8cfa66560424\" class=\"colab-df-container\">\n",
              "    <div>\n",
              "<style scoped>\n",
              "    .dataframe tbody tr th:only-of-type {\n",
              "        vertical-align: middle;\n",
              "    }\n",
              "\n",
              "    .dataframe tbody tr th {\n",
              "        vertical-align: top;\n",
              "    }\n",
              "\n",
              "    .dataframe thead th {\n",
              "        text-align: right;\n",
              "    }\n",
              "</style>\n",
              "<table border=\"1\" class=\"dataframe\">\n",
              "  <thead>\n",
              "    <tr style=\"text-align: right;\">\n",
              "      <th></th>\n",
              "      <th>Review_ID</th>\n",
              "      <th>Review</th>\n",
              "      <th>Review_tokenized</th>\n",
              "    </tr>\n",
              "  </thead>\n",
              "  <tbody>\n",
              "    <tr>\n",
              "      <th>15</th>\n",
              "      <td>16</td>\n",
              "      <td>รอบนี้สั่งยำแบบรสหวาน อร่อยเลยค่ะ แต่เหมือนปริ...</td>\n",
              "      <td>,รอบ,สั่ง,ยำ,หวาน,อร่อย,เหมือน,ปริมาณ,แอบ,ลดลง</td>\n",
              "    </tr>\n",
              "    <tr>\n",
              "      <th>16</th>\n",
              "      <td>17</td>\n",
              "      <td>เหมือนรสชาติไม่ค่อยคงที่มั้ยคะครั้งที่แล้วสั่ง...</td>\n",
              "      <td>,เหมือน,คงที่,สั่ง,เหมือน,ติด,หวาน,รอบ,หวาน,เค็ม</td>\n",
              "    </tr>\n",
              "    <tr>\n",
              "      <th>17</th>\n",
              "      <td>18</td>\n",
              "      <td>ผัดฟักทองเค็มนำไปหน่อยค่ะ</td>\n",
              "      <td>,ผัด,ฟักทอง,เค็ม</td>\n",
              "    </tr>\n",
              "    <tr>\n",
              "      <th>18</th>\n",
              "      <td>19</td>\n",
              "      <td>สั่งมาครั้งที่ 2 แล้วค่ะ ตั้งแต่ย้ายร้าน เนื่อ...</td>\n",
              "      <td>,สั่ง,ย้าย,บ้าน,ตอน,กระแส,สั่ง,ลอง,ตอนนี้,รู้,...</td>\n",
              "    </tr>\n",
              "    <tr>\n",
              "      <th>19</th>\n",
              "      <td>20</td>\n",
              "      <td>ผัดฟักทองรอบนี้เค็มโดดไป ส่วนยำมีไม่ค่อยเข้มข้...</td>\n",
              "      <td>,ผัด,ฟักทอง,รอบ,เค็ม,โดด,ยำ,เข้มข้น,ติด,ขม</td>\n",
              "    </tr>\n",
              "  </tbody>\n",
              "</table>\n",
              "</div>\n",
              "    <div class=\"colab-df-buttons\">\n",
              "\n",
              "  <div class=\"colab-df-container\">\n",
              "    <button class=\"colab-df-convert\" onclick=\"convertToInteractive('df-a4ee1d7b-b881-4a47-abe8-8cfa66560424')\"\n",
              "            title=\"Convert this dataframe to an interactive table.\"\n",
              "            style=\"display:none;\">\n",
              "\n",
              "  <svg xmlns=\"http://www.w3.org/2000/svg\" height=\"24px\" viewBox=\"0 -960 960 960\">\n",
              "    <path d=\"M120-120v-720h720v720H120Zm60-500h600v-160H180v160Zm220 220h160v-160H400v160Zm0 220h160v-160H400v160ZM180-400h160v-160H180v160Zm440 0h160v-160H620v160ZM180-180h160v-160H180v160Zm440 0h160v-160H620v160Z\"/>\n",
              "  </svg>\n",
              "    </button>\n",
              "\n",
              "  <style>\n",
              "    .colab-df-container {\n",
              "      display:flex;\n",
              "      gap: 12px;\n",
              "    }\n",
              "\n",
              "    .colab-df-convert {\n",
              "      background-color: #E8F0FE;\n",
              "      border: none;\n",
              "      border-radius: 50%;\n",
              "      cursor: pointer;\n",
              "      display: none;\n",
              "      fill: #1967D2;\n",
              "      height: 32px;\n",
              "      padding: 0 0 0 0;\n",
              "      width: 32px;\n",
              "    }\n",
              "\n",
              "    .colab-df-convert:hover {\n",
              "      background-color: #E2EBFA;\n",
              "      box-shadow: 0px 1px 2px rgba(60, 64, 67, 0.3), 0px 1px 3px 1px rgba(60, 64, 67, 0.15);\n",
              "      fill: #174EA6;\n",
              "    }\n",
              "\n",
              "    .colab-df-buttons div {\n",
              "      margin-bottom: 4px;\n",
              "    }\n",
              "\n",
              "    [theme=dark] .colab-df-convert {\n",
              "      background-color: #3B4455;\n",
              "      fill: #D2E3FC;\n",
              "    }\n",
              "\n",
              "    [theme=dark] .colab-df-convert:hover {\n",
              "      background-color: #434B5C;\n",
              "      box-shadow: 0px 1px 3px 1px rgba(0, 0, 0, 0.15);\n",
              "      filter: drop-shadow(0px 1px 2px rgba(0, 0, 0, 0.3));\n",
              "      fill: #FFFFFF;\n",
              "    }\n",
              "  </style>\n",
              "\n",
              "    <script>\n",
              "      const buttonEl =\n",
              "        document.querySelector('#df-a4ee1d7b-b881-4a47-abe8-8cfa66560424 button.colab-df-convert');\n",
              "      buttonEl.style.display =\n",
              "        google.colab.kernel.accessAllowed ? 'block' : 'none';\n",
              "\n",
              "      async function convertToInteractive(key) {\n",
              "        const element = document.querySelector('#df-a4ee1d7b-b881-4a47-abe8-8cfa66560424');\n",
              "        const dataTable =\n",
              "          await google.colab.kernel.invokeFunction('convertToInteractive',\n",
              "                                                    [key], {});\n",
              "        if (!dataTable) return;\n",
              "\n",
              "        const docLinkHtml = 'Like what you see? Visit the ' +\n",
              "          '<a target=\"_blank\" href=https://colab.research.google.com/notebooks/data_table.ipynb>data table notebook</a>'\n",
              "          + ' to learn more about interactive tables.';\n",
              "        element.innerHTML = '';\n",
              "        dataTable['output_type'] = 'display_data';\n",
              "        await google.colab.output.renderOutput(dataTable, element);\n",
              "        const docLink = document.createElement('div');\n",
              "        docLink.innerHTML = docLinkHtml;\n",
              "        element.appendChild(docLink);\n",
              "      }\n",
              "    </script>\n",
              "  </div>\n",
              "\n",
              "\n",
              "<div id=\"df-2267a2dc-5df3-4939-950d-be3984ca805d\">\n",
              "  <button class=\"colab-df-quickchart\" onclick=\"quickchart('df-2267a2dc-5df3-4939-950d-be3984ca805d')\"\n",
              "            title=\"Suggest charts.\"\n",
              "            style=\"display:none;\">\n",
              "\n",
              "<svg xmlns=\"http://www.w3.org/2000/svg\" height=\"24px\"viewBox=\"0 0 24 24\"\n",
              "     width=\"24px\">\n",
              "    <g>\n",
              "        <path d=\"M19 3H5c-1.1 0-2 .9-2 2v14c0 1.1.9 2 2 2h14c1.1 0 2-.9 2-2V5c0-1.1-.9-2-2-2zM9 17H7v-7h2v7zm4 0h-2V7h2v10zm4 0h-2v-4h2v4z\"/>\n",
              "    </g>\n",
              "</svg>\n",
              "  </button>\n",
              "\n",
              "<style>\n",
              "  .colab-df-quickchart {\n",
              "    background-color: #E8F0FE;\n",
              "    border: none;\n",
              "    border-radius: 50%;\n",
              "    cursor: pointer;\n",
              "    display: none;\n",
              "    fill: #1967D2;\n",
              "    height: 32px;\n",
              "    padding: 0 0 0 0;\n",
              "    width: 32px;\n",
              "  }\n",
              "\n",
              "  .colab-df-quickchart:hover {\n",
              "    background-color: #E2EBFA;\n",
              "    box-shadow: 0px 1px 2px rgba(60, 64, 67, 0.3), 0px 1px 3px 1px rgba(60, 64, 67, 0.15);\n",
              "    fill: #174EA6;\n",
              "  }\n",
              "\n",
              "  [theme=dark] .colab-df-quickchart {\n",
              "    background-color: #3B4455;\n",
              "    fill: #D2E3FC;\n",
              "  }\n",
              "\n",
              "  [theme=dark] .colab-df-quickchart:hover {\n",
              "    background-color: #434B5C;\n",
              "    box-shadow: 0px 1px 3px 1px rgba(0, 0, 0, 0.15);\n",
              "    filter: drop-shadow(0px 1px 2px rgba(0, 0, 0, 0.3));\n",
              "    fill: #FFFFFF;\n",
              "  }\n",
              "</style>\n",
              "\n",
              "  <script>\n",
              "    async function quickchart(key) {\n",
              "      const charts = await google.colab.kernel.invokeFunction(\n",
              "          'suggestCharts', [key], {});\n",
              "    }\n",
              "    (() => {\n",
              "      let quickchartButtonEl =\n",
              "        document.querySelector('#df-2267a2dc-5df3-4939-950d-be3984ca805d button');\n",
              "      quickchartButtonEl.style.display =\n",
              "        google.colab.kernel.accessAllowed ? 'block' : 'none';\n",
              "    })();\n",
              "  </script>\n",
              "</div>\n",
              "    </div>\n",
              "  </div>\n"
            ]
          },
          "metadata": {},
          "execution_count": 25
        }
      ]
    },
    {
      "cell_type": "markdown",
      "source": [
        "### Create dictionary"
      ],
      "metadata": {
        "id": "QogXWMvQC9lN"
      }
    },
    {
      "cell_type": "code",
      "source": [
        "documents = df['Review_tokenized'].to_list()\n",
        "texts = [[text for text in doc.split(',')] for doc in documents]\n",
        "dictionary = gensim.corpora.Dictionary(texts)"
      ],
      "metadata": {
        "id": "m-4Va2gQDBZ4"
      },
      "execution_count": null,
      "outputs": []
    },
    {
      "cell_type": "code",
      "source": [
        "print(dictionary.token2id.keys())"
      ],
      "metadata": {
        "colab": {
          "base_uri": "https://localhost:8080/"
        },
        "id": "bDBjm22iDdlO",
        "outputId": "add1c397-7c87-4864-c8dd-f427cad88936"
      },
      "execution_count": null,
      "outputs": [
        {
          "output_type": "stream",
          "name": "stdout",
          "text": [
            "dict_keys(['', 'จัดจ้าน', 'จืด', 'ดี', 'ผัด', 'ฟักทอง', 'ยำ', 'หมายถึง', 'อร่อย', 'เผ็ด', 'กลิ่น', 'กะเพรา', 'กับข้าว', 'ขม', 'คน', 'ความคล้ายคลึง', 'คาดหวัง', 'จมูก', 'จับฉ่าย', 'จ้น', 'ชอบ', 'ชิม', 'ซอส', 'ซีอิ้ว', 'ดัน', 'ตำ', 'ตี', 'ทิศทาง', 'นิดนึง', 'นึง', 'น้ำ', 'บวบ', 'ปลายลิ้น', 'ฝา', 'ม', 'มัง', 'รสจัด', 'รอบ', 'รีวิว', 'รู้', 'ลอง', 'ลาบ', 'ล้างน้ำ', 'หน่อไม้', 'อันนี้', 'เขียว', 'เข้มข้น', 'เค็ม', 'เจ้', 'เปรี้ยว', 'เส้น', 'เหมือน', 'เห็ด', 'แกง', 'แกงเลียง', 'แก้ว', 'แม้แต่น้อย', 'โดด', 'โอเค', 'ใส่', 'ไข่เค็ม', 'ข้าว', 'คลี', 'ตุ๋น', 'บุก', 'ส่วนตัว', 'เวิร์ค', 'แปลก', 'เหมือนเดิม', 'ข้าวผัด', 'นุ่ม', 'สั่ง', 'หวาน', 'อาหาร', 'เชื่อม', 'กี้', 'ถั่วเหลือง', 'ถ้วย', 'สูตร', 'เหม็น', 'แน่ใจ', 'แบบนี้', 'แม็ก', 'ไหม', 'ตอน', 'ติด', 'ทำอาหาร', 'พลาสติก', 'รบกวน', 'ระวัง', 'เจอ', 'เศษ', 'ไข่', 'จึ้ง', 'ธรรมดา', 'ปริมาณ', 'ราคา', 'รู้สึก', 'เทียบ', 'แพง', 'คัน', 'ตล๊อดดดดด', 'หลี', 'เด็ด', 'Celery', 'Happy', 'Shot', 'ดีมาก', 'ตก', 'นัว', 'ฝีมือ', 'มีความสุข', 'อารมณ์', 'เพลิน', 'แม่', 'แรง', 'โดยรวม', 'ใจจริง', 'สำหรับ', 'action', 'take', 'ค่า', 'ติดใจ', 'หิว', 'ออเดอร์', 'เช็ค', 'เสียเวลา', 'แจ้ง', 'ไลน์', 'ไว', 'ดีขึ้น', 'โน๊ต', 'ลดลง', 'แอบ', 'คงที่', 'กระแส', 'การตลาด', 'ชาด', 'ตอนนี้', 'ถูกปาก', 'บ้าน', 'ประทับใจ', 'ย้าย', 'ระยะยาว', 'ระยะสั้น', 'แบ่ง'])\n"
          ]
        }
      ]
    },
    {
      "cell_type": "code",
      "source": [
        "gensim_corpus = [dictionary.doc2bow(text, allow_update=True) for text in texts]\n",
        "word_frequencies = [[(dictionary[id], frequence) for id, frequence in couple] for couple in gensim_corpus]"
      ],
      "metadata": {
        "id": "87SNpN9-FQJS"
      },
      "execution_count": null,
      "outputs": []
    },
    {
      "cell_type": "markdown",
      "source": [
        "### Topic modeling"
      ],
      "metadata": {
        "id": "L9PXEs4mGOhR"
      }
    },
    {
      "cell_type": "code",
      "source": [
        "num_topics = 20\n",
        "chunksize = 4000\n",
        "passes = 20\n",
        "iterations = 50\n",
        "eval_every = 1\n",
        "\n",
        "temp = dictionary[0]\n",
        "id2word = dictionary.id2token\n",
        "\n",
        "model = gensim.models.LdaModel(corpus=gensim_corpus, id2word=id2word, chunksize=chunksize, \\\n",
        "                               alpha='auto', eta='auto', \\\n",
        "                               iterations=iterations, num_topics=num_topics, \\\n",
        "                               passes=passes, eval_every=eval_every)"
      ],
      "metadata": {
        "id": "cxOeHpu6GQgG"
      },
      "execution_count": null,
      "outputs": []
    },
    {
      "cell_type": "code",
      "source": [
        "vis_data = pyLDAvis.gensim.prepare(model, gensim_corpus, dictionary, mds='mmds')"
      ],
      "metadata": {
        "colab": {
          "base_uri": "https://localhost:8080/"
        },
        "id": "nig6KC4zHaE4",
        "outputId": "aa30b86f-9bc8-49d5-aa1b-3af3bf25cb49"
      },
      "execution_count": null,
      "outputs": [
        {
          "output_type": "stream",
          "name": "stderr",
          "text": [
            "/usr/local/lib/python3.10/dist-packages/sklearn/manifold/_mds.py:299: FutureWarning: The default value of `normalized_stress` will change to `'auto'` in version 1.4. To suppress this warning, manually set the value of `normalized_stress`.\n",
            "  warnings.warn(\n"
          ]
        }
      ]
    },
    {
      "cell_type": "code",
      "source": [
        "vis_data"
      ],
      "metadata": {
        "colab": {
          "base_uri": "https://localhost:8080/",
          "height": 880
        },
        "id": "dhR-wJPvP_Oi",
        "outputId": "028c241a-fd33-468a-c75f-1421416b2c4b"
      },
      "execution_count": null,
      "outputs": [
        {
          "output_type": "execute_result",
          "data": {
            "text/plain": [
              "PreparedData(topic_coordinates=              x         y  topics  cluster       Freq\n",
              "topic                                                \n",
              "2      0.206563  0.062932       1        1  32.614154\n",
              "10     0.059483 -0.232346       2        1  13.949390\n",
              "8     -0.218907 -0.131958       3        1  10.053631\n",
              "18    -0.151776  0.202215       4        1   7.978151\n",
              "15     0.173833 -0.165377       5        1   7.963182\n",
              "17     0.185997 -0.074526       6        1   7.490899\n",
              "5      0.039848  0.221313       7        1   5.539372\n",
              "13    -0.090977 -0.152386       8        1   3.805857\n",
              "0     -0.163161  0.068049       9        1   3.459486\n",
              "4      0.039207  0.143098      10        1   3.459486\n",
              "11     0.102137 -0.014169      11        1   2.426465\n",
              "16    -0.020239  0.008129      12        1   0.142938\n",
              "1     -0.020220  0.008110      13        1   0.142908\n",
              "3     -0.020247  0.008130      14        1   0.142825\n",
              "9     -0.020257  0.008131      15        1   0.138543\n",
              "12    -0.020257  0.008131      16        1   0.138543\n",
              "7     -0.020257  0.008131      17        1   0.138543\n",
              "14    -0.020257  0.008131      18        1   0.138543\n",
              "6     -0.020257  0.008131      19        1   0.138543\n",
              "19    -0.020257  0.008131      20        1   0.138543, topic_info=      Term       Freq      Total Category  logprob  loglift\n",
              "47    เค็ม   6.000000   6.000000  Default  30.0000  30.0000\n",
              "8    อร่อย  10.000000  10.000000  Default  29.0000  29.0000\n",
              "51  เหมือน   5.000000   5.000000  Default  28.0000  28.0000\n",
              "0           15.000000  15.000000  Default  27.0000  27.0000\n",
              "37     รอบ   7.000000   7.000000  Default  26.0000  26.0000\n",
              "..     ...        ...        ...      ...      ...      ...\n",
              "25      ตำ   0.002733   1.328024  Topic20  -4.9836   0.3957\n",
              "26      ตี   0.002733   1.328024  Topic20  -4.9836   0.3957\n",
              "27  ทิศทาง   0.002733   2.085964  Topic20  -4.9836  -0.0559\n",
              "28  นิดนึง   0.002733   1.328023  Topic20  -4.9836   0.3957\n",
              "29     นึง   0.002733   1.328028  Topic20  -4.9836   0.3957\n",
              "\n",
              "[1038 rows x 6 columns], token_table=      Topic      Freq     Term\n",
              "term                          \n",
              "0         1  0.258691         \n",
              "0         2  0.194018         \n",
              "0         3  0.064673         \n",
              "0         4  0.064673         \n",
              "0         5  0.194018         \n",
              "...     ...       ...      ...\n",
              "92        6  0.872584      ไข่\n",
              "60        1  0.753007  ไข่เค็ม\n",
              "128       7  0.913662     ไลน์\n",
              "129       7  0.913662       ไว\n",
              "83        2  0.805436      ไหม\n",
              "\n",
              "[226 rows x 3 columns], R=30, lambda_step=0.01, plot_opts={'xlab': 'PC1', 'ylab': 'PC2'}, topic_order=[3, 11, 9, 19, 16, 18, 6, 14, 1, 5, 12, 17, 2, 4, 10, 13, 8, 15, 7, 20])"
            ],
            "text/html": [
              "\n",
              "<link rel=\"stylesheet\" type=\"text/css\" href=\"https://cdn.jsdelivr.net/gh/bmabey/pyLDAvis@3.4.0/pyLDAvis/js/ldavis.v1.0.0.css\">\n",
              "\n",
              "\n",
              "<div id=\"ldavis_el207111361489206911529697776452\" style=\"background-color:white;\"></div>\n",
              "<script type=\"text/javascript\">\n",
              "\n",
              "var ldavis_el207111361489206911529697776452_data = {\"mdsDat\": {\"x\": [0.20656267372915724, 0.05948335118887273, -0.21890708861025937, -0.15177606274221145, 0.17383281908345766, 0.18599714303539694, 0.03984838984994444, -0.09097657432060444, -0.16316114758904457, 0.03920696080344056, 0.1021365497246347, -0.020238771514014927, -0.020219675635007796, -0.020246875087834054, -0.0202569578737502, -0.020256944418339442, -0.02025695342660767, -0.020256950896134093, -0.02025694745224407, -0.020256937848852227], \"y\": [0.06293240657870128, -0.23234610622787877, -0.13195781601341758, 0.20221524661163284, -0.1653772496824058, -0.07452582678027632, 0.22131250729902205, -0.15238576401973258, 0.06804897948736288, 0.1430976621792276, -0.014168564732906603, 0.008128647235232584, 0.008110331629226569, 0.008129985806847168, 0.008130898512046935, 0.008130949967027101, 0.008130914109911586, 0.008130936060866168, 0.008130926062338721, 0.008130935917174243], \"topics\": [1, 2, 3, 4, 5, 6, 7, 8, 9, 10, 11, 12, 13, 14, 15, 16, 17, 18, 19, 20], \"cluster\": [1, 1, 1, 1, 1, 1, 1, 1, 1, 1, 1, 1, 1, 1, 1, 1, 1, 1, 1, 1], \"Freq\": [32.61415360836953, 13.949389669878038, 10.053631145125749, 7.978150675445356, 7.963182172054147, 7.490899180061185, 5.5393724735571475, 3.805857147764401, 3.45948561517115, 3.4594855375912523, 2.4264653423537923, 0.14293778243547278, 0.14290784635696108, 0.14282543702245593, 0.13854272780222782, 0.13854272780222782, 0.13854272780222782, 0.13854272780222782, 0.13854272780222782, 0.13854272780222782]}, \"tinfo\": {\"Term\": [\"\\u0e40\\u0e04\\u0e47\\u0e21\", \"\\u0e2d\\u0e23\\u0e48\\u0e2d\\u0e22\", \"\\u0e40\\u0e2b\\u0e21\\u0e37\\u0e2d\\u0e19\", \"\", \"\\u0e23\\u0e2d\\u0e1a\", \"\\u0e1c\\u0e31\\u0e14\", \"\\u0e22\\u0e33\", \"\\u0e2a\\u0e31\\u0e48\\u0e07\", \"\\u0e42\\u0e14\\u0e14\", \"\\u0e1f\\u0e31\\u0e01\\u0e17\\u0e2d\\u0e07\", \"\\u0e08\\u0e37\\u0e14\", \"\\u0e40\\u0e02\\u0e49\\u0e21\\u0e02\\u0e49\\u0e19\", \"\\u0e2b\\u0e27\\u0e32\\u0e19\", \"\\u0e23\\u0e2a\\u0e08\\u0e31\\u0e14\", \"\\u0e40\\u0e2b\\u0e47\\u0e14\", \"\\u0e40\\u0e1b\\u0e23\\u0e35\\u0e49\\u0e22\\u0e27\", \"\\u0e02\\u0e49\\u0e32\\u0e27\", \"\\u0e02\\u0e21\", \"\\u0e15\\u0e38\\u0e4b\\u0e19\", \"\\u0e15\\u0e34\\u0e14\", \"\\u0e40\\u0e2a\\u0e49\\u0e19\", \"\\u0e14\\u0e35\", \"\\u0e08\\u0e31\\u0e1a\\u0e09\\u0e48\\u0e32\\u0e22\", \"\\u0e01\\u0e30\\u0e40\\u0e1e\\u0e23\\u0e32\", \"\\u0e43\\u0e2a\\u0e48\", \"\\u0e14\\u0e31\\u0e19\", \"\\u0e14\\u0e35\\u0e21\\u0e32\\u0e01\", \"\\u0e41\\u0e01\\u0e07\\u0e40\\u0e25\\u0e35\\u0e22\\u0e07\", \"\\u0e21\\u0e31\\u0e07\", \"\\u0e1b\\u0e23\\u0e34\\u0e21\\u0e32\\u0e13\", \"\\u0e23\\u0e2a\\u0e08\\u0e31\\u0e14\", \"\\u0e40\\u0e2b\\u0e47\\u0e14\", \"\\u0e40\\u0e04\\u0e47\\u0e21\", \"\\u0e01\\u0e30\\u0e40\\u0e1e\\u0e23\\u0e32\", \"\\u0e43\\u0e2a\\u0e48\", \"\\u0e08\\u0e31\\u0e1a\\u0e09\\u0e48\\u0e32\\u0e22\", \"\\u0e14\\u0e31\\u0e19\", \"\\u0e04\\u0e31\\u0e19\", \"\\u0e15\\u0e25\\u0e4a\\u0e2d\\u0e14\\u0e14\\u0e14\\u0e14\\u0e14\", \"\\u0e2b\\u0e25\\u0e35\", \"\\u0e40\\u0e14\\u0e47\\u0e14\", \"\\u0e41\\u0e21\\u0e49\\u0e41\\u0e15\\u0e48\\u0e19\\u0e49\\u0e2d\\u0e22\", \"\\u0e2d\\u0e31\\u0e19\\u0e19\\u0e35\\u0e49\", \"\\u0e25\\u0e32\\u0e1a\", \"\\u0e25\\u0e49\\u0e32\\u0e07\\u0e19\\u0e49\\u0e33\", \"\\u0e08\\u0e49\\u0e19\", \"\\u0e41\\u0e01\\u0e07\", \"\\u0e23\\u0e35\\u0e27\\u0e34\\u0e27\", \"\\u0e15\\u0e33\", \"\\u0e01\\u0e31\\u0e1a\\u0e02\\u0e49\\u0e32\\u0e27\", \"\\u0e0a\\u0e34\\u0e21\", \"\\u0e19\\u0e34\\u0e14\\u0e19\\u0e36\\u0e07\", \"\\u0e04\\u0e32\\u0e14\\u0e2b\\u0e27\\u0e31\\u0e07\", \"\\u0e08\\u0e21\\u0e39\\u0e01\", \"\\u0e1b\\u0e25\\u0e32\\u0e22\\u0e25\\u0e34\\u0e49\\u0e19\", \"\\u0e40\\u0e08\\u0e49\", \"\\u0e1a\\u0e27\\u0e1a\", \"\\u0e2b\\u0e19\\u0e48\\u0e2d\\u0e44\\u0e21\\u0e49\", \"\\u0e04\\u0e19\", \"\\u0e19\\u0e36\\u0e07\", \"\\u0e40\\u0e02\\u0e49\\u0e21\\u0e02\\u0e49\\u0e19\", \"\\u0e1c\\u0e31\\u0e14\", \"\\u0e42\\u0e14\\u0e14\", \"\\u0e02\\u0e21\", \"\\u0e1f\\u0e31\\u0e01\\u0e17\\u0e2d\\u0e07\", \"\\u0e08\\u0e37\\u0e14\", \"\", \"\\u0e40\\u0e1b\\u0e23\\u0e35\\u0e49\\u0e22\\u0e27\", \"\\u0e40\\u0e2b\\u0e21\\u0e37\\u0e2d\\u0e19\", \"\\u0e22\\u0e33\", \"\\u0e23\\u0e2d\\u0e1a\", \"\\u0e2d\\u0e23\\u0e48\\u0e2d\\u0e22\", \"\\u0e15\\u0e34\\u0e14\", \"\\u0e01\\u0e25\\u0e34\\u0e48\\u0e19\", \"\\u0e01\\u0e35\\u0e49\", \"\\u0e16\\u0e31\\u0e48\\u0e27\\u0e40\\u0e2b\\u0e25\\u0e37\\u0e2d\\u0e07\", \"\\u0e16\\u0e49\\u0e27\\u0e22\", \"\\u0e2a\\u0e39\\u0e15\\u0e23\", \"\\u0e40\\u0e2b\\u0e21\\u0e47\\u0e19\", \"\\u0e41\\u0e19\\u0e48\\u0e43\\u0e08\", \"\\u0e41\\u0e1a\\u0e1a\\u0e19\\u0e35\\u0e49\", \"\\u0e41\\u0e21\\u0e47\\u0e01\", \"\\u0e44\\u0e2b\\u0e21\", \"\\u0e14\\u0e35\\u0e02\\u0e36\\u0e49\\u0e19\", \"\\u0e42\\u0e19\\u0e4a\\u0e15\", \"\\u0e25\\u0e14\\u0e25\\u0e07\", \"\\u0e41\\u0e2d\\u0e1a\", \"\\u0e23\\u0e2d\\u0e1a\", \"\\u0e0b\\u0e2d\\u0e2a\", \"\\u0e40\\u0e02\\u0e35\\u0e22\\u0e27\", \"\\u0e1d\\u0e32\", \"\\u0e01\\u0e25\\u0e34\\u0e48\\u0e19\", \"\\u0e40\\u0e1b\\u0e23\\u0e35\\u0e49\\u0e22\\u0e27\", \"\\u0e42\\u0e14\\u0e14\", \"\\u0e1b\\u0e23\\u0e34\\u0e21\\u0e32\\u0e13\", \"\\u0e2a\\u0e31\\u0e48\\u0e07\", \"\\u0e2b\\u0e27\\u0e32\\u0e19\", \"\\u0e22\\u0e33\", \"\\u0e1f\\u0e31\\u0e01\\u0e17\\u0e2d\\u0e07\", \"\\u0e1c\\u0e31\\u0e14\", \"\", \"\\u0e2d\\u0e23\\u0e48\\u0e2d\\u0e22\", \"\\u0e40\\u0e2b\\u0e21\\u0e37\\u0e2d\\u0e19\", \"\\u0e40\\u0e2b\\u0e21\\u0e37\\u0e2d\\u0e19\\u0e40\\u0e14\\u0e34\\u0e21\", \"\\u0e08\\u0e31\\u0e14\\u0e08\\u0e49\\u0e32\\u0e19\", \"Celery\", \"Happy\", \"Shot\", \"\\u0e15\\u0e01\", \"\\u0e19\\u0e31\\u0e27\", \"\\u0e1d\\u0e35\\u0e21\\u0e37\\u0e2d\", \"\\u0e21\\u0e35\\u0e04\\u0e27\\u0e32\\u0e21\\u0e2a\\u0e38\\u0e02\", \"\\u0e2d\\u0e32\\u0e23\\u0e21\\u0e13\\u0e4c\", \"\\u0e40\\u0e1e\\u0e25\\u0e34\\u0e19\", \"\\u0e41\\u0e21\\u0e48\", \"\\u0e41\\u0e23\\u0e07\", \"\\u0e42\\u0e14\\u0e22\\u0e23\\u0e27\\u0e21\", \"\\u0e43\\u0e08\\u0e08\\u0e23\\u0e34\\u0e07\", \"\\u0e15\\u0e38\\u0e4b\\u0e19\", \"\\u0e14\\u0e35\\u0e21\\u0e32\\u0e01\", \"\\u0e02\\u0e49\\u0e32\\u0e27\", \"\\u0e0a\\u0e2d\\u0e1a\", \"\\u0e41\\u0e01\\u0e49\\u0e27\", \"\\u0e23\\u0e32\\u0e04\\u0e32\", \"\\u0e40\\u0e2a\\u0e49\\u0e19\", \"\\u0e2d\\u0e23\\u0e48\\u0e2d\\u0e22\", \"\\u0e40\\u0e2b\\u0e21\\u0e37\\u0e2d\\u0e19\", \"\\u0e22\\u0e33\", \"\", \"\\u0e40\\u0e2b\\u0e21\\u0e37\\u0e2d\\u0e19\\u0e40\\u0e14\\u0e34\\u0e21\", \"\\u0e04\\u0e07\\u0e17\\u0e35\\u0e48\", \"\\u0e02\\u0e49\\u0e32\\u0e27\\u0e1c\\u0e31\\u0e14\", \"\\u0e19\\u0e38\\u0e48\\u0e21\", \"\\u0e40\\u0e0a\\u0e37\\u0e48\\u0e2d\\u0e21\", \"\\u0e1a\\u0e38\\u0e01\", \"\\u0e08\\u0e31\\u0e14\\u0e08\\u0e49\\u0e32\\u0e19\", \"\\u0e08\\u0e37\\u0e14\", \"\\u0e14\\u0e35\", \"\\u0e1c\\u0e31\\u0e14\", \"\\u0e1f\\u0e31\\u0e01\\u0e17\\u0e2d\\u0e07\", \"\\u0e2b\\u0e21\\u0e32\\u0e22\\u0e16\\u0e36\\u0e07\", \"\\u0e01\\u0e23\\u0e30\\u0e41\\u0e2a\", \"\\u0e01\\u0e32\\u0e23\\u0e15\\u0e25\\u0e32\\u0e14\", \"\\u0e0a\\u0e32\\u0e14\", \"\\u0e15\\u0e2d\\u0e19\\u0e19\\u0e35\\u0e49\", \"\\u0e16\\u0e39\\u0e01\\u0e1b\\u0e32\\u0e01\", \"\\u0e1a\\u0e49\\u0e32\\u0e19\", \"\\u0e1b\\u0e23\\u0e30\\u0e17\\u0e31\\u0e1a\\u0e43\\u0e08\", \"\\u0e22\\u0e49\\u0e32\\u0e22\", \"\\u0e23\\u0e30\\u0e22\\u0e30\\u0e22\\u0e32\\u0e27\", \"\\u0e23\\u0e30\\u0e22\\u0e30\\u0e2a\\u0e31\\u0e49\\u0e19\", \"\\u0e41\\u0e1a\\u0e48\\u0e07\", \"\\u0e15\\u0e2d\\u0e19\", \"\\u0e25\\u0e2d\\u0e07\", \"\\u0e23\\u0e39\\u0e49\", \"\\u0e17\\u0e34\\u0e28\\u0e17\\u0e32\\u0e07\", \"\\u0e23\\u0e32\\u0e04\\u0e32\", \"\\u0e1b\\u0e23\\u0e34\\u0e21\\u0e32\\u0e13\", \"\\u0e14\\u0e35\\u0e21\\u0e32\\u0e01\", \"\\u0e2a\\u0e31\\u0e48\\u0e07\", \"\\u0e23\\u0e2d\\u0e1a\", \"\", \"\\u0e40\\u0e2b\\u0e21\\u0e37\\u0e2d\\u0e19\\u0e40\\u0e14\\u0e34\\u0e21\", \"\\u0e04\\u0e07\\u0e17\\u0e35\\u0e48\", \"\\u0e02\\u0e49\\u0e32\\u0e27\\u0e1c\\u0e31\\u0e14\", \"\\u0e19\\u0e38\\u0e48\\u0e21\", \"\\u0e40\\u0e0a\\u0e37\\u0e48\\u0e2d\\u0e21\", \"\\u0e1a\\u0e38\\u0e01\", \"\\u0e2a\\u0e48\\u0e27\\u0e19\\u0e15\\u0e31\\u0e27\", \"\\u0e40\\u0e27\\u0e34\\u0e23\\u0e4c\\u0e04\", \"\\u0e41\\u0e1b\\u0e25\\u0e01\", \"\\u0e40\\u0e04\\u0e47\\u0e21\", \"\\u0e19\\u0e49\\u0e33\", \"\\u0e44\\u0e02\\u0e48\\u0e40\\u0e04\\u0e47\\u0e21\", \"\\u0e04\\u0e27\\u0e32\\u0e21\\u0e04\\u0e25\\u0e49\\u0e32\\u0e22\\u0e04\\u0e25\\u0e36\\u0e07\", \"\\u0e15\\u0e35\", \"\\u0e0b\\u0e35\\u0e2d\\u0e34\\u0e49\\u0e27\", \"\\u0e19\\u0e36\\u0e07\", \"\\u0e2b\\u0e19\\u0e48\\u0e2d\\u0e44\\u0e21\\u0e49\", \"\\u0e1c\\u0e31\\u0e14\", \"\\u0e1f\\u0e31\\u0e01\\u0e17\\u0e2d\\u0e07\", \"\\u0e40\\u0e2b\\u0e47\\u0e14\", \"\\u0e08\\u0e37\\u0e14\", \"\\u0e23\\u0e2a\\u0e08\\u0e31\\u0e14\", \"\\u0e14\\u0e31\\u0e19\", \"\\u0e40\\u0e1b\\u0e23\\u0e35\\u0e49\\u0e22\\u0e27\", \"\\u0e43\\u0e2a\\u0e48\", \"\\u0e2b\\u0e21\\u0e32\\u0e22\\u0e16\\u0e36\\u0e07\", \"\\u0e08\\u0e31\\u0e14\\u0e08\\u0e49\\u0e32\\u0e19\", \"\\u0e40\\u0e1c\\u0e47\\u0e14\", \"\\u0e08\\u0e36\\u0e49\\u0e07\", \"\\u0e18\\u0e23\\u0e23\\u0e21\\u0e14\\u0e32\", \"\\u0e40\\u0e17\\u0e35\\u0e22\\u0e1a\", \"\\u0e41\\u0e1e\\u0e07\", \"\\u0e14\\u0e35\", \"\\u0e23\\u0e39\\u0e49\\u0e2a\\u0e36\\u0e01\", \"\\u0e23\\u0e32\\u0e04\\u0e32\", \"\\u0e1b\\u0e23\\u0e34\\u0e21\\u0e32\\u0e13\", \"\\u0e08\\u0e37\\u0e14\", \"\\u0e2d\\u0e23\\u0e48\\u0e2d\\u0e22\", \"\", \"\\u0e22\\u0e33\", \"\\u0e1f\\u0e31\\u0e01\\u0e17\\u0e2d\\u0e07\", \"\\u0e1c\\u0e31\\u0e14\", \"\\u0e40\\u0e2b\\u0e21\\u0e37\\u0e2d\\u0e19\\u0e40\\u0e14\\u0e34\\u0e21\", \"\\u0e04\\u0e07\\u0e17\\u0e35\\u0e48\", \"\\u0e02\\u0e49\\u0e32\\u0e27\\u0e1c\\u0e31\\u0e14\", \"\\u0e19\\u0e38\\u0e48\\u0e21\", \"\\u0e40\\u0e0a\\u0e37\\u0e48\\u0e2d\\u0e21\", \"\\u0e1a\\u0e38\\u0e01\", \"\\u0e2a\\u0e48\\u0e27\\u0e19\\u0e15\\u0e31\\u0e27\", \"\\u0e40\\u0e27\\u0e34\\u0e23\\u0e4c\\u0e04\", \"\\u0e41\\u0e1b\\u0e25\\u0e01\", \"action\", \"take\", \"\\u0e04\\u0e48\\u0e32\", \"\\u0e15\\u0e34\\u0e14\\u0e43\\u0e08\", \"\\u0e01\\u0e25\\u0e34\\u0e48\\u0e19\", \"\\u0e01\\u0e30\\u0e40\\u0e1e\\u0e23\\u0e32\", \"\\u0e01\\u0e31\\u0e1a\\u0e02\\u0e49\\u0e32\\u0e27\", \"\\u0e02\\u0e21\", \"\\u0e04\\u0e19\", \"\\u0e04\\u0e27\\u0e32\\u0e21\\u0e04\\u0e25\\u0e49\\u0e32\\u0e22\\u0e04\\u0e25\\u0e36\\u0e07\", \"\\u0e04\\u0e32\\u0e14\\u0e2b\\u0e27\\u0e31\\u0e07\", \"\\u0e08\\u0e21\\u0e39\\u0e01\", \"\\u0e08\\u0e31\\u0e1a\\u0e09\\u0e48\\u0e32\\u0e22\", \"\\u0e08\\u0e49\\u0e19\", \"\\u0e0a\\u0e2d\\u0e1a\", \"\\u0e0a\\u0e34\\u0e21\", \"\\u0e0b\\u0e2d\\u0e2a\", \"\\u0e2a\\u0e33\\u0e2b\\u0e23\\u0e31\\u0e1a\", \"\\u0e1e\\u0e25\\u0e32\\u0e2a\\u0e15\\u0e34\\u0e01\", \"\\u0e40\\u0e28\\u0e29\", \"\\u0e40\\u0e08\\u0e2d\", \"\\u0e17\\u0e33\\u0e2d\\u0e32\\u0e2b\\u0e32\\u0e23\", \"\\u0e23\\u0e30\\u0e27\\u0e31\\u0e07\", \"\\u0e44\\u0e02\\u0e48\", \"\\u0e2d\\u0e32\\u0e2b\\u0e32\\u0e23\", \"\\u0e04\\u0e25\\u0e35\", \"\\u0e23\\u0e1a\\u0e01\\u0e27\\u0e19\", \"\\u0e15\\u0e2d\\u0e19\", \"\\u0e42\\u0e2d\\u0e40\\u0e04\", \"\\u0e15\\u0e34\\u0e14\", \"\\u0e02\\u0e21\", \"\\u0e40\\u0e1b\\u0e23\\u0e35\\u0e49\\u0e22\\u0e27\", \"\\u0e22\\u0e33\", \"\\u0e1f\\u0e31\\u0e01\\u0e17\\u0e2d\\u0e07\", \"\\u0e23\\u0e2d\\u0e1a\", \"\", \"\\u0e1c\\u0e31\\u0e14\", \"\\u0e2d\\u0e23\\u0e48\\u0e2d\\u0e22\", \"\\u0e40\\u0e2b\\u0e21\\u0e37\\u0e2d\\u0e19\\u0e40\\u0e14\\u0e34\\u0e21\", \"\\u0e04\\u0e07\\u0e17\\u0e35\\u0e48\", \"\\u0e02\\u0e49\\u0e32\\u0e27\\u0e1c\\u0e31\\u0e14\", \"\\u0e19\\u0e38\\u0e48\\u0e21\", \"\\u0e40\\u0e0a\\u0e37\\u0e48\\u0e2d\\u0e21\", \"\\u0e1a\\u0e38\\u0e01\", \"\\u0e2a\\u0e48\\u0e27\\u0e19\\u0e15\\u0e31\\u0e27\", \"\\u0e40\\u0e27\\u0e34\\u0e23\\u0e4c\\u0e04\", \"\\u0e41\\u0e1b\\u0e25\\u0e01\", \"\\u0e08\\u0e31\\u0e14\\u0e08\\u0e49\\u0e32\\u0e19\", \"\\u0e08\\u0e37\\u0e14\", \"\\u0e14\\u0e35\", \"\\u0e2b\\u0e21\\u0e32\\u0e22\\u0e16\\u0e36\\u0e07\", \"\\u0e40\\u0e1c\\u0e47\\u0e14\", \"\\u0e01\\u0e25\\u0e34\\u0e48\\u0e19\", \"\\u0e01\\u0e30\\u0e40\\u0e1e\\u0e23\\u0e32\", \"\\u0e01\\u0e31\\u0e1a\\u0e02\\u0e49\\u0e32\\u0e27\", \"\\u0e04\\u0e19\", \"action\", \"take\", \"\\u0e04\\u0e48\\u0e32\", \"\\u0e15\\u0e34\\u0e14\\u0e43\\u0e08\", \"\\u0e2b\\u0e34\\u0e27\", \"\\u0e2d\\u0e2d\\u0e40\\u0e14\\u0e2d\\u0e23\\u0e4c\", \"\\u0e40\\u0e0a\\u0e47\\u0e04\", \"\\u0e40\\u0e2a\\u0e35\\u0e22\\u0e40\\u0e27\\u0e25\\u0e32\", \"\\u0e41\\u0e08\\u0e49\\u0e07\", \"\\u0e44\\u0e25\\u0e19\\u0e4c\", \"\\u0e44\\u0e27\", \"\\u0e23\\u0e39\\u0e49\\u0e2a\\u0e36\\u0e01\", \"\\u0e23\\u0e1a\\u0e01\\u0e27\\u0e19\", \"\\u0e2a\\u0e31\\u0e48\\u0e07\", \"\\u0e2d\\u0e23\\u0e48\\u0e2d\\u0e22\", \"\", \"\\u0e40\\u0e2b\\u0e21\\u0e37\\u0e2d\\u0e19\\u0e40\\u0e14\\u0e34\\u0e21\", \"\\u0e04\\u0e07\\u0e17\\u0e35\\u0e48\", \"\\u0e02\\u0e49\\u0e32\\u0e27\\u0e1c\\u0e31\\u0e14\", \"\\u0e19\\u0e38\\u0e48\\u0e21\", \"\\u0e40\\u0e0a\\u0e37\\u0e48\\u0e2d\\u0e21\", \"\\u0e1a\\u0e38\\u0e01\", \"\\u0e2a\\u0e48\\u0e27\\u0e19\\u0e15\\u0e31\\u0e27\", \"\\u0e40\\u0e27\\u0e34\\u0e23\\u0e4c\\u0e04\", \"\\u0e41\\u0e1b\\u0e25\\u0e01\", \"\\u0e08\\u0e36\\u0e49\\u0e07\", \"\\u0e18\\u0e23\\u0e23\\u0e21\\u0e14\\u0e32\", \"\\u0e40\\u0e17\\u0e35\\u0e22\\u0e1a\", \"\\u0e41\\u0e1e\\u0e07\", \"\\u0e08\\u0e31\\u0e14\\u0e08\\u0e49\\u0e32\\u0e19\", \"\\u0e08\\u0e37\\u0e14\", \"\\u0e14\\u0e35\", \"\\u0e1c\\u0e31\\u0e14\", \"\\u0e1f\\u0e31\\u0e01\\u0e17\\u0e2d\\u0e07\", \"\\u0e22\\u0e33\", \"\\u0e2b\\u0e21\\u0e32\\u0e22\\u0e16\\u0e36\\u0e07\", \"\\u0e40\\u0e1c\\u0e47\\u0e14\", \"\\u0e01\\u0e25\\u0e34\\u0e48\\u0e19\", \"\\u0e01\\u0e30\\u0e40\\u0e1e\\u0e23\\u0e32\", \"\\u0e01\\u0e31\\u0e1a\\u0e02\\u0e49\\u0e32\\u0e27\", \"\\u0e02\\u0e21\", \"\\u0e04\\u0e19\", \"\\u0e04\\u0e27\\u0e32\\u0e21\\u0e04\\u0e25\\u0e49\\u0e32\\u0e22\\u0e04\\u0e25\\u0e36\\u0e07\", \"\\u0e1a\\u0e38\\u0e01\", \"\\u0e2a\\u0e48\\u0e27\\u0e19\\u0e15\\u0e31\\u0e27\", \"\\u0e40\\u0e27\\u0e34\\u0e23\\u0e4c\\u0e04\", \"\\u0e41\\u0e1b\\u0e25\\u0e01\", \"\\u0e04\\u0e25\\u0e35\", \"\\u0e14\\u0e35\", \"\\u0e15\\u0e38\\u0e4b\\u0e19\", \"\\u0e40\\u0e2a\\u0e49\\u0e19\", \"\\u0e02\\u0e49\\u0e32\\u0e27\", \"\\u0e1c\\u0e31\\u0e14\", \"\", \"\\u0e40\\u0e2b\\u0e21\\u0e37\\u0e2d\\u0e19\\u0e40\\u0e14\\u0e34\\u0e21\", \"\\u0e04\\u0e07\\u0e17\\u0e35\\u0e48\", \"\\u0e02\\u0e49\\u0e32\\u0e27\\u0e1c\\u0e31\\u0e14\", \"\\u0e19\\u0e38\\u0e48\\u0e21\", \"\\u0e40\\u0e0a\\u0e37\\u0e48\\u0e2d\\u0e21\", \"action\", \"take\", \"\\u0e04\\u0e48\\u0e32\", \"\\u0e15\\u0e34\\u0e14\\u0e43\\u0e08\", \"\\u0e2b\\u0e34\\u0e27\", \"\\u0e2d\\u0e2d\\u0e40\\u0e14\\u0e2d\\u0e23\\u0e4c\", \"\\u0e40\\u0e0a\\u0e47\\u0e04\", \"\\u0e40\\u0e2a\\u0e35\\u0e22\\u0e40\\u0e27\\u0e25\\u0e32\", \"\\u0e41\\u0e08\\u0e49\\u0e07\", \"\\u0e44\\u0e25\\u0e19\\u0e4c\", \"\\u0e44\\u0e27\", \"\\u0e08\\u0e36\\u0e49\\u0e07\", \"\\u0e18\\u0e23\\u0e23\\u0e21\\u0e14\\u0e32\", \"\\u0e40\\u0e17\\u0e35\\u0e22\\u0e1a\", \"\\u0e08\\u0e31\\u0e14\\u0e08\\u0e49\\u0e32\\u0e19\", \"\\u0e08\\u0e37\\u0e14\", \"\\u0e1f\\u0e31\\u0e01\\u0e17\\u0e2d\\u0e07\", \"\\u0e22\\u0e33\", \"\\u0e2b\\u0e21\\u0e32\\u0e22\\u0e16\\u0e36\\u0e07\", \"\\u0e2d\\u0e23\\u0e48\\u0e2d\\u0e22\", \"\\u0e40\\u0e1c\\u0e47\\u0e14\", \"\\u0e01\\u0e25\\u0e34\\u0e48\\u0e19\", \"\\u0e01\\u0e30\\u0e40\\u0e1e\\u0e23\\u0e32\", \"\\u0e01\\u0e31\\u0e1a\\u0e02\\u0e49\\u0e32\\u0e27\", \"\\u0e02\\u0e21\", \"\\u0e04\\u0e19\", \"\\u0e04\\u0e27\\u0e32\\u0e21\\u0e04\\u0e25\\u0e49\\u0e32\\u0e22\\u0e04\\u0e25\\u0e36\\u0e07\", \"\\u0e04\\u0e32\\u0e14\\u0e2b\\u0e27\\u0e31\\u0e07\", \"\\u0e08\\u0e21\\u0e39\\u0e01\", \"\\u0e08\\u0e31\\u0e1a\\u0e09\\u0e48\\u0e32\\u0e22\", \"\\u0e08\\u0e49\\u0e19\", \"\\u0e0a\\u0e2d\\u0e1a\", \"\\u0e0a\\u0e34\\u0e21\", \"\\u0e04\\u0e07\\u0e17\\u0e35\\u0e48\", \"\\u0e2b\\u0e27\\u0e32\\u0e19\", \"\\u0e15\\u0e34\\u0e14\", \"\\u0e40\\u0e2b\\u0e21\\u0e37\\u0e2d\\u0e19\", \"\\u0e2a\\u0e31\\u0e48\\u0e07\", \"\\u0e40\\u0e04\\u0e47\\u0e21\", \"\\u0e23\\u0e2d\\u0e1a\", \"\", \"\\u0e40\\u0e2b\\u0e21\\u0e37\\u0e2d\\u0e19\\u0e40\\u0e14\\u0e34\\u0e21\", \"\\u0e02\\u0e49\\u0e32\\u0e27\\u0e1c\\u0e31\\u0e14\", \"\\u0e19\\u0e38\\u0e48\\u0e21\", \"\\u0e40\\u0e0a\\u0e37\\u0e48\\u0e2d\\u0e21\", \"\\u0e1a\\u0e38\\u0e01\", \"\\u0e2a\\u0e48\\u0e27\\u0e19\\u0e15\\u0e31\\u0e27\", \"\\u0e40\\u0e27\\u0e34\\u0e23\\u0e4c\\u0e04\", \"\\u0e41\\u0e1b\\u0e25\\u0e01\", \"action\", \"take\", \"\\u0e04\\u0e48\\u0e32\", \"\\u0e15\\u0e34\\u0e14\\u0e43\\u0e08\", \"\\u0e2b\\u0e34\\u0e27\", \"\\u0e2d\\u0e2d\\u0e40\\u0e14\\u0e2d\\u0e23\\u0e4c\", \"\\u0e40\\u0e0a\\u0e47\\u0e04\", \"\\u0e40\\u0e2a\\u0e35\\u0e22\\u0e40\\u0e27\\u0e25\\u0e32\", \"\\u0e41\\u0e08\\u0e49\\u0e07\", \"\\u0e44\\u0e25\\u0e19\\u0e4c\", \"\\u0e44\\u0e27\", \"\\u0e08\\u0e36\\u0e49\\u0e07\", \"\\u0e18\\u0e23\\u0e23\\u0e21\\u0e14\\u0e32\", \"\\u0e40\\u0e17\\u0e35\\u0e22\\u0e1a\", \"\\u0e08\\u0e31\\u0e14\\u0e08\\u0e49\\u0e32\\u0e19\", \"\\u0e08\\u0e37\\u0e14\", \"\\u0e14\\u0e35\", \"\\u0e1c\\u0e31\\u0e14\", \"\\u0e1f\\u0e31\\u0e01\\u0e17\\u0e2d\\u0e07\", \"\\u0e22\\u0e33\", \"\\u0e2b\\u0e21\\u0e32\\u0e22\\u0e16\\u0e36\\u0e07\", \"\\u0e2d\\u0e23\\u0e48\\u0e2d\\u0e22\", \"\\u0e40\\u0e1c\\u0e47\\u0e14\", \"\\u0e01\\u0e25\\u0e34\\u0e48\\u0e19\", \"\\u0e01\\u0e30\\u0e40\\u0e1e\\u0e23\\u0e32\", \"\\u0e01\\u0e31\\u0e1a\\u0e02\\u0e49\\u0e32\\u0e27\", \"\\u0e02\\u0e21\", \"\\u0e04\\u0e19\", \"\\u0e04\\u0e27\\u0e32\\u0e21\\u0e04\\u0e25\\u0e49\\u0e32\\u0e22\\u0e04\\u0e25\\u0e36\\u0e07\", \"\\u0e04\\u0e32\\u0e14\\u0e2b\\u0e27\\u0e31\\u0e07\", \"\\u0e08\\u0e21\\u0e39\\u0e01\", \"\\u0e08\\u0e31\\u0e1a\\u0e09\\u0e48\\u0e32\\u0e22\", \"\\u0e08\\u0e49\\u0e19\", \"\\u0e0a\\u0e2d\\u0e1a\", \"\\u0e0a\\u0e34\\u0e21\", \"\\u0e0b\\u0e2d\\u0e2a\", \"\\u0e02\\u0e49\\u0e32\\u0e27\\u0e1c\\u0e31\\u0e14\", \"\\u0e19\\u0e38\\u0e48\\u0e21\", \"\\u0e40\\u0e0a\\u0e37\\u0e48\\u0e2d\\u0e21\", \"\\u0e2d\\u0e32\\u0e2b\\u0e32\\u0e23\", \"\\u0e21\\u0e31\\u0e07\", \"\\u0e2b\\u0e27\\u0e32\\u0e19\", \"\\u0e02\\u0e49\\u0e32\\u0e27\", \"\\u0e2a\\u0e31\\u0e48\\u0e07\", \"\\u0e40\\u0e2b\\u0e21\\u0e37\\u0e2d\\u0e19\", \"\", \"\\u0e40\\u0e2b\\u0e21\\u0e37\\u0e2d\\u0e19\\u0e40\\u0e14\\u0e34\\u0e21\", \"\\u0e04\\u0e07\\u0e17\\u0e35\\u0e48\", \"\\u0e1a\\u0e38\\u0e01\", \"\\u0e2a\\u0e48\\u0e27\\u0e19\\u0e15\\u0e31\\u0e27\", \"\\u0e40\\u0e27\\u0e34\\u0e23\\u0e4c\\u0e04\", \"\\u0e41\\u0e1b\\u0e25\\u0e01\", \"action\", \"take\", \"\\u0e04\\u0e48\\u0e32\", \"\\u0e15\\u0e34\\u0e14\\u0e43\\u0e08\", \"\\u0e2b\\u0e34\\u0e27\", \"\\u0e2d\\u0e2d\\u0e40\\u0e14\\u0e2d\\u0e23\\u0e4c\", \"\\u0e40\\u0e0a\\u0e47\\u0e04\", \"\\u0e40\\u0e2a\\u0e35\\u0e22\\u0e40\\u0e27\\u0e25\\u0e32\", \"\\u0e41\\u0e08\\u0e49\\u0e07\", \"\\u0e44\\u0e25\\u0e19\\u0e4c\", \"\\u0e44\\u0e27\", \"\\u0e08\\u0e36\\u0e49\\u0e07\", \"\\u0e18\\u0e23\\u0e23\\u0e21\\u0e14\\u0e32\", \"\\u0e40\\u0e17\\u0e35\\u0e22\\u0e1a\", \"\\u0e08\\u0e31\\u0e14\\u0e08\\u0e49\\u0e32\\u0e19\", \"\\u0e08\\u0e37\\u0e14\", \"\\u0e14\\u0e35\", \"\\u0e1c\\u0e31\\u0e14\", \"\\u0e1f\\u0e31\\u0e01\\u0e17\\u0e2d\\u0e07\", \"\\u0e22\\u0e33\", \"\\u0e2b\\u0e21\\u0e32\\u0e22\\u0e16\\u0e36\\u0e07\", \"\\u0e2d\\u0e23\\u0e48\\u0e2d\\u0e22\", \"\\u0e40\\u0e1c\\u0e47\\u0e14\", \"\\u0e01\\u0e25\\u0e34\\u0e48\\u0e19\", \"\\u0e01\\u0e30\\u0e40\\u0e1e\\u0e23\\u0e32\", \"\\u0e01\\u0e31\\u0e1a\\u0e02\\u0e49\\u0e32\\u0e27\", \"\\u0e02\\u0e21\", \"\\u0e04\\u0e19\", \"\\u0e04\\u0e27\\u0e32\\u0e21\\u0e04\\u0e25\\u0e49\\u0e32\\u0e22\\u0e04\\u0e25\\u0e36\\u0e07\", \"\\u0e04\\u0e32\\u0e14\\u0e2b\\u0e27\\u0e31\\u0e07\", \"\\u0e08\\u0e21\\u0e39\\u0e01\", \"\\u0e08\\u0e31\\u0e1a\\u0e09\\u0e48\\u0e32\\u0e22\", \"\\u0e08\\u0e49\\u0e19\", \"\\u0e0a\\u0e2d\\u0e1a\", \"\\u0e40\\u0e2b\\u0e21\\u0e37\\u0e2d\\u0e19\\u0e40\\u0e14\\u0e34\\u0e21\", \"\\u0e41\\u0e01\\u0e07\\u0e40\\u0e25\\u0e35\\u0e22\\u0e07\", \"\\u0e40\\u0e02\\u0e49\\u0e21\\u0e02\\u0e49\\u0e19\", \"\\u0e08\\u0e37\\u0e14\", \"\\u0e22\\u0e33\", \"\\u0e2d\\u0e23\\u0e48\\u0e2d\\u0e22\", \"\", \"\\u0e04\\u0e07\\u0e17\\u0e35\\u0e48\", \"\\u0e02\\u0e49\\u0e32\\u0e27\\u0e1c\\u0e31\\u0e14\", \"\\u0e19\\u0e38\\u0e48\\u0e21\", \"\\u0e40\\u0e0a\\u0e37\\u0e48\\u0e2d\\u0e21\", \"\\u0e1a\\u0e38\\u0e01\", \"\\u0e2a\\u0e48\\u0e27\\u0e19\\u0e15\\u0e31\\u0e27\", \"\\u0e40\\u0e27\\u0e34\\u0e23\\u0e4c\\u0e04\", \"\\u0e41\\u0e1b\\u0e25\\u0e01\", \"action\", \"take\", \"\\u0e04\\u0e48\\u0e32\", \"\\u0e15\\u0e34\\u0e14\\u0e43\\u0e08\", \"\\u0e2b\\u0e34\\u0e27\", \"\\u0e2d\\u0e2d\\u0e40\\u0e14\\u0e2d\\u0e23\\u0e4c\", \"\\u0e40\\u0e0a\\u0e47\\u0e04\", \"\\u0e40\\u0e2a\\u0e35\\u0e22\\u0e40\\u0e27\\u0e25\\u0e32\", \"\\u0e41\\u0e08\\u0e49\\u0e07\", \"\\u0e44\\u0e25\\u0e19\\u0e4c\", \"\\u0e44\\u0e27\", \"\\u0e08\\u0e36\\u0e49\\u0e07\", \"\\u0e18\\u0e23\\u0e23\\u0e21\\u0e14\\u0e32\", \"\\u0e40\\u0e17\\u0e35\\u0e22\\u0e1a\", \"\\u0e41\\u0e1e\\u0e07\", \"\\u0e40\\u0e04\\u0e47\\u0e21\", \"\\u0e23\\u0e2a\\u0e08\\u0e31\\u0e14\", \"\\u0e40\\u0e2b\\u0e47\\u0e14\", \"\\u0e1c\\u0e31\\u0e14\", \"\\u0e43\\u0e2a\\u0e48\", \"\\u0e14\\u0e31\\u0e19\", \"\\u0e40\\u0e1b\\u0e23\\u0e35\\u0e49\\u0e22\\u0e27\", \"\\u0e08\\u0e31\\u0e1a\\u0e09\\u0e48\\u0e32\\u0e22\", \"\\u0e1f\\u0e31\\u0e01\\u0e17\\u0e2d\\u0e07\", \"\\u0e42\\u0e14\\u0e14\", \"\\u0e40\\u0e2b\\u0e21\\u0e37\\u0e2d\\u0e19\", \"\\u0e01\\u0e30\\u0e40\\u0e1e\\u0e23\\u0e32\", \"\\u0e40\\u0e2a\\u0e49\\u0e19\", \"\\u0e02\\u0e21\", \"\\u0e40\\u0e08\\u0e49\", \"\\u0e1d\\u0e32\", \"\\u0e19\\u0e34\\u0e14\\u0e19\\u0e36\\u0e07\", \"\\u0e1a\\u0e27\\u0e1a\", \"\\u0e0b\\u0e35\\u0e2d\\u0e34\\u0e49\\u0e27\", \"\\u0e0a\\u0e34\\u0e21\", \"\\u0e44\\u0e02\\u0e48\\u0e40\\u0e04\\u0e47\\u0e21\", \"\\u0e1b\\u0e25\\u0e32\\u0e22\\u0e25\\u0e34\\u0e49\\u0e19\", \"\\u0e41\\u0e01\\u0e07\", \"\\u0e40\\u0e2b\\u0e21\\u0e37\\u0e2d\\u0e19\\u0e40\\u0e14\\u0e34\\u0e21\", \"\\u0e04\\u0e07\\u0e17\\u0e35\\u0e48\", \"\\u0e02\\u0e49\\u0e32\\u0e27\\u0e1c\\u0e31\\u0e14\", \"\\u0e19\\u0e38\\u0e48\\u0e21\", \"\\u0e40\\u0e0a\\u0e37\\u0e48\\u0e2d\\u0e21\", \"\\u0e1a\\u0e38\\u0e01\", \"\\u0e2a\\u0e48\\u0e27\\u0e19\\u0e15\\u0e31\\u0e27\", \"\\u0e40\\u0e27\\u0e34\\u0e23\\u0e4c\\u0e04\", \"\\u0e41\\u0e1b\\u0e25\\u0e01\", \"action\", \"take\", \"\\u0e04\\u0e48\\u0e32\", \"\\u0e15\\u0e34\\u0e14\\u0e43\\u0e08\", \"\\u0e2b\\u0e34\\u0e27\", \"\\u0e2d\\u0e2d\\u0e40\\u0e14\\u0e2d\\u0e23\\u0e4c\", \"\\u0e40\\u0e0a\\u0e47\\u0e04\", \"\\u0e40\\u0e2a\\u0e35\\u0e22\\u0e40\\u0e27\\u0e25\\u0e32\", \"\\u0e41\\u0e08\\u0e49\\u0e07\", \"\\u0e44\\u0e25\\u0e19\\u0e4c\", \"\\u0e44\\u0e27\", \"\\u0e08\\u0e36\\u0e49\\u0e07\", \"\\u0e18\\u0e23\\u0e23\\u0e21\\u0e14\\u0e32\", \"\\u0e40\\u0e17\\u0e35\\u0e22\\u0e1a\", \"\\u0e41\\u0e1e\\u0e07\", \"\\u0e08\\u0e31\\u0e14\\u0e08\\u0e49\\u0e32\\u0e19\", \"\\u0e40\\u0e1c\\u0e47\\u0e14\", \"\\u0e44\\u0e02\\u0e48\", \"\\u0e23\\u0e30\\u0e27\\u0e31\\u0e07\", \"\\u0e17\\u0e33\\u0e2d\\u0e32\\u0e2b\\u0e32\\u0e23\", \"\\u0e40\\u0e08\\u0e2d\", \"\\u0e21\", \"\\u0e1b\\u0e25\\u0e32\\u0e22\\u0e25\\u0e34\\u0e49\\u0e19\", \"\\u0e2d\\u0e31\\u0e19\\u0e19\\u0e35\\u0e49\", \"\\u0e40\\u0e04\\u0e47\\u0e21\", \"\\u0e40\\u0e2b\\u0e47\\u0e14\", \"\\u0e23\\u0e2a\\u0e08\\u0e31\\u0e14\", \"\\u0e08\\u0e31\\u0e1a\\u0e09\\u0e48\\u0e32\\u0e22\", \"\\u0e1c\\u0e31\\u0e14\", \"\\u0e40\\u0e1b\\u0e23\\u0e35\\u0e49\\u0e22\\u0e27\", \"\\u0e01\\u0e30\\u0e40\\u0e1e\\u0e23\\u0e32\", \"\\u0e42\\u0e14\\u0e14\", \"\\u0e1f\\u0e31\\u0e01\\u0e17\\u0e2d\\u0e07\", \"\\u0e40\\u0e2b\\u0e21\\u0e37\\u0e2d\\u0e19\", \"\\u0e08\\u0e37\\u0e14\", \"\\u0e43\\u0e2a\\u0e48\", \"\\u0e41\\u0e01\\u0e07\\u0e40\\u0e25\\u0e35\\u0e22\\u0e07\", \"\\u0e0b\\u0e35\\u0e2d\\u0e34\\u0e49\\u0e27\", \"\\u0e0b\\u0e2d\\u0e2a\", \"\\u0e44\\u0e02\\u0e48\\u0e40\\u0e04\\u0e47\\u0e21\", \"\\u0e0a\\u0e34\\u0e21\", \"\\u0e25\\u0e32\\u0e1a\", \"\\u0e40\\u0e08\\u0e49\", \"\\u0e23\\u0e39\\u0e49\", \"\\u0e04\\u0e32\\u0e14\\u0e2b\\u0e27\\u0e31\\u0e07\", \"\\u0e42\\u0e2d\\u0e40\\u0e04\", \"\\u0e40\\u0e2a\\u0e49\\u0e19\", \"\\u0e41\\u0e01\\u0e49\\u0e27\", \"\\u0e0a\\u0e2d\\u0e1a\", \"\\u0e02\\u0e21\", \"\\u0e04\\u0e27\\u0e32\\u0e21\\u0e04\\u0e25\\u0e49\\u0e32\\u0e22\\u0e04\\u0e25\\u0e36\\u0e07\", \"\\u0e40\\u0e2b\\u0e21\\u0e37\\u0e2d\\u0e19\\u0e40\\u0e14\\u0e34\\u0e21\", \"\\u0e04\\u0e07\\u0e17\\u0e35\\u0e48\", \"\\u0e02\\u0e49\\u0e32\\u0e27\\u0e1c\\u0e31\\u0e14\", \"\\u0e19\\u0e38\\u0e48\\u0e21\", \"\\u0e40\\u0e0a\\u0e37\\u0e48\\u0e2d\\u0e21\", \"\\u0e1a\\u0e38\\u0e01\", \"\\u0e2a\\u0e48\\u0e27\\u0e19\\u0e15\\u0e31\\u0e27\", \"\\u0e40\\u0e27\\u0e34\\u0e23\\u0e4c\\u0e04\", \"\\u0e41\\u0e1b\\u0e25\\u0e01\", \"action\", \"take\", \"\\u0e04\\u0e48\\u0e32\", \"\\u0e15\\u0e34\\u0e14\\u0e43\\u0e08\", \"\\u0e2b\\u0e34\\u0e27\", \"\\u0e2d\\u0e2d\\u0e40\\u0e14\\u0e2d\\u0e23\\u0e4c\", \"\\u0e40\\u0e0a\\u0e47\\u0e04\", \"\\u0e40\\u0e2a\\u0e35\\u0e22\\u0e40\\u0e27\\u0e25\\u0e32\", \"\\u0e41\\u0e08\\u0e49\\u0e07\", \"\\u0e44\\u0e25\\u0e19\\u0e4c\", \"\\u0e44\\u0e27\", \"\\u0e44\\u0e02\\u0e48\", \"\\u0e23\\u0e30\\u0e27\\u0e31\\u0e07\", \"\\u0e17\\u0e33\\u0e2d\\u0e32\\u0e2b\\u0e32\\u0e23\", \"\\u0e40\\u0e08\\u0e2d\", \"\\u0e40\\u0e28\\u0e29\", \"\\u0e1e\\u0e25\\u0e32\\u0e2a\\u0e15\\u0e34\\u0e01\", \"\\u0e08\\u0e36\\u0e49\\u0e07\", \"\\u0e18\\u0e23\\u0e23\\u0e21\\u0e14\\u0e32\", \"\\u0e40\\u0e17\\u0e35\\u0e22\\u0e1a\", \"\\u0e41\\u0e1e\\u0e07\", \"\\u0e22\\u0e33\", \"\\u0e2d\\u0e23\\u0e48\\u0e2d\\u0e22\", \"\\u0e1f\\u0e31\\u0e01\\u0e17\\u0e2d\\u0e07\", \"\\u0e02\\u0e21\", \"\\u0e40\\u0e1b\\u0e23\\u0e35\\u0e49\\u0e22\\u0e27\", \"\\u0e15\\u0e2d\\u0e19\", \"\\u0e23\\u0e1a\\u0e01\\u0e27\\u0e19\", \"\\u0e1c\\u0e31\\u0e14\", \"\\u0e15\\u0e34\\u0e14\", \"\", \"\\u0e23\\u0e2d\\u0e1a\", \"\\u0e08\\u0e31\\u0e14\\u0e08\\u0e49\\u0e32\\u0e19\", \"\\u0e08\\u0e37\\u0e14\", \"\\u0e14\\u0e35\", \"\\u0e2b\\u0e21\\u0e32\\u0e22\\u0e16\\u0e36\\u0e07\", \"\\u0e40\\u0e1c\\u0e47\\u0e14\", \"\\u0e01\\u0e25\\u0e34\\u0e48\\u0e19\", \"\\u0e01\\u0e30\\u0e40\\u0e1e\\u0e23\\u0e32\", \"\\u0e01\\u0e31\\u0e1a\\u0e02\\u0e49\\u0e32\\u0e27\", \"\\u0e04\\u0e19\", \"\\u0e04\\u0e27\\u0e32\\u0e21\\u0e04\\u0e25\\u0e49\\u0e32\\u0e22\\u0e04\\u0e25\\u0e36\\u0e07\", \"\\u0e04\\u0e32\\u0e14\\u0e2b\\u0e27\\u0e31\\u0e07\", \"\\u0e08\\u0e21\\u0e39\\u0e01\", \"\\u0e08\\u0e31\\u0e1a\\u0e09\\u0e48\\u0e32\\u0e22\", \"\\u0e40\\u0e2b\\u0e21\\u0e37\\u0e2d\\u0e19\\u0e40\\u0e14\\u0e34\\u0e21\", \"\\u0e04\\u0e07\\u0e17\\u0e35\\u0e48\", \"\\u0e02\\u0e49\\u0e32\\u0e27\\u0e1c\\u0e31\\u0e14\", \"\\u0e19\\u0e38\\u0e48\\u0e21\", \"\\u0e40\\u0e0a\\u0e37\\u0e48\\u0e2d\\u0e21\", \"\\u0e1a\\u0e38\\u0e01\", \"\\u0e2a\\u0e48\\u0e27\\u0e19\\u0e15\\u0e31\\u0e27\", \"\\u0e40\\u0e27\\u0e34\\u0e23\\u0e4c\\u0e04\", \"\\u0e41\\u0e1b\\u0e25\\u0e01\", \"action\", \"take\", \"\\u0e04\\u0e48\\u0e32\", \"\\u0e15\\u0e34\\u0e14\\u0e43\\u0e08\", \"\\u0e2b\\u0e34\\u0e27\", \"\\u0e2d\\u0e2d\\u0e40\\u0e14\\u0e2d\\u0e23\\u0e4c\", \"\\u0e40\\u0e0a\\u0e47\\u0e04\", \"\\u0e40\\u0e2a\\u0e35\\u0e22\\u0e40\\u0e27\\u0e25\\u0e32\", \"\\u0e41\\u0e08\\u0e49\\u0e07\", \"\\u0e44\\u0e25\\u0e19\\u0e4c\", \"\\u0e44\\u0e27\", \"\\u0e08\\u0e36\\u0e49\\u0e07\", \"\\u0e18\\u0e23\\u0e23\\u0e21\\u0e14\\u0e32\", \"\\u0e40\\u0e17\\u0e35\\u0e22\\u0e1a\", \"\\u0e41\\u0e1e\\u0e07\", \"\\u0e08\\u0e31\\u0e14\\u0e08\\u0e49\\u0e32\\u0e19\", \"\\u0e40\\u0e1c\\u0e47\\u0e14\", \"\\u0e44\\u0e02\\u0e48\", \"\\u0e23\\u0e30\\u0e27\\u0e31\\u0e07\", \"\\u0e17\\u0e33\\u0e2d\\u0e32\\u0e2b\\u0e32\\u0e23\", \"\\u0e40\\u0e08\\u0e2d\", \"\\u0e40\\u0e04\\u0e47\\u0e21\", \"\\u0e23\\u0e2a\\u0e08\\u0e31\\u0e14\", \"\\u0e40\\u0e2b\\u0e47\\u0e14\", \"\\u0e1c\\u0e31\\u0e14\", \"\\u0e40\\u0e2b\\u0e21\\u0e37\\u0e2d\\u0e19\", \"\\u0e01\\u0e30\\u0e40\\u0e1e\\u0e23\\u0e32\", \"\\u0e08\\u0e31\\u0e1a\\u0e09\\u0e48\\u0e32\\u0e22\", \"\\u0e42\\u0e14\\u0e14\", \"\\u0e14\\u0e31\\u0e19\", \"\\u0e1f\\u0e31\\u0e01\\u0e17\\u0e2d\\u0e07\", \"\\u0e40\\u0e1b\\u0e23\\u0e35\\u0e49\\u0e22\\u0e27\", \"\\u0e08\\u0e37\\u0e14\", \"\\u0e43\\u0e2a\\u0e48\", \"\\u0e0a\\u0e2d\\u0e1a\", \"\\u0e41\\u0e01\\u0e07\\u0e40\\u0e25\\u0e35\\u0e22\\u0e07\", \"\\u0e19\\u0e34\\u0e14\\u0e19\\u0e36\\u0e07\", \"\\u0e04\\u0e19\", \"\\u0e25\\u0e2d\\u0e07\", \"\\u0e0b\\u0e2d\\u0e2a\", \"\\u0e0a\\u0e34\\u0e21\", \"\\u0e15\\u0e33\", \"\\u0e21\\u0e31\\u0e07\", \"\\u0e04\\u0e27\\u0e32\\u0e21\\u0e04\\u0e25\\u0e49\\u0e32\\u0e22\\u0e04\\u0e25\\u0e36\\u0e07\", \"\\u0e40\\u0e08\\u0e49\", \"\\u0e08\\u0e21\\u0e39\\u0e01\", \"\\u0e40\\u0e02\\u0e49\\u0e21\\u0e02\\u0e49\\u0e19\", \"\\u0e23\\u0e2d\\u0e1a\", \"\\u0e19\\u0e36\\u0e07\", \"\\u0e02\\u0e21\", \"\\u0e08\\u0e49\\u0e19\", \"\\u0e40\\u0e2b\\u0e21\\u0e37\\u0e2d\\u0e19\\u0e40\\u0e14\\u0e34\\u0e21\", \"\\u0e04\\u0e07\\u0e17\\u0e35\\u0e48\", \"\\u0e02\\u0e49\\u0e32\\u0e27\\u0e1c\\u0e31\\u0e14\", \"\\u0e19\\u0e38\\u0e48\\u0e21\", \"\\u0e40\\u0e0a\\u0e37\\u0e48\\u0e2d\\u0e21\", \"\\u0e1a\\u0e38\\u0e01\", \"\\u0e2a\\u0e48\\u0e27\\u0e19\\u0e15\\u0e31\\u0e27\", \"\\u0e40\\u0e27\\u0e34\\u0e23\\u0e4c\\u0e04\", \"\\u0e41\\u0e1b\\u0e25\\u0e01\", \"action\", \"take\", \"\\u0e04\\u0e48\\u0e32\", \"\\u0e15\\u0e34\\u0e14\\u0e43\\u0e08\", \"\\u0e2b\\u0e34\\u0e27\", \"\\u0e2d\\u0e2d\\u0e40\\u0e14\\u0e2d\\u0e23\\u0e4c\", \"\\u0e40\\u0e0a\\u0e47\\u0e04\", \"\\u0e40\\u0e2a\\u0e35\\u0e22\\u0e40\\u0e27\\u0e25\\u0e32\", \"\\u0e41\\u0e08\\u0e49\\u0e07\", \"\\u0e44\\u0e25\\u0e19\\u0e4c\", \"\\u0e44\\u0e27\", \"\\u0e08\\u0e36\\u0e49\\u0e07\", \"\\u0e18\\u0e23\\u0e23\\u0e21\\u0e14\\u0e32\", \"\\u0e40\\u0e17\\u0e35\\u0e22\\u0e1a\", \"\\u0e41\\u0e1e\\u0e07\", \"\\u0e08\\u0e31\\u0e14\\u0e08\\u0e49\\u0e32\\u0e19\", \"\\u0e40\\u0e1c\\u0e47\\u0e14\", \"\\u0e44\\u0e02\\u0e48\", \"\\u0e23\\u0e30\\u0e27\\u0e31\\u0e07\", \"\\u0e17\\u0e33\\u0e2d\\u0e32\\u0e2b\\u0e32\\u0e23\", \"\\u0e40\\u0e08\\u0e2d\", \"\", \"\\u0e08\\u0e37\\u0e14\", \"\\u0e14\\u0e35\", \"\\u0e1c\\u0e31\\u0e14\", \"\\u0e1f\\u0e31\\u0e01\\u0e17\\u0e2d\\u0e07\", \"\\u0e22\\u0e33\", \"\\u0e2b\\u0e21\\u0e32\\u0e22\\u0e16\\u0e36\\u0e07\", \"\\u0e2d\\u0e23\\u0e48\\u0e2d\\u0e22\", \"\\u0e01\\u0e25\\u0e34\\u0e48\\u0e19\", \"\\u0e01\\u0e30\\u0e40\\u0e1e\\u0e23\\u0e32\", \"\\u0e01\\u0e31\\u0e1a\\u0e02\\u0e49\\u0e32\\u0e27\", \"\\u0e02\\u0e21\", \"\\u0e04\\u0e19\", \"\\u0e04\\u0e27\\u0e32\\u0e21\\u0e04\\u0e25\\u0e49\\u0e32\\u0e22\\u0e04\\u0e25\\u0e36\\u0e07\", \"\\u0e04\\u0e32\\u0e14\\u0e2b\\u0e27\\u0e31\\u0e07\", \"\\u0e08\\u0e21\\u0e39\\u0e01\", \"\\u0e08\\u0e31\\u0e1a\\u0e09\\u0e48\\u0e32\\u0e22\", \"\\u0e08\\u0e49\\u0e19\", \"\\u0e0a\\u0e2d\\u0e1a\", \"\\u0e0a\\u0e34\\u0e21\", \"\\u0e0b\\u0e2d\\u0e2a\", \"\\u0e0b\\u0e35\\u0e2d\\u0e34\\u0e49\\u0e27\", \"\\u0e14\\u0e31\\u0e19\", \"\\u0e15\\u0e33\", \"\\u0e15\\u0e35\", \"\\u0e17\\u0e34\\u0e28\\u0e17\\u0e32\\u0e07\", \"\\u0e19\\u0e34\\u0e14\\u0e19\\u0e36\\u0e07\", \"\\u0e19\\u0e36\\u0e07\", \"\\u0e40\\u0e2b\\u0e21\\u0e37\\u0e2d\\u0e19\\u0e40\\u0e14\\u0e34\\u0e21\", \"\\u0e04\\u0e07\\u0e17\\u0e35\\u0e48\", \"\\u0e02\\u0e49\\u0e32\\u0e27\\u0e1c\\u0e31\\u0e14\", \"\\u0e19\\u0e38\\u0e48\\u0e21\", \"\\u0e40\\u0e0a\\u0e37\\u0e48\\u0e2d\\u0e21\", \"\\u0e1a\\u0e38\\u0e01\", \"\\u0e2a\\u0e48\\u0e27\\u0e19\\u0e15\\u0e31\\u0e27\", \"\\u0e40\\u0e27\\u0e34\\u0e23\\u0e4c\\u0e04\", \"\\u0e41\\u0e1b\\u0e25\\u0e01\", \"action\", \"take\", \"\\u0e04\\u0e48\\u0e32\", \"\\u0e15\\u0e34\\u0e14\\u0e43\\u0e08\", \"\\u0e2b\\u0e34\\u0e27\", \"\\u0e2d\\u0e2d\\u0e40\\u0e14\\u0e2d\\u0e23\\u0e4c\", \"\\u0e40\\u0e0a\\u0e47\\u0e04\", \"\\u0e40\\u0e2a\\u0e35\\u0e22\\u0e40\\u0e27\\u0e25\\u0e32\", \"\\u0e41\\u0e08\\u0e49\\u0e07\", \"\\u0e44\\u0e25\\u0e19\\u0e4c\", \"\\u0e44\\u0e27\", \"\\u0e08\\u0e36\\u0e49\\u0e07\", \"\\u0e18\\u0e23\\u0e23\\u0e21\\u0e14\\u0e32\", \"\\u0e40\\u0e17\\u0e35\\u0e22\\u0e1a\", \"\\u0e41\\u0e1e\\u0e07\", \"\\u0e08\\u0e31\\u0e14\\u0e08\\u0e49\\u0e32\\u0e19\", \"\\u0e40\\u0e1c\\u0e47\\u0e14\", \"\\u0e44\\u0e02\\u0e48\", \"\\u0e23\\u0e30\\u0e27\\u0e31\\u0e07\", \"\\u0e17\\u0e33\\u0e2d\\u0e32\\u0e2b\\u0e32\\u0e23\", \"\\u0e40\\u0e08\\u0e2d\", \"\", \"\\u0e08\\u0e37\\u0e14\", \"\\u0e14\\u0e35\", \"\\u0e1c\\u0e31\\u0e14\", \"\\u0e1f\\u0e31\\u0e01\\u0e17\\u0e2d\\u0e07\", \"\\u0e22\\u0e33\", \"\\u0e2b\\u0e21\\u0e32\\u0e22\\u0e16\\u0e36\\u0e07\", \"\\u0e2d\\u0e23\\u0e48\\u0e2d\\u0e22\", \"\\u0e01\\u0e25\\u0e34\\u0e48\\u0e19\", \"\\u0e01\\u0e30\\u0e40\\u0e1e\\u0e23\\u0e32\", \"\\u0e01\\u0e31\\u0e1a\\u0e02\\u0e49\\u0e32\\u0e27\", \"\\u0e02\\u0e21\", \"\\u0e04\\u0e19\", \"\\u0e04\\u0e27\\u0e32\\u0e21\\u0e04\\u0e25\\u0e49\\u0e32\\u0e22\\u0e04\\u0e25\\u0e36\\u0e07\", \"\\u0e04\\u0e32\\u0e14\\u0e2b\\u0e27\\u0e31\\u0e07\", \"\\u0e08\\u0e21\\u0e39\\u0e01\", \"\\u0e08\\u0e31\\u0e1a\\u0e09\\u0e48\\u0e32\\u0e22\", \"\\u0e08\\u0e49\\u0e19\", \"\\u0e0a\\u0e2d\\u0e1a\", \"\\u0e0a\\u0e34\\u0e21\", \"\\u0e0b\\u0e2d\\u0e2a\", \"\\u0e0b\\u0e35\\u0e2d\\u0e34\\u0e49\\u0e27\", \"\\u0e14\\u0e31\\u0e19\", \"\\u0e15\\u0e33\", \"\\u0e15\\u0e35\", \"\\u0e17\\u0e34\\u0e28\\u0e17\\u0e32\\u0e07\", \"\\u0e19\\u0e34\\u0e14\\u0e19\\u0e36\\u0e07\", \"\\u0e19\\u0e36\\u0e07\", \"\\u0e40\\u0e2b\\u0e21\\u0e37\\u0e2d\\u0e19\\u0e40\\u0e14\\u0e34\\u0e21\", \"\\u0e04\\u0e07\\u0e17\\u0e35\\u0e48\", \"\\u0e02\\u0e49\\u0e32\\u0e27\\u0e1c\\u0e31\\u0e14\", \"\\u0e19\\u0e38\\u0e48\\u0e21\", \"\\u0e40\\u0e0a\\u0e37\\u0e48\\u0e2d\\u0e21\", \"\\u0e1a\\u0e38\\u0e01\", \"\\u0e2a\\u0e48\\u0e27\\u0e19\\u0e15\\u0e31\\u0e27\", \"\\u0e40\\u0e27\\u0e34\\u0e23\\u0e4c\\u0e04\", \"\\u0e41\\u0e1b\\u0e25\\u0e01\", \"action\", \"take\", \"\\u0e04\\u0e48\\u0e32\", \"\\u0e15\\u0e34\\u0e14\\u0e43\\u0e08\", \"\\u0e2b\\u0e34\\u0e27\", \"\\u0e2d\\u0e2d\\u0e40\\u0e14\\u0e2d\\u0e23\\u0e4c\", \"\\u0e40\\u0e0a\\u0e47\\u0e04\", \"\\u0e40\\u0e2a\\u0e35\\u0e22\\u0e40\\u0e27\\u0e25\\u0e32\", \"\\u0e41\\u0e08\\u0e49\\u0e07\", \"\\u0e44\\u0e25\\u0e19\\u0e4c\", \"\\u0e44\\u0e27\", \"\\u0e08\\u0e36\\u0e49\\u0e07\", \"\\u0e18\\u0e23\\u0e23\\u0e21\\u0e14\\u0e32\", \"\\u0e40\\u0e17\\u0e35\\u0e22\\u0e1a\", \"\\u0e41\\u0e1e\\u0e07\", \"\\u0e08\\u0e31\\u0e14\\u0e08\\u0e49\\u0e32\\u0e19\", \"\\u0e40\\u0e1c\\u0e47\\u0e14\", \"\\u0e44\\u0e02\\u0e48\", \"\\u0e23\\u0e30\\u0e27\\u0e31\\u0e07\", \"\\u0e17\\u0e33\\u0e2d\\u0e32\\u0e2b\\u0e32\\u0e23\", \"\\u0e40\\u0e08\\u0e2d\", \"\", \"\\u0e08\\u0e37\\u0e14\", \"\\u0e14\\u0e35\", \"\\u0e1c\\u0e31\\u0e14\", \"\\u0e1f\\u0e31\\u0e01\\u0e17\\u0e2d\\u0e07\", \"\\u0e22\\u0e33\", \"\\u0e2b\\u0e21\\u0e32\\u0e22\\u0e16\\u0e36\\u0e07\", \"\\u0e2d\\u0e23\\u0e48\\u0e2d\\u0e22\", \"\\u0e01\\u0e25\\u0e34\\u0e48\\u0e19\", \"\\u0e01\\u0e30\\u0e40\\u0e1e\\u0e23\\u0e32\", \"\\u0e01\\u0e31\\u0e1a\\u0e02\\u0e49\\u0e32\\u0e27\", \"\\u0e02\\u0e21\", \"\\u0e04\\u0e19\", \"\\u0e04\\u0e27\\u0e32\\u0e21\\u0e04\\u0e25\\u0e49\\u0e32\\u0e22\\u0e04\\u0e25\\u0e36\\u0e07\", \"\\u0e04\\u0e32\\u0e14\\u0e2b\\u0e27\\u0e31\\u0e07\", \"\\u0e08\\u0e21\\u0e39\\u0e01\", \"\\u0e08\\u0e31\\u0e1a\\u0e09\\u0e48\\u0e32\\u0e22\", \"\\u0e08\\u0e49\\u0e19\", \"\\u0e0a\\u0e2d\\u0e1a\", \"\\u0e0a\\u0e34\\u0e21\", \"\\u0e0b\\u0e2d\\u0e2a\", \"\\u0e0b\\u0e35\\u0e2d\\u0e34\\u0e49\\u0e27\", \"\\u0e14\\u0e31\\u0e19\", \"\\u0e15\\u0e33\", \"\\u0e15\\u0e35\", \"\\u0e17\\u0e34\\u0e28\\u0e17\\u0e32\\u0e07\", \"\\u0e19\\u0e34\\u0e14\\u0e19\\u0e36\\u0e07\", \"\\u0e19\\u0e36\\u0e07\", \"\\u0e40\\u0e2b\\u0e21\\u0e37\\u0e2d\\u0e19\\u0e40\\u0e14\\u0e34\\u0e21\", \"\\u0e04\\u0e07\\u0e17\\u0e35\\u0e48\", \"\\u0e02\\u0e49\\u0e32\\u0e27\\u0e1c\\u0e31\\u0e14\", \"\\u0e19\\u0e38\\u0e48\\u0e21\", \"\\u0e40\\u0e0a\\u0e37\\u0e48\\u0e2d\\u0e21\", \"\\u0e1a\\u0e38\\u0e01\", \"\\u0e2a\\u0e48\\u0e27\\u0e19\\u0e15\\u0e31\\u0e27\", \"\\u0e40\\u0e27\\u0e34\\u0e23\\u0e4c\\u0e04\", \"\\u0e41\\u0e1b\\u0e25\\u0e01\", \"action\", \"take\", \"\\u0e04\\u0e48\\u0e32\", \"\\u0e15\\u0e34\\u0e14\\u0e43\\u0e08\", \"\\u0e2b\\u0e34\\u0e27\", \"\\u0e2d\\u0e2d\\u0e40\\u0e14\\u0e2d\\u0e23\\u0e4c\", \"\\u0e40\\u0e0a\\u0e47\\u0e04\", \"\\u0e40\\u0e2a\\u0e35\\u0e22\\u0e40\\u0e27\\u0e25\\u0e32\", \"\\u0e41\\u0e08\\u0e49\\u0e07\", \"\\u0e44\\u0e25\\u0e19\\u0e4c\", \"\\u0e44\\u0e27\", \"\\u0e08\\u0e36\\u0e49\\u0e07\", \"\\u0e18\\u0e23\\u0e23\\u0e21\\u0e14\\u0e32\", \"\\u0e40\\u0e17\\u0e35\\u0e22\\u0e1a\", \"\\u0e41\\u0e1e\\u0e07\", \"\\u0e08\\u0e31\\u0e14\\u0e08\\u0e49\\u0e32\\u0e19\", \"\\u0e40\\u0e1c\\u0e47\\u0e14\", \"\\u0e44\\u0e02\\u0e48\", \"\\u0e23\\u0e30\\u0e27\\u0e31\\u0e07\", \"\\u0e17\\u0e33\\u0e2d\\u0e32\\u0e2b\\u0e32\\u0e23\", \"\\u0e40\\u0e08\\u0e2d\", \"\", \"\\u0e08\\u0e37\\u0e14\", \"\\u0e14\\u0e35\", \"\\u0e1c\\u0e31\\u0e14\", \"\\u0e1f\\u0e31\\u0e01\\u0e17\\u0e2d\\u0e07\", \"\\u0e22\\u0e33\", \"\\u0e2b\\u0e21\\u0e32\\u0e22\\u0e16\\u0e36\\u0e07\", \"\\u0e2d\\u0e23\\u0e48\\u0e2d\\u0e22\", \"\\u0e01\\u0e25\\u0e34\\u0e48\\u0e19\", \"\\u0e01\\u0e30\\u0e40\\u0e1e\\u0e23\\u0e32\", \"\\u0e01\\u0e31\\u0e1a\\u0e02\\u0e49\\u0e32\\u0e27\", \"\\u0e02\\u0e21\", \"\\u0e04\\u0e19\", \"\\u0e04\\u0e27\\u0e32\\u0e21\\u0e04\\u0e25\\u0e49\\u0e32\\u0e22\\u0e04\\u0e25\\u0e36\\u0e07\", \"\\u0e04\\u0e32\\u0e14\\u0e2b\\u0e27\\u0e31\\u0e07\", \"\\u0e08\\u0e21\\u0e39\\u0e01\", \"\\u0e08\\u0e31\\u0e1a\\u0e09\\u0e48\\u0e32\\u0e22\", \"\\u0e08\\u0e49\\u0e19\", \"\\u0e0a\\u0e2d\\u0e1a\", \"\\u0e0a\\u0e34\\u0e21\", \"\\u0e0b\\u0e2d\\u0e2a\", \"\\u0e0b\\u0e35\\u0e2d\\u0e34\\u0e49\\u0e27\", \"\\u0e14\\u0e31\\u0e19\", \"\\u0e15\\u0e33\", \"\\u0e15\\u0e35\", \"\\u0e17\\u0e34\\u0e28\\u0e17\\u0e32\\u0e07\", \"\\u0e19\\u0e34\\u0e14\\u0e19\\u0e36\\u0e07\", \"\\u0e19\\u0e36\\u0e07\", \"\\u0e40\\u0e2b\\u0e21\\u0e37\\u0e2d\\u0e19\\u0e40\\u0e14\\u0e34\\u0e21\", \"\\u0e04\\u0e07\\u0e17\\u0e35\\u0e48\", \"\\u0e02\\u0e49\\u0e32\\u0e27\\u0e1c\\u0e31\\u0e14\", \"\\u0e19\\u0e38\\u0e48\\u0e21\", \"\\u0e40\\u0e0a\\u0e37\\u0e48\\u0e2d\\u0e21\", \"\\u0e1a\\u0e38\\u0e01\", \"\\u0e2a\\u0e48\\u0e27\\u0e19\\u0e15\\u0e31\\u0e27\", \"\\u0e40\\u0e27\\u0e34\\u0e23\\u0e4c\\u0e04\", \"\\u0e41\\u0e1b\\u0e25\\u0e01\", \"action\", \"take\", \"\\u0e04\\u0e48\\u0e32\", \"\\u0e15\\u0e34\\u0e14\\u0e43\\u0e08\", \"\\u0e2b\\u0e34\\u0e27\", \"\\u0e2d\\u0e2d\\u0e40\\u0e14\\u0e2d\\u0e23\\u0e4c\", \"\\u0e40\\u0e0a\\u0e47\\u0e04\", \"\\u0e40\\u0e2a\\u0e35\\u0e22\\u0e40\\u0e27\\u0e25\\u0e32\", \"\\u0e41\\u0e08\\u0e49\\u0e07\", \"\\u0e44\\u0e25\\u0e19\\u0e4c\", \"\\u0e44\\u0e27\", \"\\u0e08\\u0e36\\u0e49\\u0e07\", \"\\u0e18\\u0e23\\u0e23\\u0e21\\u0e14\\u0e32\", \"\\u0e40\\u0e17\\u0e35\\u0e22\\u0e1a\", \"\\u0e41\\u0e1e\\u0e07\", \"\\u0e08\\u0e31\\u0e14\\u0e08\\u0e49\\u0e32\\u0e19\", \"\\u0e40\\u0e1c\\u0e47\\u0e14\", \"\\u0e44\\u0e02\\u0e48\", \"\\u0e23\\u0e30\\u0e27\\u0e31\\u0e07\", \"\\u0e17\\u0e33\\u0e2d\\u0e32\\u0e2b\\u0e32\\u0e23\", \"\\u0e40\\u0e08\\u0e2d\", \"\", \"\\u0e08\\u0e37\\u0e14\", \"\\u0e14\\u0e35\", \"\\u0e1c\\u0e31\\u0e14\", \"\\u0e1f\\u0e31\\u0e01\\u0e17\\u0e2d\\u0e07\", \"\\u0e22\\u0e33\", \"\\u0e2b\\u0e21\\u0e32\\u0e22\\u0e16\\u0e36\\u0e07\", \"\\u0e2d\\u0e23\\u0e48\\u0e2d\\u0e22\", \"\\u0e01\\u0e25\\u0e34\\u0e48\\u0e19\", \"\\u0e01\\u0e30\\u0e40\\u0e1e\\u0e23\\u0e32\", \"\\u0e01\\u0e31\\u0e1a\\u0e02\\u0e49\\u0e32\\u0e27\", \"\\u0e02\\u0e21\", \"\\u0e04\\u0e19\", \"\\u0e04\\u0e27\\u0e32\\u0e21\\u0e04\\u0e25\\u0e49\\u0e32\\u0e22\\u0e04\\u0e25\\u0e36\\u0e07\", \"\\u0e04\\u0e32\\u0e14\\u0e2b\\u0e27\\u0e31\\u0e07\", \"\\u0e08\\u0e21\\u0e39\\u0e01\", \"\\u0e08\\u0e31\\u0e1a\\u0e09\\u0e48\\u0e32\\u0e22\", \"\\u0e08\\u0e49\\u0e19\", \"\\u0e0a\\u0e2d\\u0e1a\", \"\\u0e0a\\u0e34\\u0e21\", \"\\u0e0b\\u0e2d\\u0e2a\", \"\\u0e0b\\u0e35\\u0e2d\\u0e34\\u0e49\\u0e27\", \"\\u0e14\\u0e31\\u0e19\", \"\\u0e15\\u0e33\", \"\\u0e15\\u0e35\", \"\\u0e17\\u0e34\\u0e28\\u0e17\\u0e32\\u0e07\", \"\\u0e19\\u0e34\\u0e14\\u0e19\\u0e36\\u0e07\", \"\\u0e19\\u0e36\\u0e07\", \"\\u0e40\\u0e2b\\u0e21\\u0e37\\u0e2d\\u0e19\\u0e40\\u0e14\\u0e34\\u0e21\", \"\\u0e04\\u0e07\\u0e17\\u0e35\\u0e48\", \"\\u0e02\\u0e49\\u0e32\\u0e27\\u0e1c\\u0e31\\u0e14\", \"\\u0e19\\u0e38\\u0e48\\u0e21\", \"\\u0e40\\u0e0a\\u0e37\\u0e48\\u0e2d\\u0e21\", \"\\u0e1a\\u0e38\\u0e01\", \"\\u0e2a\\u0e48\\u0e27\\u0e19\\u0e15\\u0e31\\u0e27\", \"\\u0e40\\u0e27\\u0e34\\u0e23\\u0e4c\\u0e04\", \"\\u0e41\\u0e1b\\u0e25\\u0e01\", \"action\", \"take\", \"\\u0e04\\u0e48\\u0e32\", \"\\u0e15\\u0e34\\u0e14\\u0e43\\u0e08\", \"\\u0e2b\\u0e34\\u0e27\", \"\\u0e2d\\u0e2d\\u0e40\\u0e14\\u0e2d\\u0e23\\u0e4c\", \"\\u0e40\\u0e0a\\u0e47\\u0e04\", \"\\u0e40\\u0e2a\\u0e35\\u0e22\\u0e40\\u0e27\\u0e25\\u0e32\", \"\\u0e41\\u0e08\\u0e49\\u0e07\", \"\\u0e44\\u0e25\\u0e19\\u0e4c\", \"\\u0e44\\u0e27\", \"\\u0e08\\u0e36\\u0e49\\u0e07\", \"\\u0e18\\u0e23\\u0e23\\u0e21\\u0e14\\u0e32\", \"\\u0e40\\u0e17\\u0e35\\u0e22\\u0e1a\", \"\\u0e41\\u0e1e\\u0e07\", \"\\u0e08\\u0e31\\u0e14\\u0e08\\u0e49\\u0e32\\u0e19\", \"\\u0e40\\u0e1c\\u0e47\\u0e14\", \"\\u0e44\\u0e02\\u0e48\", \"\\u0e23\\u0e30\\u0e27\\u0e31\\u0e07\", \"\\u0e17\\u0e33\\u0e2d\\u0e32\\u0e2b\\u0e32\\u0e23\", \"\\u0e40\\u0e08\\u0e2d\", \"\", \"\\u0e08\\u0e37\\u0e14\", \"\\u0e14\\u0e35\", \"\\u0e1c\\u0e31\\u0e14\", \"\\u0e1f\\u0e31\\u0e01\\u0e17\\u0e2d\\u0e07\", \"\\u0e22\\u0e33\", \"\\u0e2b\\u0e21\\u0e32\\u0e22\\u0e16\\u0e36\\u0e07\", \"\\u0e2d\\u0e23\\u0e48\\u0e2d\\u0e22\", \"\\u0e01\\u0e25\\u0e34\\u0e48\\u0e19\", \"\\u0e01\\u0e30\\u0e40\\u0e1e\\u0e23\\u0e32\", \"\\u0e01\\u0e31\\u0e1a\\u0e02\\u0e49\\u0e32\\u0e27\", \"\\u0e02\\u0e21\", \"\\u0e04\\u0e19\", \"\\u0e04\\u0e27\\u0e32\\u0e21\\u0e04\\u0e25\\u0e49\\u0e32\\u0e22\\u0e04\\u0e25\\u0e36\\u0e07\", \"\\u0e04\\u0e32\\u0e14\\u0e2b\\u0e27\\u0e31\\u0e07\", \"\\u0e08\\u0e21\\u0e39\\u0e01\", \"\\u0e08\\u0e31\\u0e1a\\u0e09\\u0e48\\u0e32\\u0e22\", \"\\u0e08\\u0e49\\u0e19\", \"\\u0e0a\\u0e2d\\u0e1a\", \"\\u0e0a\\u0e34\\u0e21\", \"\\u0e0b\\u0e2d\\u0e2a\", \"\\u0e0b\\u0e35\\u0e2d\\u0e34\\u0e49\\u0e27\", \"\\u0e14\\u0e31\\u0e19\", \"\\u0e15\\u0e33\", \"\\u0e15\\u0e35\", \"\\u0e17\\u0e34\\u0e28\\u0e17\\u0e32\\u0e07\", \"\\u0e19\\u0e34\\u0e14\\u0e19\\u0e36\\u0e07\", \"\\u0e19\\u0e36\\u0e07\"], \"Freq\": [6.0, 10.0, 5.0, 15.0, 7.0, 8.0, 6.0, 5.0, 4.0, 7.0, 3.0, 2.0, 2.0, 3.0, 3.0, 4.0, 3.0, 2.0, 2.0, 2.0, 2.0, 2.0, 2.0, 2.0, 2.0, 2.0, 2.0, 1.0, 1.0, 2.0, 2.8002997019429103, 2.800114423586578, 5.554536650144714, 1.882095684019811, 1.8821325997263134, 1.8820764388647624, 1.8821166787344095, 0.9642495385026395, 0.9642495385026395, 0.9642495385026395, 0.9642495385026395, 0.9640507010597957, 0.9640180717741905, 0.9640151850009332, 0.9640202587236278, 0.96402576983621, 0.964019558899808, 0.9640220957611553, 0.9640061747692513, 0.9640125606616085, 0.9639961148018396, 0.9640013634804893, 0.963996902103637, 0.964003812863859, 0.9639838678849905, 0.9639834304951029, 0.9639873670040902, 0.9639942777643122, 0.9639845677088104, 0.9639878918719551, 1.8823871606408207, 4.636403839295294, 2.8005105238686703, 1.8823451712116237, 3.7182983215748537, 1.8820202780032111, 3.7201672010860336, 1.8820783633802671, 1.8821049566854253, 1.8823439465199387, 1.8823642414107173, 1.8839342961507781, 0.9642503258044369, 0.964031805816657, 0.8733498228202853, 0.8733498228202853, 0.8733498228202853, 0.8733498228202853, 0.8733498228202853, 0.8733498228202853, 0.8733498228202853, 0.8733498228202853, 0.8733498228202853, 0.8733498228202853, 0.8733498228202853, 0.8733496731595692, 0.8733496731595692, 3.3686606763109435, 0.8733498228202853, 0.8733498228202853, 0.8733498228202853, 0.8733498228202853, 1.705121204829089, 1.705121204829089, 0.8733496731595692, 1.7051209055076568, 0.8733496731595692, 1.7051209055076568, 1.705121204829089, 1.705121204829089, 2.536891015400374, 1.7051209055076568, 0.8733496731595692, 0.04158847743325161, 0.04158847743325161, 0.8374688574080033, 0.8374688574080033, 0.8374688574080033, 0.8374688574080033, 0.8374688574080033, 0.8374688574080033, 0.8374688574080033, 0.8374688574080033, 0.8374688574080033, 0.8374688574080033, 0.8374688574080033, 0.8374688574080033, 0.8374688574080033, 1.6350650125825477, 1.6350650125825477, 1.6350650125825477, 0.8374688574080033, 0.8374688574080033, 0.8374688574080033, 0.8374688574080033, 2.433608157648447, 0.8374688574080033, 0.8374688574080033, 0.8384167102094482, 0.03987974708536155, 0.03987974708536155, 0.03987974708536155, 0.03987974708536155, 0.03987974708536155, 0.03987974708536155, 0.03987974708536155, 0.03987974708536155, 0.03987974708536155, 0.03987974708536155, 0.03987974708536155, 0.03987974708536155, 1.5537573834766947, 0.7958241424494976, 0.7958241424494976, 0.7958241424494976, 0.7958241424494976, 0.7958241424494976, 0.7958241424494976, 0.7958241424494976, 0.7958241424494976, 0.7958241424494976, 0.7958241424494976, 0.7958241424494976, 0.7959726519802264, 0.7959715392286992, 0.795975819042265, 0.7958241424494976, 0.7958241424494976, 0.7958241424494976, 1.5537573834766947, 0.795951509701212, 0.7963310435682155, 0.03789661229852716, 0.03789661229852716, 0.03789661229852716, 0.03789661229852716, 0.03789661229852716, 0.03789661229852716, 0.03789661229852716, 0.03789661229852716, 0.03789661229852716, 0.03885406276572052, 0.038075305214427785, 0.03806808035415224, 0.03806018944789053, 0.038058841306617346, 0.0380469407500213, 0.0380425031183304, 0.03804110950403808, 0.03874820692694064, 0.03858439973759811, 0.0383601642555918, 0.038240241204598256, 0.038219660651114346, 0.03818640917459257, 0.038177266422862906, 0.038163113614377936, 1.502366724444614, 0.7695020528404835, 0.7695020528404835, 0.7695019674048068, 0.7695019674048068, 0.7695019674048068, 0.7695019674048068, 1.5019984966780662, 0.7695019674048068, 0.7695019674048068, 0.7695019674048068, 0.7695020528404835, 2.2331204513490084, 2.965984268596372, 0.7695020528404835, 0.7695020528404835, 0.7695020528404835, 0.03664318285277349, 0.03664318285277349, 0.03664318285277349, 0.03664318285277349, 0.03664318285277349, 0.03664318285277349, 0.03664318285277349, 0.03664318285277349, 0.03664318285277349, 0.03664318285277349, 0.03664318285277349, 0.03664318285277349, 0.03664318285277349, 0.03664318285277349, 0.03664318285277349, 0.03664318285277349, 0.03664318285277349, 0.03664318285277349, 0.03664318285277349, 0.03664318285277349, 0.03664318285277349, 0.03664318285277349, 0.03664318285277349, 0.03664318285277349, 0.03664318285277349, 0.03664318285277349, 0.7732203191246573, 0.7730795132851435, 0.7730656898808077, 0.7730605462884966, 0.7730551615902961, 0.7730496965234657, 0.7730244607736898, 0.7732203191246573, 0.7732203191246573, 0.7730582155982307, 0.7730555634334454, 0.7732203191246573, 0.773066091723957, 0.7730503394725045, 0.7730514646333225, 0.7730382038093957, 0.7730415792918498, 0.7731009717093159, 1.5094757298944985, 0.7730660113553272, 0.7730404541310318, 0.03682024733258867, 0.03682024733258867, 0.03682024733258867, 0.03682024733258867, 0.03682024733258867, 0.03682024733258867, 0.03682024733258867, 0.03682024733258867, 0.03682024733258867, 0.03682024733258867, 0.03682024733258867, 0.03682024733258867, 0.03682024733258867, 0.03682024733258867, 0.03682024733258867, 0.03682024733258867, 0.03682024733258867, 0.03682024733258867, 0.7189288426029099, 0.7189288426029099, 0.7189288426029099, 0.7189288426029099, 0.7189288426029099, 0.7189288426029099, 0.7189288426029099, 0.7189288426029099, 0.7189288426029099, 0.7189288426029099, 0.7189288426029099, 0.7189288426029099, 0.7189288426029099, 0.7189288426029099, 0.7189288426029099, 0.7189288426029099, 0.034234863681431374, 0.034234863681431374, 0.034234863681431374, 0.034234863681431374, 0.034234863681431374, 0.034234863681431374, 0.034234863681431374, 0.034234863681431374, 0.034234863681431374, 0.034234863681431374, 0.034234863681431374, 0.034234863681431374, 0.034234863681431374, 0.034234863681431374, 0.034234863681431374, 0.034234863681431374, 0.034234863681431374, 0.034234863681431374, 0.034234863681431374, 0.034234863681431374, 0.034234863681431374, 0.034234863681431374, 0.034234863681431374, 0.034234863681431374, 0.034234863681431374, 0.034234863681431374, 0.034234863681431374, 0.6289014693525379, 0.6289014693525379, 0.6289014693525379, 0.6289014693525379, 0.6289014693525379, 0.6289014693525379, 0.6289014693525379, 0.6289014693525379, 0.6289014693525379, 0.6289014693525379, 0.6289014693525379, 0.02994779668798424, 0.02994779668798424, 0.02994779668798424, 0.02994779668798424, 0.02994779668798424, 0.02994779668798424, 0.02994779668798424, 0.02994779668798424, 0.02994779668798424, 0.02994779668798424, 0.02994779668798424, 0.02994779668798424, 0.02994779668798424, 0.02994779668798424, 0.02994779668798424, 0.02994779668798424, 0.02994779668798424, 0.02994779668798424, 0.02994779668798424, 0.02994779668798424, 0.02994779668798424, 0.02994779668798424, 0.02994779668798424, 0.02994779668798424, 0.02994779668798424, 0.02994779668798424, 0.02994779668798424, 0.02994779668798424, 0.02994779668798424, 0.02994779668798424, 0.02994779668798424, 0.02994779668798424, 0.02994779668798424, 0.02994779668798424, 0.02994779668798424, 0.02994779668798424, 0.02994779668798424, 0.02994779668798424, 0.6047090385982992, 1.180624771760108, 0.6047090385982992, 1.180624771760108, 0.6047090385982992, 0.6047090385982992, 0.6047090385982992, 0.6047090385982992, 0.028795769027869643, 0.028795769027869643, 0.028795769027869643, 0.028795769027869643, 0.028795769027869643, 0.028795769027869643, 0.028795769027869643, 0.028795769027869643, 0.028795769027869643, 0.028795769027869643, 0.028795769027869643, 0.028795769027869643, 0.028795769027869643, 0.028795769027869643, 0.028795769027869643, 0.028795769027869643, 0.028795769027869643, 0.028795769027869643, 0.028795769027869643, 0.028795769027869643, 0.028795769027869643, 0.028795769027869643, 0.028795769027869643, 0.028795769027869643, 0.028795769027869643, 0.028795769027869643, 0.028795769027869643, 0.028795769027869643, 0.028795769027869643, 0.028795769027869643, 0.028795769027869643, 0.028795769027869643, 0.028795769027869643, 0.028795769027869643, 0.028795769027869643, 0.028795769027869643, 0.028795769027869643, 0.028795769027869643, 0.028795769027869643, 0.028795769027869643, 0.028795769027869643, 0.028795769027869643, 0.028795769027869643, 0.028795769027869643, 0.6047092848513103, 0.6047092848513103, 0.6047092848513103, 0.6047092848513103, 0.6047092848513103, 0.6047092848513103, 0.6047092848513103, 0.6047092848513103, 0.6047092848513103, 0.6047092848513103, 0.028795779980945967, 0.028795779980945967, 0.028795779980945967, 0.028795779980945967, 0.028795779980945967, 0.028795779980945967, 0.028795779980945967, 0.028795779980945967, 0.028795779980945967, 0.028795779980945967, 0.028795779980945967, 0.028795779980945967, 0.028795779980945967, 0.028795779980945967, 0.028795779980945967, 0.028795779980945967, 0.028795779980945967, 0.028795779980945967, 0.028795779980945967, 0.028795779980945967, 0.028795779980945967, 0.028795779980945967, 0.028795779980945967, 0.028795779980945967, 0.028795779980945967, 0.028795779980945967, 0.028795779980945967, 0.028795779980945967, 0.028795779980945967, 0.028795779980945967, 0.028795779980945967, 0.028795779980945967, 0.028795779980945967, 0.028795779980945967, 0.028795779980945967, 0.028795779980945967, 0.028795779980945967, 0.028795779980945967, 0.028795779980945967, 0.028795779980945967, 0.5130910315792643, 0.5130969671372506, 0.5130978001980205, 0.5131032150930256, 0.5130963944079712, 0.5130956134134993, 0.5130968630046543, 0.02443297925147216, 0.02443297925147216, 0.02443297925147216, 0.02443297925147216, 0.02443297925147216, 0.02443297925147216, 0.02443297925147216, 0.02443297925147216, 0.02443297925147216, 0.02443297925147216, 0.02443297925147216, 0.02443297925147216, 0.02443297925147216, 0.02443297925147216, 0.02443297925147216, 0.02443297925147216, 0.02443297925147216, 0.02443297925147216, 0.02443297925147216, 0.02443297925147216, 0.02443297925147216, 0.02443297925147216, 0.02443297925147216, 0.02445349988122065, 0.024451806099459773, 0.02444883018510757, 0.024447700997266984, 0.024445722477938237, 0.024445520721033002, 0.024444848740372827, 0.024443465729328887, 0.024443044317728438, 0.024442727038724237, 0.024442343049775567, 0.024442276339831093, 0.02444057279563932, 0.024440297820502346, 0.024439520080174106, 0.02443938340614153, 0.02443908402492731, 0.024439017314982835, 0.024438880640950258, 0.024438709798409536, 0.024438682138188658, 0.024438657732111412, 0.024438564989017877, 0.0028179556250683573, 0.0028179556250683573, 0.0028179556250683573, 0.0028179556250683573, 0.0028179556250683573, 0.0028179556250683573, 0.0028179556250683573, 0.0028179556250683573, 0.0028179556250683573, 0.0028179556250683573, 0.0028179556250683573, 0.0028179556250683573, 0.0028179556250683573, 0.0028179556250683573, 0.0028179556250683573, 0.0028179556250683573, 0.0028179556250683573, 0.0028179556250683573, 0.0028179556250683573, 0.0028179556250683573, 0.0028179556250683573, 0.0028179556250683573, 0.0028179556250683573, 0.0028179556250683573, 0.0028179556250683573, 0.0028179556250683573, 0.0028179556250683573, 0.0028179556250683573, 0.0028179556250683573, 0.0028179556250683573, 0.002822664217213885, 0.002822178463336233, 0.002822121146679004, 0.0028283297483322773, 0.0028281409292440817, 0.0028264724202657536, 0.0028257989974669407, 0.0028253529243519857, 0.002824922186797493, 0.0028248972665117413, 0.0028247356680433672, 0.0028241561755523877, 0.0028239292092575416, 0.002823915598947631, 0.002822990097873715, 0.0028227403199326804, 0.002822099101810839, 0.0028220624881602346, 0.002821865234513785, 0.0028218410810060563, 0.002821831687975273, 0.0028217398663070033, 0.0028216585878365515, 0.002821644977526641, 0.0028216202489353952, 0.002821615073183739, 0.0028215926449265626, 0.00282154913027375, 0.0028215347531858163, 0.0028215019734253275, 0.0028175471367554226, 0.0028175471367554226, 0.0028175471367554226, 0.0028175471367554226, 0.0028175471367554226, 0.0028175471367554226, 0.0028175471367554226, 0.0028175471367554226, 0.0028175471367554226, 0.0028175471367554226, 0.0028175471367554226, 0.0028175471367554226, 0.0028175471367554226, 0.0028175471367554226, 0.0028175471367554226, 0.0028175471367554226, 0.0028175471367554226, 0.0028175471367554226, 0.0028175471367554226, 0.0028175471367554226, 0.0028325705385994896, 0.0028306380877040245, 0.002830217598041756, 0.0028298128240368745, 0.0028294120747735184, 0.00282835471767838, 0.0028175471367554226, 0.0028175471367554226, 0.0028175471367554226, 0.0028175471367554226, 0.0028315137564674264, 0.0028313416508536082, 0.0028312644141471844, 0.0028305882575708477, 0.0028305029713813724, 0.0028301899998141506, 0.0028299818631809586, 0.002829392142720248, 0.002829387543015647, 0.00282909047876017, 0.0028267147313337905, 0.0028175471367554226, 0.0028175471367554226, 0.0028175471367554226, 0.0028175471367554226, 0.0028175471367554226, 0.0028175471367554226, 0.0028175471367554226, 0.0028175471367554226, 0.0028175471367554226, 0.0028175471367554226, 0.0028175471367554226, 0.0028175471367554226, 0.0028175471367554226, 0.0028164644371981933, 0.0028164644371981933, 0.0028164644371981933, 0.0028164644371981933, 0.0028164644371981933, 0.0028164644371981933, 0.0028164644371981933, 0.0028164644371981933, 0.0028164644371981933, 0.0028164644371981933, 0.0028164644371981933, 0.0028164644371981933, 0.0028164644371981933, 0.0028164644371981933, 0.0028164644371981933, 0.0028164644371981933, 0.0028164644371981933, 0.0028164644371981933, 0.0028164644371981933, 0.0028164644371981933, 0.0028164644371981933, 0.0028164644371981933, 0.0028164644371981933, 0.0028164644371981933, 0.0028164644371981933, 0.0028164644371981933, 0.0028164644371981933, 0.0028164644371981933, 0.0028164644371981933, 0.0028164644371981933, 0.0028234272472839107, 0.002822317442281665, 0.002821912710150193, 0.00282148346040735, 0.0028207023446325556, 0.002820618639974982, 0.0028204412703802147, 0.002820301251834022, 0.0028202489603660185, 0.002820231146789006, 0.002819724896422949, 0.0028195925396303093, 0.0028192826216990644, 0.002819006415483455, 0.0028189456960865424, 0.0028189240516327536, 0.0028188043367334777, 0.002818718716637516, 0.002818670447590128, 0.0028186344373484257, 0.0028185344514645503, 0.00281849978202972, 0.0028184930779953606, 0.0028184894386624228, 0.0028184743066991544, 0.002818456684665981, 0.0028184049678294937, 0.002818376619341345, 0.0028183306488200233, 0.002818311494436139, 0.0027328974591641613, 0.0027328974591641613, 0.0027328974591641613, 0.0027328974591641613, 0.0027328974591641613, 0.0027328974591641613, 0.0027328974591641613, 0.0027328974591641613, 0.0027328974591641613, 0.0027328974591641613, 0.0027328974591641613, 0.0027328974591641613, 0.0027328974591641613, 0.0027328974591641613, 0.0027328974591641613, 0.0027328974591641613, 0.0027328974591641613, 0.0027328974591641613, 0.0027328974591641613, 0.0027328974591641613, 0.0027328974591641613, 0.0027328974591641613, 0.0027328974591641613, 0.0027328974591641613, 0.0027328974591641613, 0.0027328974591641613, 0.0027328974591641613, 0.0027328974591641613, 0.0027328974591641613, 0.0027328974591641613, 0.0027328974591641613, 0.0027328974591641613, 0.0027328974591641613, 0.0027328974591641613, 0.0027328974591641613, 0.0027328974591641613, 0.0027328974591641613, 0.0027328974591641613, 0.0027328974591641613, 0.0027328974591641613, 0.0027328974591641613, 0.0027328974591641613, 0.0027328974591641613, 0.0027328974591641613, 0.0027328974591641613, 0.0027328974591641613, 0.0027328974591641613, 0.0027328974591641613, 0.0027328974591641613, 0.0027328974591641613, 0.0027328974591641613, 0.0027328974591641613, 0.0027328974591641613, 0.0027328974591641613, 0.0027328974591641613, 0.0027328974591641613, 0.0027328974591641613, 0.0027328974591641613, 0.0027328974591641613, 0.0027328974591641613, 0.0027328974591641613, 0.0027328974591641613, 0.0027328974591641613, 0.0027328974591641613, 0.0027328974591641613, 0.0027328974591641613, 0.0027328974591641613, 0.0027328974591641613, 0.0027328974591641613, 0.0027328974591641613, 0.0027328974591641613, 0.0027328974591641613, 0.0027328974591641613, 0.0027328974591641613, 0.0027328974591641613, 0.0027328974591641613, 0.0027328974591641613, 0.0027328974591641613, 0.0027328974591641613, 0.0027328974591641613, 0.0027328974591641613, 0.0027328974591641613, 0.0027328974591641613, 0.0027328974591641613, 0.0027328974591641613, 0.0027328974591641613, 0.0027328974591641613, 0.0027328974591641613, 0.0027328974591641613, 0.0027328974591641613, 0.0027328974591641613, 0.0027328974591641613, 0.0027328974591641613, 0.0027328974591641613, 0.0027328974591641613, 0.0027328974591641613, 0.0027328974591641613, 0.0027328974591641613, 0.0027328974591641613, 0.0027328974591641613, 0.0027328974591641613, 0.0027328974591641613, 0.0027328974591641613, 0.0027328974591641613, 0.0027328974591641613, 0.0027328974591641613, 0.0027328974591641613, 0.0027328974591641613, 0.0027328974591641613, 0.0027328974591641613, 0.0027328974591641613, 0.0027328974591641613, 0.0027328974591641613, 0.0027328974591641613, 0.0027328974591641613, 0.0027328974591641613, 0.0027328974591641613, 0.0027328974591641613, 0.0027328974591641613, 0.0027328974591641613, 0.0027328974591641613, 0.0027328974591641613, 0.0027328974591641613, 0.0027328974591641613, 0.0027328974591641613, 0.0027328974591641613, 0.0027328974591641613, 0.0027328974591641613, 0.0027328974591641613, 0.0027328974591641613, 0.0027328974591641613, 0.0027328974591641613, 0.0027328974591641613, 0.0027328974591641613, 0.0027328974591641613, 0.0027328974591641613, 0.0027328974591641613, 0.0027328974591641613, 0.0027328974591641613, 0.0027328974591641613, 0.0027328974591641613, 0.0027328974591641613, 0.0027328974591641613, 0.0027328974591641613, 0.0027328974591641613, 0.0027328974591641613, 0.0027328974591641613, 0.0027328974591641613, 0.0027328974591641613, 0.0027328974591641613, 0.0027328974591641613, 0.0027328974591641613, 0.0027328974591641613, 0.0027328974591641613, 0.0027328974591641613, 0.0027328974591641613, 0.0027328974591641613, 0.0027328974591641613, 0.0027328974591641613, 0.0027328974591641613, 0.0027328974591641613, 0.0027328974591641613, 0.0027328974591641613, 0.0027328974591641613, 0.0027328974591641613, 0.0027328974591641613, 0.0027328974591641613, 0.0027328974591641613, 0.0027328974591641613, 0.0027328974591641613, 0.0027328974591641613, 0.0027328974591641613, 0.0027328974591641613, 0.0027328974591641613, 0.0027328974591641613, 0.0027328974591641613, 0.0027328974591641613, 0.0027328974591641613, 0.0027328974591641613, 0.0027328974591641613, 0.0027328974591641613, 0.0027328974591641613, 0.0027328974591641613, 0.0027328974591641613, 0.0027328974591641613, 0.0027328974591641613, 0.0027328974591641613, 0.0027328974591641613, 0.0027328974591641613, 0.0027328974591641613, 0.0027328974591641613, 0.0027328974591641613, 0.0027328974591641613, 0.0027328974591641613, 0.0027328974591641613, 0.0027328974591641613, 0.0027328974591641613, 0.0027328974591641613, 0.0027328974591641613, 0.0027328974591641613, 0.0027328974591641613, 0.0027328974591641613, 0.0027328974591641613, 0.0027328974591641613, 0.0027328974591641613, 0.0027328974591641613, 0.0027328974591641613, 0.0027328974591641613, 0.0027328974591641613, 0.0027328974591641613, 0.0027328974591641613, 0.0027328974591641613, 0.0027328974591641613, 0.0027328974591641613, 0.0027328974591641613, 0.0027328974591641613, 0.0027328974591641613, 0.0027328974591641613, 0.0027328974591641613, 0.0027328974591641613, 0.0027328974591641613, 0.0027328974591641613, 0.0027328974591641613, 0.0027328974591641613, 0.0027328974591641613, 0.0027328974591641613, 0.0027328974591641613, 0.0027328974591641613, 0.0027328974591641613, 0.0027328974591641613, 0.0027328974591641613, 0.0027328974591641613, 0.0027328974591641613, 0.0027328974591641613, 0.0027328974591641613, 0.0027328974591641613, 0.0027328974591641613, 0.0027328974591641613, 0.0027328974591641613, 0.0027328974591641613, 0.0027328974591641613, 0.0027328974591641613, 0.0027328974591641613, 0.0027328974591641613, 0.0027328974591641613, 0.0027328974591641613, 0.0027328974591641613, 0.0027328974591641613, 0.0027328974591641613, 0.0027328974591641613, 0.0027328974591641613, 0.0027328974591641613, 0.0027328974591641613, 0.0027328974591641613, 0.0027328974591641613, 0.0027328974591641613, 0.0027328974591641613, 0.0027328974591641613, 0.0027328974591641613, 0.0027328974591641613, 0.0027328974591641613, 0.0027328974591641613, 0.0027328974591641613, 0.0027328974591641613, 0.0027328974591641613, 0.0027328974591641613, 0.0027328974591641613, 0.0027328974591641613, 0.0027328974591641613, 0.0027328974591641613, 0.0027328974591641613, 0.0027328974591641613, 0.0027328974591641613, 0.0027328974591641613, 0.0027328974591641613, 0.0027328974591641613, 0.0027328974591641613, 0.0027328974591641613, 0.0027328974591641613, 0.0027328974591641613, 0.0027328974591641613, 0.0027328974591641613, 0.0027328974591641613, 0.0027328974591641613, 0.0027328974591641613, 0.0027328974591641613, 0.0027328974591641613, 0.0027328974591641613, 0.0027328974591641613, 0.0027328974591641613, 0.0027328974591641613, 0.0027328974591641613, 0.0027328974591641613, 0.0027328974591641613, 0.0027328974591641613, 0.0027328974591641613, 0.0027328974591641613, 0.0027328974591641613, 0.0027328974591641613, 0.0027328974591641613, 0.0027328974591641613, 0.0027328974591641613, 0.0027328974591641613, 0.0027328974591641613, 0.0027328974591641613, 0.0027328974591641613, 0.0027328974591641613, 0.0027328974591641613, 0.0027328974591641613, 0.0027328974591641613, 0.0027328974591641613, 0.0027328974591641613, 0.0027328974591641613, 0.0027328974591641613, 0.0027328974591641613, 0.0027328974591641613, 0.0027328974591641613, 0.0027328974591641613, 0.0027328974591641613, 0.0027328974591641613, 0.0027328974591641613, 0.0027328974591641613, 0.0027328974591641613, 0.0027328974591641613, 0.0027328974591641613, 0.0027328974591641613, 0.0027328974591641613, 0.0027328974591641613, 0.0027328974591641613, 0.0027328974591641613, 0.0027328974591641613, 0.0027328974591641613, 0.0027328974591641613, 0.0027328974591641613, 0.0027328974591641613, 0.0027328974591641613, 0.0027328974591641613, 0.0027328974591641613, 0.0027328974591641613, 0.0027328974591641613, 0.0027328974591641613, 0.0027328974591641613, 0.0027328974591641613, 0.0027328974591641613, 0.0027328974591641613, 0.0027328974591641613, 0.0027328974591641613, 0.0027328974591641613], \"Total\": [6.0, 10.0, 5.0, 15.0, 7.0, 8.0, 6.0, 5.0, 4.0, 7.0, 3.0, 2.0, 2.0, 3.0, 3.0, 4.0, 3.0, 2.0, 2.0, 2.0, 2.0, 2.0, 2.0, 2.0, 2.0, 2.0, 2.0, 1.0, 1.0, 2.0, 3.1645407545299795, 3.164494267640619, 6.495330035331647, 2.2462597035891045, 2.24630450451215, 2.2462464754561697, 2.2463109400731494, 1.3281343460888517, 1.3281343460888517, 1.3281343460888517, 1.3281343460888517, 1.3280522031699373, 1.3280218565830086, 1.32802186886762, 1.328030912197171, 1.3280410277825778, 1.3280413231069914, 1.328046375481087, 1.3280244817639582, 1.3280336961264212, 1.3280128400829823, 1.3280226260991783, 1.3280239716205726, 1.3280377100428824, 1.3280121328780705, 1.32801327307279, 1.3280213709123667, 1.3280309769631025, 1.3280226263161434, 1.3280277891639312, 2.735045115615601, 8.732770258655016, 4.82816170265486, 2.9826175096582004, 7.215517595546666, 3.4677869084010706, 15.462476850798017, 4.646042822131865, 5.603365115658135, 6.665262585023763, 7.643589659005398, 10.411274907099797, 2.640306087758709, 2.159799166642767, 1.2415637588801958, 1.2415637588801958, 1.2415637588801958, 1.2415637588801958, 1.2415637588801958, 1.2415637588801958, 1.2415637588801958, 1.2415637588801958, 1.2415637588801958, 1.2415637588801958, 1.2415637588801958, 1.2415636092194797, 1.2415636092194797, 7.643589659005398, 2.1597729251160014, 2.1597880405067187, 2.1597944691647872, 2.159799166642767, 4.646042822131865, 4.82816170265486, 2.732349923922485, 5.425716366108006, 2.9693061168220836, 6.665262585023763, 7.215517595546666, 8.732770258655016, 15.462476850798017, 10.411274907099797, 5.603365115658135, 0.8984604658209547, 1.142661283480872, 1.2073915238158035, 1.2073915238158035, 1.2073915238158035, 1.2073915238158035, 1.2073915238158035, 1.2073915238158035, 1.2073915238158035, 1.2073915238158035, 1.2073915238158035, 1.2073915238158035, 1.2073915238158035, 1.2073915238158035, 1.2073915238158035, 2.6039413516549033, 2.7629152091413203, 3.1798548565252673, 2.1255947225114484, 2.1256066558597992, 2.698177838518809, 2.7245690857007743, 10.411274907099797, 5.603365115658135, 6.665262585023763, 15.462476850798017, 0.8984604658209547, 0.9857156830635921, 0.9857159183635269, 0.9857159183635269, 0.9857159183635269, 1.0087560861577158, 1.142661283480872, 3.4677869084010706, 2.4745725838803576, 8.732770258655016, 7.215517595546666, 1.8755259550850025, 1.9256631846713297, 1.1677299436441324, 1.1677299436441324, 1.1677299436441324, 1.1677299436441324, 1.1677299436441324, 1.1677299436441324, 1.1677299436441324, 1.1677299436441324, 1.1677299436441324, 1.1677299436441324, 1.903977902608048, 2.0859396777394283, 2.0859449832111885, 2.0859642801471963, 2.698177838518809, 2.732349923922485, 2.7629152091413203, 5.425716366108006, 7.643589659005398, 15.462476850798017, 0.8984604658209547, 0.9857156830635921, 0.9857159183635269, 0.9857159183635269, 0.9857159183635269, 1.0087560861577158, 1.0087560861577158, 1.0087560861577158, 1.0087560861577158, 6.495330035331647, 1.3280225864152475, 1.3280091788276431, 1.3280113883636135, 1.3280235276069239, 1.328014995387189, 1.3280277891639312, 1.3280309769631025, 8.732770258655016, 7.215517595546666, 3.164494267640619, 3.4677869084010706, 3.1645407545299795, 2.2463109400731494, 4.646042822131865, 2.24630450451215, 1.8755259550850025, 1.142661283480872, 1.142661283480872, 1.1426611980451953, 1.1426611980451953, 1.1426611980451953, 1.1426611980451953, 2.4745725838803576, 1.8273551769666738, 2.698177838518809, 2.732349923922485, 3.4677869084010706, 10.411274907099797, 15.462476850798017, 6.665262585023763, 7.215517595546666, 8.732770258655016, 0.8984604658209547, 0.9857156830635921, 0.9857159183635269, 0.9857159183635269, 0.9857159183635269, 1.0087560861577158, 1.0087560861577158, 1.0087560861577158, 1.0087560861577158, 1.0944963924146405, 1.0944963924146405, 1.0944963924146405, 1.0944963924146405, 2.159799166642767, 2.2462597035891045, 1.3280336961264212, 2.9826175096582004, 1.3280226263161434, 1.3280113883636135, 1.3280239716205726, 1.3280377100428824, 2.2462464754561697, 1.3280410277825778, 2.1255947225114484, 1.3280128400829823, 2.1597729251160014, 1.1462024852852306, 1.1460724870266397, 1.1460597209793992, 1.1460549781363514, 1.1460499982121557, 1.1460449536349877, 1.1460216503361071, 1.722115990155595, 1.7451561579497843, 1.830746795406708, 1.903977902608048, 2.064415865200807, 2.640306087758709, 2.9826175096582004, 4.646042822131865, 6.665262585023763, 7.215517595546666, 7.643589659005398, 15.462476850798017, 8.732770258655016, 10.411274907099797, 0.8984604658209547, 0.9857156830635921, 0.9857159183635269, 0.9857159183635269, 0.9857159183635269, 1.0087560861577158, 1.0087560861577158, 1.0087560861577158, 1.0087560861577158, 1.142661283480872, 3.4677869084010706, 2.4745725838803576, 1.8755259550850025, 1.142661283480872, 2.159799166642767, 2.2462597035891045, 1.3280336961264212, 1.3280226263161434, 1.0944963924146405, 1.0944963924146405, 1.0944963924146405, 1.0944963924146405, 1.0944963924146405, 1.0944963924146405, 1.0944963924146405, 1.0944963924146405, 1.0944963924146405, 1.0944963924146405, 1.0944963924146405, 1.8273551769666738, 1.830746795406708, 5.425716366108006, 10.411274907099797, 15.462476850798017, 0.8984604658209547, 0.9857156830635921, 0.9857159183635269, 0.9857159183635269, 0.9857159183635269, 1.0087560861577158, 1.0087560861577158, 1.0087560861577158, 1.0087560861577158, 1.1426611980451953, 1.1426611980451953, 1.1426611980451953, 1.1426611980451953, 1.142661283480872, 3.4677869084010706, 2.4745725838803576, 8.732770258655016, 7.215517595546666, 6.665262585023763, 1.8755259550850025, 1.142661283480872, 2.159799166642767, 2.2462597035891045, 1.3280336961264212, 2.9826175096582004, 1.3280226263161434, 1.3280113883636135, 1.0087560861577158, 1.0087560861577158, 1.0087560861577158, 1.0087560861577158, 1.7451561579497843, 2.4745725838803576, 2.6039413516549033, 2.7245690857007743, 3.1798548565252673, 8.732770258655016, 15.462476850798017, 0.8984604658209547, 0.9857156830635921, 0.9857159183635269, 0.9857159183635269, 0.9857159183635269, 1.0944963924146405, 1.0944963924146405, 1.0944963924146405, 1.0944963924146405, 1.0944963924146405, 1.0944963924146405, 1.0944963924146405, 1.0944963924146405, 1.0944963924146405, 1.0944963924146405, 1.0944963924146405, 1.1426611980451953, 1.1426611980451953, 1.1426611980451953, 1.142661283480872, 3.4677869084010706, 7.215517595546666, 6.665262585023763, 1.8755259550850025, 10.411274907099797, 1.142661283480872, 2.159799166642767, 2.2462597035891045, 1.3280336961264212, 2.9826175096582004, 1.3280226263161434, 1.3280113883636135, 1.3280239716205726, 1.3280377100428824, 2.2462464754561697, 1.3280410277825778, 2.1255947225114484, 1.3280128400829823, 0.9857156830635921, 2.9693061168220836, 2.640306087758709, 5.603365115658135, 5.425716366108006, 6.495330035331647, 7.643589659005398, 15.462476850798017, 0.8984604658209547, 0.9857159183635269, 0.9857159183635269, 0.9857159183635269, 1.0087560861577158, 1.0087560861577158, 1.0087560861577158, 1.0087560861577158, 1.0944963924146405, 1.0944963924146405, 1.0944963924146405, 1.0944963924146405, 1.0944963924146405, 1.0944963924146405, 1.0944963924146405, 1.0944963924146405, 1.0944963924146405, 1.0944963924146405, 1.0944963924146405, 1.1426611980451953, 1.1426611980451953, 1.1426611980451953, 1.142661283480872, 3.4677869084010706, 2.4745725838803576, 8.732770258655016, 7.215517595546666, 6.665262585023763, 1.8755259550850025, 10.411274907099797, 1.142661283480872, 2.159799166642767, 2.2462597035891045, 1.3280336961264212, 2.9826175096582004, 1.3280226263161434, 1.3280113883636135, 1.3280239716205726, 1.3280377100428824, 2.2462464754561697, 1.3280410277825778, 2.1255947225114484, 1.3280128400829823, 2.1597729251160014, 0.9857159183635269, 0.9857159183635269, 0.9857159183635269, 1.722115990155595, 1.9039341444613713, 2.9693061168220836, 3.1798548565252673, 5.425716366108006, 5.603365115658135, 15.462476850798017, 0.8984604658209547, 0.9857156830635921, 1.0087560861577158, 1.0087560861577158, 1.0087560861577158, 1.0087560861577158, 1.0944963924146405, 1.0944963924146405, 1.0944963924146405, 1.0944963924146405, 1.0944963924146405, 1.0944963924146405, 1.0944963924146405, 1.0944963924146405, 1.0944963924146405, 1.0944963924146405, 1.0944963924146405, 1.1426611980451953, 1.1426611980451953, 1.1426611980451953, 1.142661283480872, 3.4677869084010706, 2.4745725838803576, 8.732770258655016, 7.215517595546666, 6.665262585023763, 1.8755259550850025, 10.411274907099797, 1.142661283480872, 2.159799166642767, 2.2462597035891045, 1.3280336961264212, 2.9826175096582004, 1.3280226263161434, 1.3280113883636135, 1.3280239716205726, 1.3280377100428824, 2.2462464754561697, 1.3280410277825778, 2.1255947225114484, 0.8984604658209547, 1.8166524925164325, 2.735045115615601, 3.4677869084010706, 6.665262585023763, 10.411274907099797, 15.462476850798017, 0.9857156830635921, 0.9857159183635269, 0.9857159183635269, 0.9857159183635269, 1.0087560861577158, 1.0087560861577158, 1.0087560861577158, 1.0087560861577158, 1.0944963924146405, 1.0944963924146405, 1.0944963924146405, 1.0944963924146405, 1.0944963924146405, 1.0944963924146405, 1.0944963924146405, 1.0944963924146405, 1.0944963924146405, 1.0944963924146405, 1.0944963924146405, 1.1426611980451953, 1.1426611980451953, 1.1426611980451953, 1.1426611980451953, 6.495330035331647, 3.1645407545299795, 3.164494267640619, 8.732770258655016, 2.24630450451215, 2.2463109400731494, 4.646042822131865, 2.2462464754561697, 7.215517595546666, 4.82816170265486, 5.603365115658135, 2.2462597035891045, 2.7245690857007743, 2.9826175096582004, 1.32801327307279, 2.1597944691647872, 1.3280226260991783, 1.3280213709123667, 1.328014995387189, 1.3280128400829823, 1.3280091788276431, 1.3280121328780705, 1.3280413231069914, 0.8984604658209547, 0.9857156830635921, 0.9857159183635269, 0.9857159183635269, 0.9857159183635269, 1.0087560861577158, 1.0087560861577158, 1.0087560861577158, 1.0087560861577158, 1.0944963924146405, 1.0944963924146405, 1.0944963924146405, 1.0944963924146405, 1.0944963924146405, 1.0944963924146405, 1.0944963924146405, 1.0944963924146405, 1.0944963924146405, 1.0944963924146405, 1.0944963924146405, 1.1426611980451953, 1.1426611980451953, 1.1426611980451953, 1.1426611980451953, 1.142661283480872, 1.142661283480872, 1.1460216503361071, 1.1460449536349877, 1.1460499982121557, 1.1460549781363514, 1.3280016933973522, 1.3280121328780705, 1.3280218565830086, 6.495330035331647, 3.164494267640619, 3.1645407545299795, 2.2462464754561697, 8.732770258655016, 4.646042822131865, 2.2462597035891045, 4.82816170265486, 7.215517595546666, 5.603365115658135, 3.4677869084010706, 2.24630450451215, 1.8166524925164325, 1.328014995387189, 2.1597729251160014, 1.3280091788276431, 1.3280128400829823, 1.32802186886762, 1.32801327307279, 2.0859449832111885, 1.3280239716205726, 2.064415865200807, 2.7245690857007743, 2.1256066558597992, 2.1255947225114484, 2.9826175096582004, 1.3280113883636135, 0.8984604658209547, 0.9857156830635921, 0.9857159183635269, 0.9857159183635269, 0.9857159183635269, 1.0087560861577158, 1.0087560861577158, 1.0087560861577158, 1.0087560861577158, 1.0944963924146405, 1.0944963924146405, 1.0944963924146405, 1.0944963924146405, 1.0944963924146405, 1.0944963924146405, 1.0944963924146405, 1.0944963924146405, 1.0944963924146405, 1.0944963924146405, 1.0944963924146405, 1.1460216503361071, 1.1460449536349877, 1.1460499982121557, 1.1460549781363514, 1.1460597209793992, 1.1460724870266397, 1.1426611980451953, 1.1426611980451953, 1.1426611980451953, 1.1426611980451953, 6.665262585023763, 10.411274907099797, 7.215517595546666, 2.9826175096582004, 4.646042822131865, 1.903977902608048, 1.830746795406708, 8.732770258655016, 2.640306087758709, 15.462476850798017, 7.643589659005398, 1.142661283480872, 3.4677869084010706, 2.4745725838803576, 1.8755259550850025, 1.142661283480872, 2.159799166642767, 2.2462597035891045, 1.3280336961264212, 1.3280226263161434, 1.3280113883636135, 1.3280239716205726, 1.3280377100428824, 2.2462464754561697, 0.8984604658209547, 0.9857156830635921, 0.9857159183635269, 0.9857159183635269, 0.9857159183635269, 1.0087560861577158, 1.0087560861577158, 1.0087560861577158, 1.0087560861577158, 1.0944963924146405, 1.0944963924146405, 1.0944963924146405, 1.0944963924146405, 1.0944963924146405, 1.0944963924146405, 1.0944963924146405, 1.0944963924146405, 1.0944963924146405, 1.0944963924146405, 1.0944963924146405, 1.1426611980451953, 1.1426611980451953, 1.1426611980451953, 1.1426611980451953, 1.142661283480872, 1.142661283480872, 1.1460216503361071, 1.1460449536349877, 1.1460499982121557, 1.1460549781363514, 6.495330035331647, 3.1645407545299795, 3.164494267640619, 8.732770258655016, 5.603365115658135, 2.2462597035891045, 2.2462464754561697, 4.82816170265486, 2.2463109400731494, 7.215517595546666, 4.646042822131865, 3.4677869084010706, 2.24630450451215, 2.1255947225114484, 1.8166524925164325, 1.3280226260991783, 1.3280226263161434, 2.0859396777394283, 2.1597729251160014, 1.3280128400829823, 1.3280244817639582, 1.9039341444613713, 1.3280113883636135, 1.32801327307279, 1.3280377100428824, 2.735045115615601, 7.643589659005398, 1.3280277891639312, 2.9826175096582004, 1.3280410277825778, 0.8984604658209547, 0.9857156830635921, 0.9857159183635269, 0.9857159183635269, 0.9857159183635269, 1.0087560861577158, 1.0087560861577158, 1.0087560861577158, 1.0087560861577158, 1.0944963924146405, 1.0944963924146405, 1.0944963924146405, 1.0944963924146405, 1.0944963924146405, 1.0944963924146405, 1.0944963924146405, 1.0944963924146405, 1.0944963924146405, 1.0944963924146405, 1.0944963924146405, 1.1426611980451953, 1.1426611980451953, 1.1426611980451953, 1.1426611980451953, 1.142661283480872, 1.142661283480872, 1.1460216503361071, 1.1460449536349877, 1.1460499982121557, 1.1460549781363514, 15.462476850798017, 3.4677869084010706, 2.4745725838803576, 8.732770258655016, 7.215517595546666, 6.665262585023763, 1.8755259550850025, 10.411274907099797, 2.159799166642767, 2.2462597035891045, 1.3280336961264212, 2.9826175096582004, 1.3280226263161434, 1.3280113883636135, 1.3280239716205726, 1.3280377100428824, 2.2462464754561697, 1.3280410277825778, 2.1255947225114484, 1.3280128400829823, 2.1597729251160014, 1.328014995387189, 2.2463109400731494, 1.3280244817639582, 1.3280235276069239, 2.0859642801471963, 1.3280226260991783, 1.3280277891639312, 0.8984604658209547, 0.9857156830635921, 0.9857159183635269, 0.9857159183635269, 0.9857159183635269, 1.0087560861577158, 1.0087560861577158, 1.0087560861577158, 1.0087560861577158, 1.0944963924146405, 1.0944963924146405, 1.0944963924146405, 1.0944963924146405, 1.0944963924146405, 1.0944963924146405, 1.0944963924146405, 1.0944963924146405, 1.0944963924146405, 1.0944963924146405, 1.0944963924146405, 1.1426611980451953, 1.1426611980451953, 1.1426611980451953, 1.1426611980451953, 1.142661283480872, 1.142661283480872, 1.1460216503361071, 1.1460449536349877, 1.1460499982121557, 1.1460549781363514, 15.462476850798017, 3.4677869084010706, 2.4745725838803576, 8.732770258655016, 7.215517595546666, 6.665262585023763, 1.8755259550850025, 10.411274907099797, 2.159799166642767, 2.2462597035891045, 1.3280336961264212, 2.9826175096582004, 1.3280226263161434, 1.3280113883636135, 1.3280239716205726, 1.3280377100428824, 2.2462464754561697, 1.3280410277825778, 2.1255947225114484, 1.3280128400829823, 2.1597729251160014, 1.328014995387189, 2.2463109400731494, 1.3280244817639582, 1.3280235276069239, 2.0859642801471963, 1.3280226260991783, 1.3280277891639312, 0.8984604658209547, 0.9857156830635921, 0.9857159183635269, 0.9857159183635269, 0.9857159183635269, 1.0087560861577158, 1.0087560861577158, 1.0087560861577158, 1.0087560861577158, 1.0944963924146405, 1.0944963924146405, 1.0944963924146405, 1.0944963924146405, 1.0944963924146405, 1.0944963924146405, 1.0944963924146405, 1.0944963924146405, 1.0944963924146405, 1.0944963924146405, 1.0944963924146405, 1.1426611980451953, 1.1426611980451953, 1.1426611980451953, 1.1426611980451953, 1.142661283480872, 1.142661283480872, 1.1460216503361071, 1.1460449536349877, 1.1460499982121557, 1.1460549781363514, 15.462476850798017, 3.4677869084010706, 2.4745725838803576, 8.732770258655016, 7.215517595546666, 6.665262585023763, 1.8755259550850025, 10.411274907099797, 2.159799166642767, 2.2462597035891045, 1.3280336961264212, 2.9826175096582004, 1.3280226263161434, 1.3280113883636135, 1.3280239716205726, 1.3280377100428824, 2.2462464754561697, 1.3280410277825778, 2.1255947225114484, 1.3280128400829823, 2.1597729251160014, 1.328014995387189, 2.2463109400731494, 1.3280244817639582, 1.3280235276069239, 2.0859642801471963, 1.3280226260991783, 1.3280277891639312, 0.8984604658209547, 0.9857156830635921, 0.9857159183635269, 0.9857159183635269, 0.9857159183635269, 1.0087560861577158, 1.0087560861577158, 1.0087560861577158, 1.0087560861577158, 1.0944963924146405, 1.0944963924146405, 1.0944963924146405, 1.0944963924146405, 1.0944963924146405, 1.0944963924146405, 1.0944963924146405, 1.0944963924146405, 1.0944963924146405, 1.0944963924146405, 1.0944963924146405, 1.1426611980451953, 1.1426611980451953, 1.1426611980451953, 1.1426611980451953, 1.142661283480872, 1.142661283480872, 1.1460216503361071, 1.1460449536349877, 1.1460499982121557, 1.1460549781363514, 15.462476850798017, 3.4677869084010706, 2.4745725838803576, 8.732770258655016, 7.215517595546666, 6.665262585023763, 1.8755259550850025, 10.411274907099797, 2.159799166642767, 2.2462597035891045, 1.3280336961264212, 2.9826175096582004, 1.3280226263161434, 1.3280113883636135, 1.3280239716205726, 1.3280377100428824, 2.2462464754561697, 1.3280410277825778, 2.1255947225114484, 1.3280128400829823, 2.1597729251160014, 1.328014995387189, 2.2463109400731494, 1.3280244817639582, 1.3280235276069239, 2.0859642801471963, 1.3280226260991783, 1.3280277891639312, 0.8984604658209547, 0.9857156830635921, 0.9857159183635269, 0.9857159183635269, 0.9857159183635269, 1.0087560861577158, 1.0087560861577158, 1.0087560861577158, 1.0087560861577158, 1.0944963924146405, 1.0944963924146405, 1.0944963924146405, 1.0944963924146405, 1.0944963924146405, 1.0944963924146405, 1.0944963924146405, 1.0944963924146405, 1.0944963924146405, 1.0944963924146405, 1.0944963924146405, 1.1426611980451953, 1.1426611980451953, 1.1426611980451953, 1.1426611980451953, 1.142661283480872, 1.142661283480872, 1.1460216503361071, 1.1460449536349877, 1.1460499982121557, 1.1460549781363514, 15.462476850798017, 3.4677869084010706, 2.4745725838803576, 8.732770258655016, 7.215517595546666, 6.665262585023763, 1.8755259550850025, 10.411274907099797, 2.159799166642767, 2.2462597035891045, 1.3280336961264212, 2.9826175096582004, 1.3280226263161434, 1.3280113883636135, 1.3280239716205726, 1.3280377100428824, 2.2462464754561697, 1.3280410277825778, 2.1255947225114484, 1.3280128400829823, 2.1597729251160014, 1.328014995387189, 2.2463109400731494, 1.3280244817639582, 1.3280235276069239, 2.0859642801471963, 1.3280226260991783, 1.3280277891639312, 0.8984604658209547, 0.9857156830635921, 0.9857159183635269, 0.9857159183635269, 0.9857159183635269, 1.0087560861577158, 1.0087560861577158, 1.0087560861577158, 1.0087560861577158, 1.0944963924146405, 1.0944963924146405, 1.0944963924146405, 1.0944963924146405, 1.0944963924146405, 1.0944963924146405, 1.0944963924146405, 1.0944963924146405, 1.0944963924146405, 1.0944963924146405, 1.0944963924146405, 1.1426611980451953, 1.1426611980451953, 1.1426611980451953, 1.1426611980451953, 1.142661283480872, 1.142661283480872, 1.1460216503361071, 1.1460449536349877, 1.1460499982121557, 1.1460549781363514, 15.462476850798017, 3.4677869084010706, 2.4745725838803576, 8.732770258655016, 7.215517595546666, 6.665262585023763, 1.8755259550850025, 10.411274907099797, 2.159799166642767, 2.2462597035891045, 1.3280336961264212, 2.9826175096582004, 1.3280226263161434, 1.3280113883636135, 1.3280239716205726, 1.3280377100428824, 2.2462464754561697, 1.3280410277825778, 2.1255947225114484, 1.3280128400829823, 2.1597729251160014, 1.328014995387189, 2.2463109400731494, 1.3280244817639582, 1.3280235276069239, 2.0859642801471963, 1.3280226260991783, 1.3280277891639312], \"Category\": [\"Default\", \"Default\", \"Default\", \"Default\", \"Default\", \"Default\", \"Default\", \"Default\", \"Default\", \"Default\", \"Default\", \"Default\", \"Default\", \"Default\", \"Default\", \"Default\", \"Default\", \"Default\", \"Default\", \"Default\", \"Default\", \"Default\", \"Default\", \"Default\", \"Default\", \"Default\", \"Default\", \"Default\", \"Default\", \"Default\", \"Topic1\", \"Topic1\", \"Topic1\", \"Topic1\", \"Topic1\", \"Topic1\", \"Topic1\", \"Topic1\", \"Topic1\", \"Topic1\", \"Topic1\", \"Topic1\", \"Topic1\", \"Topic1\", \"Topic1\", \"Topic1\", \"Topic1\", \"Topic1\", \"Topic1\", \"Topic1\", \"Topic1\", \"Topic1\", \"Topic1\", \"Topic1\", \"Topic1\", \"Topic1\", \"Topic1\", \"Topic1\", \"Topic1\", \"Topic1\", \"Topic1\", \"Topic1\", \"Topic1\", \"Topic1\", \"Topic1\", \"Topic1\", \"Topic1\", \"Topic1\", \"Topic1\", \"Topic1\", \"Topic1\", \"Topic1\", \"Topic1\", \"Topic1\", \"Topic2\", \"Topic2\", \"Topic2\", \"Topic2\", \"Topic2\", \"Topic2\", \"Topic2\", \"Topic2\", \"Topic2\", \"Topic2\", \"Topic2\", \"Topic2\", \"Topic2\", \"Topic2\", \"Topic2\", \"Topic2\", \"Topic2\", \"Topic2\", \"Topic2\", \"Topic2\", \"Topic2\", \"Topic2\", \"Topic2\", \"Topic2\", \"Topic2\", \"Topic2\", \"Topic2\", \"Topic2\", \"Topic2\", \"Topic2\", \"Topic2\", \"Topic3\", \"Topic3\", \"Topic3\", \"Topic3\", \"Topic3\", \"Topic3\", \"Topic3\", \"Topic3\", \"Topic3\", \"Topic3\", \"Topic3\", \"Topic3\", \"Topic3\", \"Topic3\", \"Topic3\", \"Topic3\", \"Topic3\", \"Topic3\", \"Topic3\", \"Topic3\", \"Topic3\", \"Topic3\", \"Topic3\", \"Topic3\", \"Topic3\", \"Topic3\", \"Topic3\", \"Topic3\", \"Topic3\", \"Topic3\", \"Topic3\", \"Topic3\", \"Topic3\", \"Topic3\", \"Topic3\", \"Topic3\", \"Topic4\", \"Topic4\", \"Topic4\", \"Topic4\", \"Topic4\", \"Topic4\", \"Topic4\", \"Topic4\", \"Topic4\", \"Topic4\", \"Topic4\", \"Topic4\", \"Topic4\", \"Topic4\", \"Topic4\", \"Topic4\", \"Topic4\", \"Topic4\", \"Topic4\", \"Topic4\", \"Topic4\", \"Topic4\", \"Topic4\", \"Topic4\", \"Topic4\", \"Topic4\", \"Topic4\", \"Topic4\", \"Topic4\", \"Topic4\", \"Topic4\", \"Topic4\", \"Topic4\", \"Topic4\", \"Topic4\", \"Topic4\", \"Topic4\", \"Topic4\", \"Topic4\", \"Topic4\", \"Topic4\", \"Topic4\", \"Topic4\", \"Topic4\", \"Topic4\", \"Topic4\", \"Topic5\", \"Topic5\", \"Topic5\", \"Topic5\", \"Topic5\", \"Topic5\", \"Topic5\", \"Topic5\", \"Topic5\", \"Topic5\", \"Topic5\", \"Topic5\", \"Topic5\", \"Topic5\", \"Topic5\", \"Topic5\", \"Topic5\", \"Topic5\", \"Topic5\", \"Topic5\", \"Topic5\", \"Topic5\", \"Topic5\", \"Topic5\", \"Topic5\", \"Topic5\", \"Topic5\", \"Topic5\", \"Topic5\", \"Topic5\", \"Topic5\", \"Topic5\", \"Topic5\", \"Topic5\", \"Topic5\", \"Topic5\", \"Topic5\", \"Topic5\", \"Topic5\", \"Topic5\", \"Topic5\", \"Topic5\", \"Topic5\", \"Topic6\", \"Topic6\", \"Topic6\", \"Topic6\", \"Topic6\", \"Topic6\", \"Topic6\", \"Topic6\", \"Topic6\", \"Topic6\", \"Topic6\", \"Topic6\", \"Topic6\", \"Topic6\", \"Topic6\", \"Topic6\", \"Topic6\", \"Topic6\", \"Topic6\", \"Topic6\", \"Topic6\", \"Topic6\", \"Topic6\", \"Topic6\", \"Topic6\", \"Topic6\", \"Topic6\", \"Topic6\", \"Topic6\", \"Topic6\", \"Topic6\", \"Topic6\", \"Topic6\", \"Topic6\", \"Topic6\", \"Topic6\", \"Topic6\", \"Topic6\", \"Topic6\", \"Topic7\", \"Topic7\", \"Topic7\", \"Topic7\", \"Topic7\", \"Topic7\", \"Topic7\", \"Topic7\", \"Topic7\", \"Topic7\", \"Topic7\", \"Topic7\", \"Topic7\", \"Topic7\", \"Topic7\", \"Topic7\", \"Topic7\", \"Topic7\", \"Topic7\", \"Topic7\", \"Topic7\", \"Topic7\", \"Topic7\", \"Topic7\", \"Topic7\", \"Topic7\", \"Topic7\", \"Topic7\", \"Topic7\", \"Topic7\", \"Topic7\", \"Topic7\", \"Topic7\", \"Topic7\", \"Topic7\", \"Topic7\", \"Topic7\", \"Topic7\", \"Topic7\", \"Topic7\", \"Topic7\", \"Topic7\", \"Topic7\", \"Topic8\", \"Topic8\", \"Topic8\", \"Topic8\", \"Topic8\", \"Topic8\", \"Topic8\", \"Topic8\", \"Topic8\", \"Topic8\", \"Topic8\", \"Topic8\", \"Topic8\", \"Topic8\", \"Topic8\", \"Topic8\", \"Topic8\", \"Topic8\", \"Topic8\", \"Topic8\", \"Topic8\", \"Topic8\", \"Topic8\", \"Topic8\", \"Topic8\", \"Topic8\", \"Topic8\", \"Topic8\", \"Topic8\", \"Topic8\", \"Topic8\", \"Topic8\", \"Topic8\", \"Topic8\", \"Topic8\", \"Topic8\", \"Topic8\", \"Topic8\", \"Topic8\", \"Topic8\", \"Topic8\", \"Topic8\", \"Topic8\", \"Topic8\", \"Topic8\", \"Topic8\", \"Topic8\", \"Topic8\", \"Topic8\", \"Topic9\", \"Topic9\", \"Topic9\", \"Topic9\", \"Topic9\", \"Topic9\", \"Topic9\", \"Topic9\", \"Topic9\", \"Topic9\", \"Topic9\", \"Topic9\", \"Topic9\", \"Topic9\", \"Topic9\", \"Topic9\", \"Topic9\", \"Topic9\", \"Topic9\", \"Topic9\", \"Topic9\", \"Topic9\", \"Topic9\", \"Topic9\", \"Topic9\", \"Topic9\", \"Topic9\", \"Topic9\", \"Topic9\", \"Topic9\", \"Topic9\", \"Topic9\", \"Topic9\", \"Topic9\", \"Topic9\", \"Topic9\", \"Topic9\", \"Topic9\", \"Topic9\", \"Topic9\", \"Topic9\", \"Topic9\", \"Topic9\", \"Topic9\", \"Topic9\", \"Topic9\", \"Topic9\", \"Topic9\", \"Topic9\", \"Topic9\", \"Topic9\", \"Topic9\", \"Topic10\", \"Topic10\", \"Topic10\", \"Topic10\", \"Topic10\", \"Topic10\", \"Topic10\", \"Topic10\", \"Topic10\", \"Topic10\", \"Topic10\", \"Topic10\", \"Topic10\", \"Topic10\", \"Topic10\", \"Topic10\", \"Topic10\", \"Topic10\", \"Topic10\", \"Topic10\", \"Topic10\", \"Topic10\", \"Topic10\", \"Topic10\", \"Topic10\", \"Topic10\", \"Topic10\", \"Topic10\", \"Topic10\", \"Topic10\", \"Topic10\", \"Topic10\", \"Topic10\", \"Topic10\", \"Topic10\", \"Topic10\", \"Topic10\", \"Topic10\", \"Topic10\", \"Topic10\", \"Topic10\", \"Topic10\", \"Topic10\", \"Topic10\", \"Topic10\", \"Topic10\", \"Topic10\", \"Topic10\", \"Topic10\", \"Topic10\", \"Topic11\", \"Topic11\", \"Topic11\", \"Topic11\", \"Topic11\", \"Topic11\", \"Topic11\", \"Topic11\", \"Topic11\", \"Topic11\", \"Topic11\", \"Topic11\", \"Topic11\", \"Topic11\", \"Topic11\", \"Topic11\", \"Topic11\", \"Topic11\", \"Topic11\", \"Topic11\", \"Topic11\", \"Topic11\", \"Topic11\", \"Topic11\", \"Topic11\", \"Topic11\", \"Topic11\", \"Topic11\", \"Topic11\", \"Topic11\", \"Topic11\", \"Topic11\", \"Topic11\", \"Topic11\", \"Topic11\", \"Topic11\", \"Topic11\", \"Topic11\", \"Topic11\", \"Topic11\", \"Topic11\", \"Topic11\", \"Topic11\", \"Topic11\", \"Topic11\", \"Topic11\", \"Topic11\", \"Topic11\", \"Topic11\", \"Topic11\", \"Topic11\", \"Topic11\", \"Topic11\", \"Topic12\", \"Topic12\", \"Topic12\", \"Topic12\", \"Topic12\", \"Topic12\", \"Topic12\", \"Topic12\", \"Topic12\", \"Topic12\", \"Topic12\", \"Topic12\", \"Topic12\", \"Topic12\", \"Topic12\", \"Topic12\", \"Topic12\", \"Topic12\", \"Topic12\", \"Topic12\", \"Topic12\", \"Topic12\", \"Topic12\", \"Topic12\", \"Topic12\", \"Topic12\", \"Topic12\", \"Topic12\", \"Topic12\", \"Topic12\", \"Topic12\", \"Topic12\", \"Topic12\", \"Topic12\", \"Topic12\", \"Topic12\", \"Topic12\", \"Topic12\", \"Topic12\", \"Topic12\", \"Topic12\", \"Topic12\", \"Topic12\", \"Topic12\", \"Topic12\", \"Topic12\", \"Topic12\", \"Topic12\", \"Topic12\", \"Topic12\", \"Topic12\", \"Topic12\", \"Topic12\", \"Topic12\", \"Topic12\", \"Topic12\", \"Topic12\", \"Topic12\", \"Topic12\", \"Topic12\", \"Topic13\", \"Topic13\", \"Topic13\", \"Topic13\", \"Topic13\", \"Topic13\", \"Topic13\", \"Topic13\", \"Topic13\", \"Topic13\", \"Topic13\", \"Topic13\", \"Topic13\", \"Topic13\", \"Topic13\", \"Topic13\", \"Topic13\", \"Topic13\", \"Topic13\", \"Topic13\", \"Topic13\", \"Topic13\", \"Topic13\", \"Topic13\", \"Topic13\", \"Topic13\", \"Topic13\", \"Topic13\", \"Topic13\", \"Topic13\", \"Topic13\", \"Topic13\", \"Topic13\", \"Topic13\", \"Topic13\", \"Topic13\", \"Topic13\", \"Topic13\", \"Topic13\", \"Topic13\", \"Topic13\", \"Topic13\", \"Topic13\", \"Topic13\", \"Topic13\", \"Topic13\", \"Topic13\", \"Topic13\", \"Topic13\", \"Topic13\", \"Topic13\", \"Topic13\", \"Topic13\", \"Topic13\", \"Topic14\", \"Topic14\", \"Topic14\", \"Topic14\", \"Topic14\", \"Topic14\", \"Topic14\", \"Topic14\", \"Topic14\", \"Topic14\", \"Topic14\", \"Topic14\", \"Topic14\", \"Topic14\", \"Topic14\", \"Topic14\", \"Topic14\", \"Topic14\", \"Topic14\", \"Topic14\", \"Topic14\", \"Topic14\", \"Topic14\", \"Topic14\", \"Topic14\", \"Topic14\", \"Topic14\", \"Topic14\", \"Topic14\", \"Topic14\", \"Topic14\", \"Topic14\", \"Topic14\", \"Topic14\", \"Topic14\", \"Topic14\", \"Topic14\", \"Topic14\", \"Topic14\", \"Topic14\", \"Topic14\", \"Topic14\", \"Topic14\", \"Topic14\", \"Topic14\", \"Topic14\", \"Topic14\", \"Topic14\", \"Topic14\", \"Topic14\", \"Topic14\", \"Topic14\", \"Topic14\", \"Topic14\", \"Topic14\", \"Topic14\", \"Topic14\", \"Topic14\", \"Topic14\", \"Topic14\", \"Topic15\", \"Topic15\", \"Topic15\", \"Topic15\", \"Topic15\", \"Topic15\", \"Topic15\", \"Topic15\", \"Topic15\", \"Topic15\", \"Topic15\", \"Topic15\", \"Topic15\", \"Topic15\", \"Topic15\", \"Topic15\", \"Topic15\", \"Topic15\", \"Topic15\", \"Topic15\", \"Topic15\", \"Topic15\", \"Topic15\", \"Topic15\", \"Topic15\", \"Topic15\", \"Topic15\", \"Topic15\", \"Topic15\", \"Topic15\", \"Topic15\", \"Topic15\", \"Topic15\", \"Topic15\", \"Topic15\", \"Topic15\", \"Topic15\", \"Topic15\", \"Topic15\", \"Topic15\", \"Topic15\", \"Topic15\", \"Topic15\", \"Topic15\", \"Topic15\", \"Topic15\", \"Topic15\", \"Topic15\", \"Topic15\", \"Topic15\", \"Topic15\", \"Topic15\", \"Topic15\", \"Topic15\", \"Topic15\", \"Topic15\", \"Topic15\", \"Topic15\", \"Topic16\", \"Topic16\", \"Topic16\", \"Topic16\", \"Topic16\", \"Topic16\", \"Topic16\", \"Topic16\", \"Topic16\", \"Topic16\", \"Topic16\", \"Topic16\", \"Topic16\", \"Topic16\", \"Topic16\", \"Topic16\", \"Topic16\", \"Topic16\", \"Topic16\", \"Topic16\", \"Topic16\", \"Topic16\", \"Topic16\", \"Topic16\", \"Topic16\", \"Topic16\", \"Topic16\", \"Topic16\", \"Topic16\", \"Topic16\", \"Topic16\", \"Topic16\", \"Topic16\", \"Topic16\", \"Topic16\", \"Topic16\", \"Topic16\", \"Topic16\", \"Topic16\", \"Topic16\", \"Topic16\", \"Topic16\", \"Topic16\", \"Topic16\", \"Topic16\", \"Topic16\", \"Topic16\", \"Topic16\", \"Topic16\", \"Topic16\", \"Topic16\", \"Topic16\", \"Topic16\", \"Topic16\", \"Topic16\", \"Topic16\", \"Topic16\", \"Topic16\", \"Topic17\", \"Topic17\", \"Topic17\", \"Topic17\", \"Topic17\", \"Topic17\", \"Topic17\", \"Topic17\", \"Topic17\", \"Topic17\", \"Topic17\", \"Topic17\", \"Topic17\", \"Topic17\", \"Topic17\", \"Topic17\", \"Topic17\", \"Topic17\", \"Topic17\", \"Topic17\", \"Topic17\", \"Topic17\", \"Topic17\", \"Topic17\", \"Topic17\", \"Topic17\", \"Topic17\", \"Topic17\", \"Topic17\", \"Topic17\", \"Topic17\", \"Topic17\", \"Topic17\", \"Topic17\", \"Topic17\", \"Topic17\", \"Topic17\", \"Topic17\", \"Topic17\", \"Topic17\", \"Topic17\", \"Topic17\", \"Topic17\", \"Topic17\", \"Topic17\", \"Topic17\", \"Topic17\", \"Topic17\", \"Topic17\", \"Topic17\", \"Topic17\", \"Topic17\", \"Topic17\", \"Topic17\", \"Topic17\", \"Topic17\", \"Topic17\", \"Topic17\", \"Topic18\", \"Topic18\", \"Topic18\", \"Topic18\", \"Topic18\", \"Topic18\", \"Topic18\", \"Topic18\", \"Topic18\", \"Topic18\", \"Topic18\", \"Topic18\", \"Topic18\", \"Topic18\", \"Topic18\", \"Topic18\", \"Topic18\", \"Topic18\", \"Topic18\", \"Topic18\", \"Topic18\", \"Topic18\", \"Topic18\", \"Topic18\", \"Topic18\", \"Topic18\", \"Topic18\", \"Topic18\", \"Topic18\", \"Topic18\", \"Topic18\", \"Topic18\", \"Topic18\", \"Topic18\", \"Topic18\", \"Topic18\", \"Topic18\", \"Topic18\", \"Topic18\", \"Topic18\", \"Topic18\", \"Topic18\", \"Topic18\", \"Topic18\", \"Topic18\", \"Topic18\", \"Topic18\", \"Topic18\", \"Topic18\", \"Topic18\", \"Topic18\", \"Topic18\", \"Topic18\", \"Topic18\", \"Topic18\", \"Topic18\", \"Topic18\", \"Topic18\", \"Topic19\", \"Topic19\", \"Topic19\", \"Topic19\", \"Topic19\", \"Topic19\", \"Topic19\", \"Topic19\", \"Topic19\", \"Topic19\", \"Topic19\", \"Topic19\", \"Topic19\", \"Topic19\", \"Topic19\", \"Topic19\", \"Topic19\", \"Topic19\", \"Topic19\", \"Topic19\", \"Topic19\", \"Topic19\", \"Topic19\", \"Topic19\", \"Topic19\", \"Topic19\", \"Topic19\", \"Topic19\", \"Topic19\", \"Topic19\", \"Topic19\", \"Topic19\", \"Topic19\", \"Topic19\", \"Topic19\", \"Topic19\", \"Topic19\", \"Topic19\", \"Topic19\", \"Topic19\", \"Topic19\", \"Topic19\", \"Topic19\", \"Topic19\", \"Topic19\", \"Topic19\", \"Topic19\", \"Topic19\", \"Topic19\", \"Topic19\", \"Topic19\", \"Topic19\", \"Topic19\", \"Topic19\", \"Topic19\", \"Topic19\", \"Topic19\", \"Topic19\", \"Topic20\", \"Topic20\", \"Topic20\", \"Topic20\", \"Topic20\", \"Topic20\", \"Topic20\", \"Topic20\", \"Topic20\", \"Topic20\", \"Topic20\", \"Topic20\", \"Topic20\", \"Topic20\", \"Topic20\", \"Topic20\", \"Topic20\", \"Topic20\", \"Topic20\", \"Topic20\", \"Topic20\", \"Topic20\", \"Topic20\", \"Topic20\", \"Topic20\", \"Topic20\", \"Topic20\", \"Topic20\", \"Topic20\", \"Topic20\", \"Topic20\", \"Topic20\", \"Topic20\", \"Topic20\", \"Topic20\", \"Topic20\", \"Topic20\", \"Topic20\", \"Topic20\", \"Topic20\", \"Topic20\", \"Topic20\", \"Topic20\", \"Topic20\", \"Topic20\", \"Topic20\", \"Topic20\", \"Topic20\", \"Topic20\", \"Topic20\", \"Topic20\", \"Topic20\", \"Topic20\", \"Topic20\", \"Topic20\", \"Topic20\", \"Topic20\", \"Topic20\"], \"logprob\": [30.0, 29.0, 28.0, 27.0, 26.0, 25.0, 24.0, 23.0, 22.0, 21.0, 20.0, 19.0, 18.0, 17.0, 16.0, 15.0, 14.0, 13.0, 12.0, 11.0, 10.0, 9.0, 8.0, 7.0, 6.0, 5.0, 4.0, 3.0, 2.0, 1.0, -3.5128, -3.5129, -2.8279, -3.9102, -3.9101, -3.9102, -3.9101, -4.5789, -4.5789, -4.5789, -4.5789, -4.5791, -4.5792, -4.5792, -4.5792, -4.5792, -4.5792, -4.5792, -4.5792, -4.5792, -4.5792, -4.5792, -4.5792, -4.5792, -4.5792, -4.5792, -4.5792, -4.5792, -4.5792, -4.5792, -3.91, -3.0086, -3.5127, -3.91, -3.2293, -3.9102, -3.2288, -3.9102, -3.9101, -3.91, -3.91, -3.9092, -4.5789, -4.5792, -3.8286, -3.8286, -3.8286, -3.8286, -3.8286, -3.8286, -3.8286, -3.8286, -3.8286, -3.8286, -3.8286, -3.8286, -3.8286, -2.4787, -3.8286, -3.8286, -3.8286, -3.8286, -3.1596, -3.1596, -3.8286, -3.1596, -3.8286, -3.1596, -3.1596, -3.1596, -2.7623, -3.1596, -3.8286, -6.8732, -6.8732, -3.5431, -3.5431, -3.5431, -3.5431, -3.5431, -3.5431, -3.5431, -3.5431, -3.5431, -3.5431, -3.5431, -3.5431, -3.5431, -2.874, -2.874, -2.874, -3.5431, -3.5431, -3.5431, -3.5431, -2.4763, -3.5431, -3.5431, -3.542, -6.5876, -6.5876, -6.5876, -6.5876, -6.5876, -6.5876, -6.5876, -6.5876, -6.5876, -6.5876, -6.5876, -6.5876, -2.6938, -3.3629, -3.3629, -3.3629, -3.3629, -3.3629, -3.3629, -3.3629, -3.3629, -3.3629, -3.3629, -3.3629, -3.3627, -3.3627, -3.3627, -3.3629, -3.3629, -3.3629, -2.6938, -3.3627, -3.3622, -6.4074, -6.4074, -6.4074, -6.4074, -6.4074, -6.4074, -6.4074, -6.4074, -6.4074, -6.3824, -6.4027, -6.4029, -6.4031, -6.4031, -6.4034, -6.4035, -6.4036, -6.3852, -6.3894, -6.3952, -6.3984, -6.3989, -6.3998, -6.4, -6.4004, -2.7256, -3.3946, -3.3946, -3.3946, -3.3946, -3.3946, -3.3946, -2.7258, -3.3946, -3.3946, -3.3946, -3.3946, -2.3292, -2.0454, -3.3946, -3.3946, -3.3946, -6.4391, -6.4391, -6.4391, -6.4391, -6.4391, -6.4391, -6.4391, -6.4391, -6.4391, -6.4391, -6.4391, -6.4391, -6.4391, -6.4391, -6.4391, -6.4391, -6.4391, -6.4391, -6.4391, -6.4391, -6.4391, -6.4391, -6.4391, -6.4391, -6.4391, -6.4391, -3.3287, -3.3289, -3.3289, -3.3289, -3.3289, -3.3289, -3.3289, -3.3287, -3.3287, -3.3289, -3.3289, -3.3287, -3.3289, -3.3289, -3.3289, -3.3289, -3.3289, -3.3288, -2.6597, -3.3289, -3.3289, -6.3732, -6.3732, -6.3732, -6.3732, -6.3732, -6.3732, -6.3732, -6.3732, -6.3732, -6.3732, -6.3732, -6.3732, -6.3732, -6.3732, -6.3732, -6.3732, -6.3732, -6.3732, -3.0997, -3.0997, -3.0997, -3.0997, -3.0997, -3.0997, -3.0997, -3.0997, -3.0997, -3.0997, -3.0997, -3.0997, -3.0997, -3.0997, -3.0997, -3.0997, -6.1442, -6.1442, -6.1442, -6.1442, -6.1442, -6.1442, -6.1442, -6.1442, -6.1442, -6.1442, -6.1442, -6.1442, -6.1442, -6.1442, -6.1442, -6.1442, -6.1442, -6.1442, -6.1442, -6.1442, -6.1442, -6.1442, -6.1442, -6.1442, -6.1442, -6.1442, -6.1442, -2.8581, -2.8581, -2.8581, -2.8581, -2.8581, -2.8581, -2.8581, -2.8581, -2.8581, -2.8581, -2.8581, -5.9026, -5.9026, -5.9026, -5.9026, -5.9026, -5.9026, -5.9026, -5.9026, -5.9026, -5.9026, -5.9026, -5.9026, -5.9026, -5.9026, -5.9026, -5.9026, -5.9026, -5.9026, -5.9026, -5.9026, -5.9026, -5.9026, -5.9026, -5.9026, -5.9026, -5.9026, -5.9026, -5.9026, -5.9026, -5.9026, -5.9026, -5.9026, -5.9026, -5.9026, -5.9026, -5.9026, -5.9026, -5.9026, -2.8019, -2.1329, -2.8019, -2.1329, -2.8019, -2.8019, -2.8019, -2.8019, -5.8464, -5.8464, -5.8464, -5.8464, -5.8464, -5.8464, -5.8464, -5.8464, -5.8464, -5.8464, -5.8464, -5.8464, -5.8464, -5.8464, -5.8464, -5.8464, -5.8464, -5.8464, -5.8464, -5.8464, -5.8464, -5.8464, -5.8464, -5.8464, -5.8464, -5.8464, -5.8464, -5.8464, -5.8464, -5.8464, -5.8464, -5.8464, -5.8464, -5.8464, -5.8464, -5.8464, -5.8464, -5.8464, -5.8464, -5.8464, -5.8464, -5.8464, -5.8464, -5.8464, -2.8019, -2.8019, -2.8019, -2.8019, -2.8019, -2.8019, -2.8019, -2.8019, -2.8019, -2.8019, -5.8464, -5.8464, -5.8464, -5.8464, -5.8464, -5.8464, -5.8464, -5.8464, -5.8464, -5.8464, -5.8464, -5.8464, -5.8464, -5.8464, -5.8464, -5.8464, -5.8464, -5.8464, -5.8464, -5.8464, -5.8464, -5.8464, -5.8464, -5.8464, -5.8464, -5.8464, -5.8464, -5.8464, -5.8464, -5.8464, -5.8464, -5.8464, -5.8464, -5.8464, -5.8464, -5.8464, -5.8464, -5.8464, -5.8464, -5.8464, -2.6115, -2.6115, -2.6115, -2.6115, -2.6115, -2.6115, -2.6115, -5.656, -5.656, -5.656, -5.656, -5.656, -5.656, -5.656, -5.656, -5.656, -5.656, -5.656, -5.656, -5.656, -5.656, -5.656, -5.656, -5.656, -5.656, -5.656, -5.656, -5.656, -5.656, -5.656, -5.6552, -5.6553, -5.6554, -5.6554, -5.6555, -5.6555, -5.6556, -5.6556, -5.6556, -5.6556, -5.6557, -5.6557, -5.6557, -5.6557, -5.6558, -5.6558, -5.6558, -5.6558, -5.6558, -5.6558, -5.6558, -5.6558, -5.6558, -4.9842, -4.9842, -4.9842, -4.9842, -4.9842, -4.9842, -4.9842, -4.9842, -4.9842, -4.9842, -4.9842, -4.9842, -4.9842, -4.9842, -4.9842, -4.9842, -4.9842, -4.9842, -4.9842, -4.9842, -4.9842, -4.9842, -4.9842, -4.9842, -4.9842, -4.9842, -4.9842, -4.9842, -4.9842, -4.9842, -4.9825, -4.9827, -4.9827, -4.9805, -4.9806, -4.9812, -4.9814, -4.9816, -4.9817, -4.9817, -4.9818, -4.982, -4.9821, -4.9821, -4.9824, -4.9825, -4.9827, -4.9827, -4.9828, -4.9828, -4.9828, -4.9828, -4.9829, -4.9829, -4.9829, -4.9829, -4.9829, -4.9829, -4.9829, -4.9829, -4.9841, -4.9841, -4.9841, -4.9841, -4.9841, -4.9841, -4.9841, -4.9841, -4.9841, -4.9841, -4.9841, -4.9841, -4.9841, -4.9841, -4.9841, -4.9841, -4.9841, -4.9841, -4.9841, -4.9841, -4.9788, -4.9795, -4.9796, -4.9798, -4.9799, -4.9803, -4.9841, -4.9841, -4.9841, -4.9841, -4.9792, -4.9792, -4.9793, -4.9795, -4.9795, -4.9796, -4.9797, -4.9799, -4.9799, -4.98, -4.9809, -4.9841, -4.9841, -4.9841, -4.9841, -4.9841, -4.9841, -4.9841, -4.9841, -4.9841, -4.9841, -4.9841, -4.9841, -4.9841, -4.9839, -4.9839, -4.9839, -4.9839, -4.9839, -4.9839, -4.9839, -4.9839, -4.9839, -4.9839, -4.9839, -4.9839, -4.9839, -4.9839, -4.9839, -4.9839, -4.9839, -4.9839, -4.9839, -4.9839, -4.9839, -4.9839, -4.9839, -4.9839, -4.9839, -4.9839, -4.9839, -4.9839, -4.9839, -4.9839, -4.9815, -4.9819, -4.982, -4.9822, -4.9824, -4.9825, -4.9825, -4.9826, -4.9826, -4.9826, -4.9828, -4.9828, -4.9829, -4.983, -4.9831, -4.9831, -4.9831, -4.9831, -4.9831, -4.9832, -4.9832, -4.9832, -4.9832, -4.9832, -4.9832, -4.9832, -4.9832, -4.9833, -4.9833, -4.9833, -4.9836, -4.9836, -4.9836, -4.9836, -4.9836, -4.9836, -4.9836, -4.9836, -4.9836, -4.9836, -4.9836, -4.9836, -4.9836, -4.9836, -4.9836, -4.9836, -4.9836, -4.9836, -4.9836, -4.9836, -4.9836, -4.9836, -4.9836, -4.9836, -4.9836, -4.9836, -4.9836, -4.9836, -4.9836, -4.9836, -4.9836, -4.9836, -4.9836, -4.9836, -4.9836, -4.9836, -4.9836, -4.9836, -4.9836, -4.9836, -4.9836, -4.9836, -4.9836, -4.9836, -4.9836, -4.9836, -4.9836, -4.9836, -4.9836, -4.9836, -4.9836, -4.9836, -4.9836, -4.9836, -4.9836, -4.9836, -4.9836, -4.9836, -4.9836, -4.9836, -4.9836, -4.9836, -4.9836, -4.9836, -4.9836, -4.9836, -4.9836, -4.9836, -4.9836, -4.9836, -4.9836, -4.9836, -4.9836, -4.9836, -4.9836, -4.9836, -4.9836, -4.9836, -4.9836, -4.9836, -4.9836, -4.9836, -4.9836, -4.9836, -4.9836, -4.9836, -4.9836, -4.9836, -4.9836, -4.9836, -4.9836, -4.9836, -4.9836, -4.9836, -4.9836, -4.9836, -4.9836, -4.9836, -4.9836, -4.9836, -4.9836, -4.9836, -4.9836, -4.9836, -4.9836, -4.9836, -4.9836, -4.9836, -4.9836, -4.9836, -4.9836, -4.9836, -4.9836, -4.9836, -4.9836, -4.9836, -4.9836, -4.9836, -4.9836, -4.9836, -4.9836, -4.9836, -4.9836, -4.9836, -4.9836, -4.9836, -4.9836, -4.9836, -4.9836, -4.9836, -4.9836, -4.9836, -4.9836, -4.9836, -4.9836, -4.9836, -4.9836, -4.9836, -4.9836, -4.9836, -4.9836, -4.9836, -4.9836, -4.9836, -4.9836, -4.9836, -4.9836, -4.9836, -4.9836, -4.9836, -4.9836, -4.9836, -4.9836, -4.9836, -4.9836, -4.9836, -4.9836, -4.9836, -4.9836, -4.9836, -4.9836, -4.9836, -4.9836, -4.9836, -4.9836, -4.9836, -4.9836, -4.9836, -4.9836, -4.9836, -4.9836, -4.9836, -4.9836, -4.9836, -4.9836, -4.9836, -4.9836, -4.9836, -4.9836, -4.9836, -4.9836, -4.9836, -4.9836, -4.9836, -4.9836, -4.9836, -4.9836, -4.9836, -4.9836, -4.9836, -4.9836, -4.9836, -4.9836, -4.9836, -4.9836, -4.9836, -4.9836, -4.9836, -4.9836, -4.9836, -4.9836, -4.9836, -4.9836, -4.9836, -4.9836, -4.9836, -4.9836, -4.9836, -4.9836, -4.9836, -4.9836, -4.9836, -4.9836, -4.9836, -4.9836, -4.9836, -4.9836, -4.9836, -4.9836, -4.9836, -4.9836, -4.9836, -4.9836, -4.9836, -4.9836, -4.9836, -4.9836, -4.9836, -4.9836, -4.9836, -4.9836, -4.9836, -4.9836, -4.9836, -4.9836, -4.9836, -4.9836, -4.9836, -4.9836, -4.9836, -4.9836, -4.9836, -4.9836, -4.9836, -4.9836, -4.9836, -4.9836, -4.9836, -4.9836, -4.9836, -4.9836, -4.9836, -4.9836, -4.9836, -4.9836, -4.9836, -4.9836, -4.9836, -4.9836, -4.9836, -4.9836, -4.9836, -4.9836, -4.9836, -4.9836, -4.9836, -4.9836, -4.9836, -4.9836, -4.9836, -4.9836, -4.9836, -4.9836, -4.9836, -4.9836, -4.9836, -4.9836, -4.9836, -4.9836, -4.9836, -4.9836, -4.9836, -4.9836, -4.9836, -4.9836, -4.9836, -4.9836, -4.9836, -4.9836, -4.9836, -4.9836, -4.9836, -4.9836, -4.9836, -4.9836, -4.9836, -4.9836, -4.9836, -4.9836, -4.9836, -4.9836, -4.9836, -4.9836, -4.9836, -4.9836, -4.9836, -4.9836, -4.9836, -4.9836, -4.9836, -4.9836, -4.9836, -4.9836, -4.9836, -4.9836, -4.9836, -4.9836, -4.9836, -4.9836, -4.9836, -4.9836, -4.9836, -4.9836, -4.9836, -4.9836, -4.9836, -4.9836, -4.9836, -4.9836, -4.9836, -4.9836, -4.9836, -4.9836, -4.9836, -4.9836, -4.9836, -4.9836, -4.9836, -4.9836, -4.9836, -4.9836, -4.9836, -4.9836, -4.9836, -4.9836, -4.9836, -4.9836, -4.9836], \"loglift\": [30.0, 29.0, 28.0, 27.0, 26.0, 25.0, 24.0, 23.0, 22.0, 21.0, 20.0, 19.0, 18.0, 17.0, 16.0, 15.0, 14.0, 13.0, 12.0, 11.0, 10.0, 9.0, 8.0, 7.0, 6.0, 5.0, 4.0, 3.0, 2.0, 1.0, 0.9981, 0.9981, 0.964, 0.9435, 0.9435, 0.9435, 0.9435, 0.8002, 0.8002, 0.8002, 0.8002, 0.8001, 0.8001, 0.8001, 0.8001, 0.8001, 0.8001, 0.8001, 0.8001, 0.8001, 0.8001, 0.8001, 0.8001, 0.8001, 0.8001, 0.8001, 0.8001, 0.8001, 0.8001, 0.8001, 0.7468, 0.4873, 0.5758, 0.6601, 0.4575, 0.5093, -0.3042, 0.2168, 0.0294, -0.144, -0.2809, -0.5891, 0.1131, 0.3138, 1.6179, 1.6179, 1.6179, 1.6179, 1.6179, 1.6179, 1.6179, 1.6179, 1.6179, 1.6179, 1.6179, 1.6179, 1.6179, 1.1504, 1.0643, 1.0643, 1.0643, 1.0643, 0.9674, 0.9289, 0.8292, 0.8122, 0.746, 0.6065, 0.5271, 0.3363, 0.1623, 0.1605, 0.1109, -1.1031, -1.3436, 1.9314, 1.9314, 1.9314, 1.9314, 1.9314, 1.9314, 1.9314, 1.9314, 1.9314, 1.9314, 1.9314, 1.9314, 1.9314, 1.8319, 1.7726, 1.6321, 1.3658, 1.3658, 1.1273, 1.1176, 0.8437, 0.3965, 0.223, -0.6174, -0.8176, -0.9103, -0.9103, -0.9103, -0.9103, -0.9334, -1.058, -2.1682, -1.8307, -3.0917, -2.9009, -1.5535, 2.3139, 2.145, 2.145, 2.145, 2.145, 2.145, 2.145, 2.145, 2.145, 2.145, 2.145, 1.6561, 1.5651, 1.565, 1.565, 1.3075, 1.2949, 1.2838, 1.278, 0.2664, -0.4377, -0.6374, -0.73, -0.73, -0.73, -0.73, -0.7531, -0.7531, -0.7531, -0.7531, -2.5906, -1.0234, -1.0236, -1.0238, -1.0239, -1.0242, -1.0243, -1.0243, -2.8893, -2.7027, -1.8843, -1.9789, -1.8879, -1.5461, -2.2731, -1.5467, 2.3085, 2.135, 2.135, 2.135, 2.135, 2.135, 2.135, 2.0311, 1.6655, 1.2758, 1.2632, 1.0248, 0.9909, 0.8791, 0.3714, 0.2921, 0.1012, -0.6691, -0.7618, -0.7618, -0.7618, -0.7618, -0.7849, -0.7849, -0.7849, -0.7849, -0.8665, -0.8665, -0.8665, -0.8665, -1.5462, -1.5855, -1.0599, -1.869, -1.0599, -1.0599, -1.0599, -1.0599, -1.5854, -1.0599, -1.5302, -1.0599, -1.5462, 2.1978, 2.1978, 2.1978, 2.1978, 2.1978, 2.1978, 2.1977, 1.7907, 1.7774, 1.7294, 1.6901, 1.6094, 1.3632, 1.2413, 0.7981, 0.4371, 0.3578, 0.3003, 0.2648, 0.167, -0.0088, -0.6032, -0.6958, -0.6958, -0.6958, -0.6958, -0.7189, -0.7189, -0.7189, -0.7189, -0.8436, -1.9537, -1.6163, -1.3391, -0.8436, -1.4802, -1.5195, -0.9939, -0.9939, 2.473, 2.473, 2.473, 2.473, 2.473, 2.473, 2.473, 2.473, 2.473, 2.473, 2.473, 1.9604, 1.9586, 0.8721, 0.2204, -0.1751, -0.3741, -0.4668, -0.4668, -0.4668, -0.4668, -0.4899, -0.4899, -0.4899, -0.4899, -0.6146, -0.6146, -0.6146, -0.6146, -0.6146, -1.7247, -1.3873, -2.6483, -2.4575, -2.3781, -1.1101, -0.6146, -1.2512, -1.2905, -0.7649, -1.574, -0.7649, -0.7649, 2.7961, 2.7961, 2.7961, 2.7961, 2.248, 1.8988, 1.8478, 1.8025, 1.648, 0.6378, 0.0664, -0.1326, -0.2253, -0.2253, -0.2253, -0.2253, -0.33, -0.33, -0.33, -0.33, -0.33, -0.33, -0.33, -0.33, -0.33, -0.33, -0.33, -0.373, -0.373, -0.373, -0.373, -1.4832, -2.2159, -2.1366, -0.8686, -2.5826, -0.373, -1.0097, -1.0489, -0.5234, -1.3325, -0.5234, -0.5234, -0.5234, -0.5234, -1.0489, -0.5234, -0.9937, -0.5234, 2.8754, 2.4418, 1.8901, 1.8067, 1.1699, 0.99, 0.8272, 0.1226, -0.0764, -0.1691, -0.1691, -0.1691, -0.1922, -0.1922, -0.1922, -0.1922, -0.2738, -0.2738, -0.2738, -0.2738, -0.2738, -0.2738, -0.2738, -0.2738, -0.2738, -0.2738, -0.2738, -0.3168, -0.3168, -0.3168, -0.3168, -1.427, -1.0895, -2.3506, -2.1597, -2.0804, -0.8124, -2.5264, -0.3168, -0.9535, -0.9927, -0.4672, -1.2763, -0.4672, -0.4672, -0.4672, -0.4672, -0.9927, -0.4672, -0.9375, -0.4672, -0.9535, 2.8754, 2.8754, 2.8754, 2.3175, 2.2171, 1.7727, 1.7042, 1.1699, 1.1377, 0.1226, -0.0764, -0.1691, -0.1922, -0.1922, -0.1922, -0.1922, -0.2738, -0.2738, -0.2738, -0.2738, -0.2738, -0.2738, -0.2738, -0.2738, -0.2738, -0.2738, -0.2738, -0.3168, -0.3168, -0.3168, -0.3168, -1.427, -1.0895, -2.3506, -2.1597, -2.0804, -0.8124, -2.5264, -0.3168, -0.9535, -0.9927, -0.4672, -1.2763, -0.4672, -0.4672, -0.4672, -0.4672, -0.9927, -0.4672, -0.9375, 3.1585, 2.4544, 2.0453, 1.8079, 1.1545, 0.7086, 0.313, 0.0213, 0.0213, 0.0213, 0.0213, -0.0018, -0.0018, -0.0018, -0.0018, -0.0834, -0.0834, -0.0834, -0.0834, -0.0834, -0.0834, -0.0834, -0.0834, -0.0834, -0.0834, -0.0834, -0.1264, -0.1264, -0.1264, -0.1264, -1.8633, -1.1443, -1.1444, -2.1596, -0.8019, -0.8019, -1.5286, -0.8019, -1.9689, -1.5672, -1.7161, -0.802, -0.9951, -1.0856, -0.2765, -0.7628, -0.2765, -0.2765, -0.2765, -0.2765, -0.2765, -0.2765, -0.2766, 0.7858, 0.6932, 0.6932, 0.6932, 0.6932, 0.6701, 0.6701, 0.6701, 0.6701, 0.5885, 0.5885, 0.5885, 0.5885, 0.5885, 0.5885, 0.5885, 0.5885, 0.5885, 0.5885, 0.5885, 0.5454, 0.5454, 0.5454, 0.5454, 0.5454, 0.5454, 0.5425, 0.5425, 0.5425, 0.5424, 0.3968, 0.3966, 0.3966, -1.1886, -0.4696, -0.4702, -0.1277, -1.4857, -0.8548, -0.128, -0.8933, -1.2953, -1.0425, -0.5626, -0.1287, 0.0835, 0.3966, -0.0898, 0.3965, 0.3965, 0.3965, 0.3964, -0.0551, 0.3964, -0.0448, -0.3222, -0.074, -0.074, -0.4128, 0.3963, 0.7859, 0.6932, 0.6932, 0.6932, 0.6932, 0.6701, 0.6701, 0.6701, 0.6701, 0.5885, 0.5885, 0.5885, 0.5885, 0.5885, 0.5885, 0.5885, 0.5885, 0.5885, 0.5885, 0.5885, 0.5479, 0.5472, 0.547, 0.5469, 0.5467, 0.5463, 0.5455, 0.5455, 0.5455, 0.5455, -1.2131, -1.6592, -1.2925, -0.4093, -0.8526, 0.0394, 0.0785, -1.4841, -0.2879, -2.0555, -1.3518, 0.5455, -0.5647, -0.2272, 0.0499, 0.5455, -0.0912, -0.1304, 0.3951, 0.3951, 0.3952, 0.3951, 0.3951, -0.1304, 0.7861, 0.6934, 0.6934, 0.6934, 0.6934, 0.6703, 0.6703, 0.6703, 0.6703, 0.5887, 0.5887, 0.5887, 0.5887, 0.5887, 0.5887, 0.5887, 0.5887, 0.5887, 0.5887, 0.5887, 0.5457, 0.5457, 0.5457, 0.5457, 0.5457, 0.5457, 0.5427, 0.5427, 0.5427, 0.5427, -1.1896, -0.4709, -0.471, -1.4863, -1.0428, -0.1288, -0.1288, -0.8941, -0.1289, -1.2959, -0.8558, -0.5634, -0.1293, -0.0741, 0.0829, 0.3962, 0.3962, -0.0554, -0.0902, 0.3961, 0.3961, 0.0358, 0.3961, 0.3961, 0.396, -0.3264, -1.3541, 0.396, -0.4131, 0.396, 0.7864, 0.6937, 0.6937, 0.6937, 0.6937, 0.6706, 0.6706, 0.6706, 0.6706, 0.5891, 0.5891, 0.5891, 0.5891, 0.5891, 0.5891, 0.5891, 0.5891, 0.5891, 0.5891, 0.5891, 0.546, 0.546, 0.546, 0.546, 0.546, 0.546, 0.5431, 0.543, 0.543, 0.543, -2.0591, -0.5642, -0.2267, -1.4877, -1.2969, -1.2176, 0.0505, -1.6635, -0.0907, -0.1299, 0.3957, -0.4134, 0.3957, 0.3957, 0.3957, 0.3957, -0.1299, 0.3956, -0.0747, 0.3957, -0.0906, 0.3957, -0.1299, 0.3957, 0.3957, -0.0559, 0.3957, 0.3957, 0.7864, 0.6937, 0.6937, 0.6937, 0.6937, 0.6706, 0.6706, 0.6706, 0.6706, 0.5891, 0.5891, 0.5891, 0.5891, 0.5891, 0.5891, 0.5891, 0.5891, 0.5891, 0.5891, 0.5891, 0.546, 0.546, 0.546, 0.546, 0.546, 0.546, 0.5431, 0.543, 0.543, 0.543, -2.0591, -0.5642, -0.2267, -1.4877, -1.2969, -1.2176, 0.0505, -1.6635, -0.0907, -0.1299, 0.3957, -0.4134, 0.3957, 0.3957, 0.3957, 0.3957, -0.1299, 0.3956, -0.0747, 0.3957, -0.0906, 0.3957, -0.1299, 0.3957, 0.3957, -0.0559, 0.3957, 0.3957, 0.7864, 0.6937, 0.6937, 0.6937, 0.6937, 0.6706, 0.6706, 0.6706, 0.6706, 0.5891, 0.5891, 0.5891, 0.5891, 0.5891, 0.5891, 0.5891, 0.5891, 0.5891, 0.5891, 0.5891, 0.546, 0.546, 0.546, 0.546, 0.546, 0.546, 0.5431, 0.543, 0.543, 0.543, -2.0591, -0.5642, -0.2267, -1.4877, -1.2969, -1.2176, 0.0505, -1.6635, -0.0907, -0.1299, 0.3957, -0.4134, 0.3957, 0.3957, 0.3957, 0.3957, -0.1299, 0.3956, -0.0747, 0.3957, -0.0906, 0.3957, -0.1299, 0.3957, 0.3957, -0.0559, 0.3957, 0.3957, 0.7864, 0.6937, 0.6937, 0.6937, 0.6937, 0.6706, 0.6706, 0.6706, 0.6706, 0.5891, 0.5891, 0.5891, 0.5891, 0.5891, 0.5891, 0.5891, 0.5891, 0.5891, 0.5891, 0.5891, 0.546, 0.546, 0.546, 0.546, 0.546, 0.546, 0.5431, 0.543, 0.543, 0.543, -2.0591, -0.5642, -0.2267, -1.4877, -1.2969, -1.2176, 0.0505, -1.6635, -0.0907, -0.1299, 0.3957, -0.4134, 0.3957, 0.3957, 0.3957, 0.3957, -0.1299, 0.3956, -0.0747, 0.3957, -0.0906, 0.3957, -0.1299, 0.3957, 0.3957, -0.0559, 0.3957, 0.3957, 0.7864, 0.6937, 0.6937, 0.6937, 0.6937, 0.6706, 0.6706, 0.6706, 0.6706, 0.5891, 0.5891, 0.5891, 0.5891, 0.5891, 0.5891, 0.5891, 0.5891, 0.5891, 0.5891, 0.5891, 0.546, 0.546, 0.546, 0.546, 0.546, 0.546, 0.5431, 0.543, 0.543, 0.543, -2.0591, -0.5642, -0.2267, -1.4877, -1.2969, -1.2176, 0.0505, -1.6635, -0.0907, -0.1299, 0.3957, -0.4134, 0.3957, 0.3957, 0.3957, 0.3957, -0.1299, 0.3956, -0.0747, 0.3957, -0.0906, 0.3957, -0.1299, 0.3957, 0.3957, -0.0559, 0.3957, 0.3957, 0.7864, 0.6937, 0.6937, 0.6937, 0.6937, 0.6706, 0.6706, 0.6706, 0.6706, 0.5891, 0.5891, 0.5891, 0.5891, 0.5891, 0.5891, 0.5891, 0.5891, 0.5891, 0.5891, 0.5891, 0.546, 0.546, 0.546, 0.546, 0.546, 0.546, 0.5431, 0.543, 0.543, 0.543, -2.0591, -0.5642, -0.2267, -1.4877, -1.2969, -1.2176, 0.0505, -1.6635, -0.0907, -0.1299, 0.3957, -0.4134, 0.3957, 0.3957, 0.3957, 0.3957, -0.1299, 0.3956, -0.0747, 0.3957, -0.0906, 0.3957, -0.1299, 0.3957, 0.3957, -0.0559, 0.3957, 0.3957]}, \"token.table\": {\"Topic\": [1, 2, 3, 4, 5, 6, 7, 8, 9, 10, 11, 3, 3, 3, 7, 7, 4, 1, 2, 1, 1, 4, 2, 1, 6, 3, 8, 10, 10, 9, 1, 6, 8, 1, 1, 1, 7, 1, 5, 1, 5, 1, 5, 11, 1, 1, 3, 4, 1, 1, 2, 1, 1, 5, 8, 2, 3, 4, 3, 1, 4, 6, 4, 1, 1, 6, 9, 7, 1, 3, 8, 2, 4, 2, 6, 1, 4, 5, 3, 1, 1, 10, 1, 1, 8, 4, 4, 2, 4, 5, 1, 1, 2, 5, 6, 8, 1, 2, 3, 6, 1, 2, 5, 6, 1, 1, 10, 3, 1, 2, 3, 5, 6, 11, 4, 6, 7, 1, 1, 2, 4, 6, 9, 4, 4, 6, 3, 4, 5, 1, 1, 4, 5, 7, 2, 1, 4, 1, 1, 2, 4, 7, 9, 10, 6, 2, 8, 1, 5, 1, 2, 9, 10, 7, 1, 2, 3, 5, 6, 7, 11, 7, 1, 3, 6, 10, 1, 2, 1, 11, 1, 9, 6, 1, 10, 7, 1, 5, 1, 2, 6, 5, 3, 8, 6, 7, 1, 3, 8, 1, 2, 3, 9, 10, 11, 2, 1, 1, 1, 11, 1, 3, 7, 2, 2, 4, 8, 5, 2, 3, 1, 3, 2, 1, 2, 3, 2, 1, 6, 3, 1, 6, 1, 7, 7, 2], \"Freq\": [0.258690767242349, 0.19401807543176178, 0.06467269181058725, 0.06467269181058725, 0.19401807543176178, 0.1293453836211745, 0.06467269181058725, 0.06467269181058725, 0.06467269181058725, 0.06467269181058725, 0.06467269181058725, 0.8282317543853798, 0.8282317543853798, 0.8282317543853798, 0.9136622166417874, 0.9136622166417874, 1.0386032281867392, 0.46300601252403434, 0.46300601252403434, 0.8903689973177957, 0.7529929420592094, 0.8563623853639499, 0.8054358810391908, 0.6705519542897053, 0.33527597714485263, 0.6289595249594084, 0.3144797624797042, 0.3144797624797042, 1.0144910733106425, 1.0144913154795432, 0.7529992186759206, 0.5730146241897365, 0.5730146241897365, 0.7530055907368446, 0.7529358780193012, 0.7529984558785572, 0.9136622166417874, 0.7529906661819942, 0.8751499805381652, 0.8903742406958427, 0.875150045972286, 0.5767367063860799, 0.28836835319303994, 0.28836835319303994, 0.752988785045063, 0.47045656888838744, 0.47045656888838744, 0.8563623853639499, 0.753004767587574, 0.46301163810833956, 0.46301163810833956, 0.7530035454971993, 0.8903486887415825, 0.808220382391781, 0.4041101911958905, 0.8054358810391908, 0.7238731009127042, 0.3619365504563521, 0.8282317543853798, 0.7529358780193012, 0.5252161795734137, 0.5252161795734137, 0.8563623853639499, 0.7529981666239637, 0.3787439663288719, 0.3787439663288719, 0.3787439663288719, 0.9136622166417874, 0.7529987076373438, 0.7680664538504004, 0.3840332269252002, 0.8054358810391908, 0.8563623853639499, 0.8054358810391908, 0.8725622804938751, 0.479394594393263, 0.479394594393263, 0.875150045972286, 0.8282317543853798, 0.7529992187989415, 0.7529962913122147, 1.0144910733106425, 0.7529992413000414, 0.7529999305003563, 0.9913199173934433, 0.8563623853639499, 0.8563623853639499, 0.3659853341787307, 0.3659853341787307, 0.3659853341787307, 0.753005168584415, 0.5725559990593498, 0.22902239962373996, 0.11451119981186998, 0.11451119981186998, 0.11451119981186998, 0.4630070195460355, 0.4630070195460355, 0.8282317543853798, 0.872545158635115, 0.5543607852150141, 0.27718039260750704, 0.13859019630375352, 0.13859019630375352, 0.75301108799173, 0.5252282506246575, 0.5252282506246575, 0.8282317543853798, 0.3000631969839894, 0.3000631969839894, 0.1500315984919947, 0.1500315984919947, 0.1500315984919947, 0.1500315984919947, 0.8563623853639499, 0.546225181171406, 0.546225181171406, 0.9480048552718296, 0.26165716492167695, 0.39248574738251546, 0.13082858246083848, 0.13082858246083848, 0.13082858246083848, 0.8563623853639499, 0.8563623853639499, 0.8725661212749403, 0.3706204927355566, 0.3706204927355566, 0.3706204927355566, 0.752985752954409, 0.4793990292402436, 0.4793990292402436, 0.5472389892259228, 0.5472389892259228, 0.8054359781281437, 0.47940024856505853, 0.47940024856505853, 0.7529996481554041, 0.7529945205458677, 0.3686149192193486, 0.3686149192193486, 0.1843074596096743, 0.1843074596096743, 0.1843074596096743, 0.8724461976289919, 0.8054358810391908, 0.9913199173934433, 0.7529944838235378, 1.0663675405704296, 0.7529358780193012, 0.3367790186180789, 0.3367790186180789, 0.3367790186180789, 0.9136622166417874, 0.19209943237942292, 0.19209943237942292, 0.19209943237942292, 0.19209943237942292, 0.09604971618971146, 0.09604971618971146, 0.09604971618971146, 0.9136622166417874, 0.7529996551208828, 0.8282317543853798, 0.5806809795138416, 0.5806809795138416, 0.4630083976969263, 0.4630083976969263, 0.7312493635227812, 0.3656246817613906, 0.9237405901413359, 0.15395676502355599, 0.8725584889706971, 0.7530045220754271, 1.0144910733106425, 0.9136622166417874, 0.7529358780193012, 0.875150045972286, 0.43047386271878735, 0.43047386271878735, 0.21523693135939367, 0.8751499805381652, 0.8282317543853798, 0.9913199173934433, 0.8725548779826416, 0.9136622166417874, 0.3670305169533972, 0.3670305169533972, 0.3670305169533972, 0.3569283740606457, 0.17846418703032285, 0.17846418703032285, 0.17846418703032285, 0.17846418703032285, 1.113015027418335, 0.8054358810391908, 0.9480187816035254, 0.7529886175984877, 0.5504630104653626, 0.5504630104653626, 0.47045392770258526, 0.47045392770258526, 0.9136622166417874, 0.8054358810391908, 0.8054358810391908, 0.8563623853639499, 0.9913199173934433, 0.875150045972286, 0.8054358810391908, 0.8282317543853798, 0.752982448741919, 0.8282317543853798, 0.8054359781281437, 0.6213544998607629, 0.41423633324050857, 0.8282317543853798, 0.8054358810391908, 0.48439852495646724, 0.48439852495646724, 0.8282317543853798, 0.8903512395503822, 0.87258386410651, 0.7530068435843137, 0.9136622166417874, 0.9136622166417874, 0.8054358810391908], \"Term\": [\"\", \"\", \"\", \"\", \"\", \"\", \"\", \"\", \"\", \"\", \"\", \"Celery\", \"Happy\", \"Shot\", \"action\", \"take\", \"\\u0e01\\u0e23\\u0e30\\u0e41\\u0e2a\", \"\\u0e01\\u0e25\\u0e34\\u0e48\\u0e19\", \"\\u0e01\\u0e25\\u0e34\\u0e48\\u0e19\", \"\\u0e01\\u0e30\\u0e40\\u0e1e\\u0e23\\u0e32\", \"\\u0e01\\u0e31\\u0e1a\\u0e02\\u0e49\\u0e32\\u0e27\", \"\\u0e01\\u0e32\\u0e23\\u0e15\\u0e25\\u0e32\\u0e14\", \"\\u0e01\\u0e35\\u0e49\", \"\\u0e02\\u0e21\", \"\\u0e02\\u0e21\", \"\\u0e02\\u0e49\\u0e32\\u0e27\", \"\\u0e02\\u0e49\\u0e32\\u0e27\", \"\\u0e02\\u0e49\\u0e32\\u0e27\", \"\\u0e02\\u0e49\\u0e32\\u0e27\\u0e1c\\u0e31\\u0e14\", \"\\u0e04\\u0e07\\u0e17\\u0e35\\u0e48\", \"\\u0e04\\u0e19\", \"\\u0e04\\u0e25\\u0e35\", \"\\u0e04\\u0e25\\u0e35\", \"\\u0e04\\u0e27\\u0e32\\u0e21\\u0e04\\u0e25\\u0e49\\u0e32\\u0e22\\u0e04\\u0e25\\u0e36\\u0e07\", \"\\u0e04\\u0e31\\u0e19\", \"\\u0e04\\u0e32\\u0e14\\u0e2b\\u0e27\\u0e31\\u0e07\", \"\\u0e04\\u0e48\\u0e32\", \"\\u0e08\\u0e21\\u0e39\\u0e01\", \"\\u0e08\\u0e31\\u0e14\\u0e08\\u0e49\\u0e32\\u0e19\", \"\\u0e08\\u0e31\\u0e1a\\u0e09\\u0e48\\u0e32\\u0e22\", \"\\u0e08\\u0e36\\u0e49\\u0e07\", \"\\u0e08\\u0e37\\u0e14\", \"\\u0e08\\u0e37\\u0e14\", \"\\u0e08\\u0e37\\u0e14\", \"\\u0e08\\u0e49\\u0e19\", \"\\u0e0a\\u0e2d\\u0e1a\", \"\\u0e0a\\u0e2d\\u0e1a\", \"\\u0e0a\\u0e32\\u0e14\", \"\\u0e0a\\u0e34\\u0e21\", \"\\u0e0b\\u0e2d\\u0e2a\", \"\\u0e0b\\u0e2d\\u0e2a\", \"\\u0e0b\\u0e35\\u0e2d\\u0e34\\u0e49\\u0e27\", \"\\u0e14\\u0e31\\u0e19\", \"\\u0e14\\u0e35\", \"\\u0e14\\u0e35\", \"\\u0e14\\u0e35\\u0e02\\u0e36\\u0e49\\u0e19\", \"\\u0e14\\u0e35\\u0e21\\u0e32\\u0e01\", \"\\u0e14\\u0e35\\u0e21\\u0e32\\u0e01\", \"\\u0e15\\u0e01\", \"\\u0e15\\u0e25\\u0e4a\\u0e2d\\u0e14\\u0e14\\u0e14\\u0e14\\u0e14\", \"\\u0e15\\u0e2d\\u0e19\", \"\\u0e15\\u0e2d\\u0e19\", \"\\u0e15\\u0e2d\\u0e19\\u0e19\\u0e35\\u0e49\", \"\\u0e15\\u0e33\", \"\\u0e15\\u0e34\\u0e14\", \"\\u0e15\\u0e34\\u0e14\", \"\\u0e15\\u0e34\\u0e14\", \"\\u0e15\\u0e34\\u0e14\\u0e43\\u0e08\", \"\\u0e15\\u0e35\", \"\\u0e15\\u0e38\\u0e4b\\u0e19\", \"\\u0e15\\u0e38\\u0e4b\\u0e19\", \"\\u0e16\\u0e31\\u0e48\\u0e27\\u0e40\\u0e2b\\u0e25\\u0e37\\u0e2d\\u0e07\", \"\\u0e16\\u0e39\\u0e01\\u0e1b\\u0e32\\u0e01\", \"\\u0e16\\u0e49\\u0e27\\u0e22\", \"\\u0e17\\u0e33\\u0e2d\\u0e32\\u0e2b\\u0e32\\u0e23\", \"\\u0e17\\u0e34\\u0e28\\u0e17\\u0e32\\u0e07\", \"\\u0e17\\u0e34\\u0e28\\u0e17\\u0e32\\u0e07\", \"\\u0e18\\u0e23\\u0e23\\u0e21\\u0e14\\u0e32\", \"\\u0e19\\u0e31\\u0e27\", \"\\u0e19\\u0e34\\u0e14\\u0e19\\u0e36\\u0e07\", \"\\u0e19\\u0e36\\u0e07\", \"\\u0e19\\u0e38\\u0e48\\u0e21\", \"\\u0e19\\u0e49\\u0e33\", \"\\u0e1a\\u0e27\\u0e1a\", \"\\u0e1a\\u0e38\\u0e01\", \"\\u0e1a\\u0e49\\u0e32\\u0e19\", \"\\u0e1b\\u0e23\\u0e30\\u0e17\\u0e31\\u0e1a\\u0e43\\u0e08\", \"\\u0e1b\\u0e23\\u0e34\\u0e21\\u0e32\\u0e13\", \"\\u0e1b\\u0e23\\u0e34\\u0e21\\u0e32\\u0e13\", \"\\u0e1b\\u0e23\\u0e34\\u0e21\\u0e32\\u0e13\", \"\\u0e1b\\u0e25\\u0e32\\u0e22\\u0e25\\u0e34\\u0e49\\u0e19\", \"\\u0e1c\\u0e31\\u0e14\", \"\\u0e1c\\u0e31\\u0e14\", \"\\u0e1c\\u0e31\\u0e14\", \"\\u0e1c\\u0e31\\u0e14\", \"\\u0e1c\\u0e31\\u0e14\", \"\\u0e1d\\u0e32\", \"\\u0e1d\\u0e32\", \"\\u0e1d\\u0e35\\u0e21\\u0e37\\u0e2d\", \"\\u0e1e\\u0e25\\u0e32\\u0e2a\\u0e15\\u0e34\\u0e01\", \"\\u0e1f\\u0e31\\u0e01\\u0e17\\u0e2d\\u0e07\", \"\\u0e1f\\u0e31\\u0e01\\u0e17\\u0e2d\\u0e07\", \"\\u0e1f\\u0e31\\u0e01\\u0e17\\u0e2d\\u0e07\", \"\\u0e1f\\u0e31\\u0e01\\u0e17\\u0e2d\\u0e07\", \"\\u0e21\", \"\\u0e21\\u0e31\\u0e07\", \"\\u0e21\\u0e31\\u0e07\", \"\\u0e21\\u0e35\\u0e04\\u0e27\\u0e32\\u0e21\\u0e2a\\u0e38\\u0e02\", \"\\u0e22\\u0e33\", \"\\u0e22\\u0e33\", \"\\u0e22\\u0e33\", \"\\u0e22\\u0e33\", \"\\u0e22\\u0e33\", \"\\u0e22\\u0e33\", \"\\u0e22\\u0e49\\u0e32\\u0e22\", \"\\u0e23\\u0e1a\\u0e01\\u0e27\\u0e19\", \"\\u0e23\\u0e1a\\u0e01\\u0e27\\u0e19\", \"\\u0e23\\u0e2a\\u0e08\\u0e31\\u0e14\", \"\\u0e23\\u0e2d\\u0e1a\", \"\\u0e23\\u0e2d\\u0e1a\", \"\\u0e23\\u0e2d\\u0e1a\", \"\\u0e23\\u0e2d\\u0e1a\", \"\\u0e23\\u0e2d\\u0e1a\", \"\\u0e23\\u0e30\\u0e22\\u0e30\\u0e22\\u0e32\\u0e27\", \"\\u0e23\\u0e30\\u0e22\\u0e30\\u0e2a\\u0e31\\u0e49\\u0e19\", \"\\u0e23\\u0e30\\u0e27\\u0e31\\u0e07\", \"\\u0e23\\u0e32\\u0e04\\u0e32\", \"\\u0e23\\u0e32\\u0e04\\u0e32\", \"\\u0e23\\u0e32\\u0e04\\u0e32\", \"\\u0e23\\u0e35\\u0e27\\u0e34\\u0e27\", \"\\u0e23\\u0e39\\u0e49\", \"\\u0e23\\u0e39\\u0e49\", \"\\u0e23\\u0e39\\u0e49\\u0e2a\\u0e36\\u0e01\", \"\\u0e23\\u0e39\\u0e49\\u0e2a\\u0e36\\u0e01\", \"\\u0e25\\u0e14\\u0e25\\u0e07\", \"\\u0e25\\u0e2d\\u0e07\", \"\\u0e25\\u0e2d\\u0e07\", \"\\u0e25\\u0e32\\u0e1a\", \"\\u0e25\\u0e49\\u0e32\\u0e07\\u0e19\\u0e49\\u0e33\", \"\\u0e2a\\u0e31\\u0e48\\u0e07\", \"\\u0e2a\\u0e31\\u0e48\\u0e07\", \"\\u0e2a\\u0e31\\u0e48\\u0e07\", \"\\u0e2a\\u0e31\\u0e48\\u0e07\", \"\\u0e2a\\u0e31\\u0e48\\u0e07\", \"\\u0e2a\\u0e33\\u0e2b\\u0e23\\u0e31\\u0e1a\", \"\\u0e2a\\u0e39\\u0e15\\u0e23\", \"\\u0e2a\\u0e48\\u0e27\\u0e19\\u0e15\\u0e31\\u0e27\", \"\\u0e2b\\u0e19\\u0e48\\u0e2d\\u0e44\\u0e21\\u0e49\", \"\\u0e2b\\u0e21\\u0e32\\u0e22\\u0e16\\u0e36\\u0e07\", \"\\u0e2b\\u0e25\\u0e35\", \"\\u0e2b\\u0e27\\u0e32\\u0e19\", \"\\u0e2b\\u0e27\\u0e32\\u0e19\", \"\\u0e2b\\u0e27\\u0e32\\u0e19\", \"\\u0e2b\\u0e34\\u0e27\", \"\\u0e2d\\u0e23\\u0e48\\u0e2d\\u0e22\", \"\\u0e2d\\u0e23\\u0e48\\u0e2d\\u0e22\", \"\\u0e2d\\u0e23\\u0e48\\u0e2d\\u0e22\", \"\\u0e2d\\u0e23\\u0e48\\u0e2d\\u0e22\", \"\\u0e2d\\u0e23\\u0e48\\u0e2d\\u0e22\", \"\\u0e2d\\u0e23\\u0e48\\u0e2d\\u0e22\", \"\\u0e2d\\u0e23\\u0e48\\u0e2d\\u0e22\", \"\\u0e2d\\u0e2d\\u0e40\\u0e14\\u0e2d\\u0e23\\u0e4c\", \"\\u0e2d\\u0e31\\u0e19\\u0e19\\u0e35\\u0e49\", \"\\u0e2d\\u0e32\\u0e23\\u0e21\\u0e13\\u0e4c\", \"\\u0e2d\\u0e32\\u0e2b\\u0e32\\u0e23\", \"\\u0e2d\\u0e32\\u0e2b\\u0e32\\u0e23\", \"\\u0e40\\u0e02\\u0e35\\u0e22\\u0e27\", \"\\u0e40\\u0e02\\u0e35\\u0e22\\u0e27\", \"\\u0e40\\u0e02\\u0e49\\u0e21\\u0e02\\u0e49\\u0e19\", \"\\u0e40\\u0e02\\u0e49\\u0e21\\u0e02\\u0e49\\u0e19\", \"\\u0e40\\u0e04\\u0e47\\u0e21\", \"\\u0e40\\u0e04\\u0e47\\u0e21\", \"\\u0e40\\u0e08\\u0e2d\", \"\\u0e40\\u0e08\\u0e49\", \"\\u0e40\\u0e0a\\u0e37\\u0e48\\u0e2d\\u0e21\", \"\\u0e40\\u0e0a\\u0e47\\u0e04\", \"\\u0e40\\u0e14\\u0e47\\u0e14\", \"\\u0e40\\u0e17\\u0e35\\u0e22\\u0e1a\", \"\\u0e40\\u0e1b\\u0e23\\u0e35\\u0e49\\u0e22\\u0e27\", \"\\u0e40\\u0e1b\\u0e23\\u0e35\\u0e49\\u0e22\\u0e27\", \"\\u0e40\\u0e1b\\u0e23\\u0e35\\u0e49\\u0e22\\u0e27\", \"\\u0e40\\u0e1c\\u0e47\\u0e14\", \"\\u0e40\\u0e1e\\u0e25\\u0e34\\u0e19\", \"\\u0e40\\u0e27\\u0e34\\u0e23\\u0e4c\\u0e04\", \"\\u0e40\\u0e28\\u0e29\", \"\\u0e40\\u0e2a\\u0e35\\u0e22\\u0e40\\u0e27\\u0e25\\u0e32\", \"\\u0e40\\u0e2a\\u0e49\\u0e19\", \"\\u0e40\\u0e2a\\u0e49\\u0e19\", \"\\u0e40\\u0e2a\\u0e49\\u0e19\", \"\\u0e40\\u0e2b\\u0e21\\u0e37\\u0e2d\\u0e19\", \"\\u0e40\\u0e2b\\u0e21\\u0e37\\u0e2d\\u0e19\", \"\\u0e40\\u0e2b\\u0e21\\u0e37\\u0e2d\\u0e19\", \"\\u0e40\\u0e2b\\u0e21\\u0e37\\u0e2d\\u0e19\", \"\\u0e40\\u0e2b\\u0e21\\u0e37\\u0e2d\\u0e19\", \"\\u0e40\\u0e2b\\u0e21\\u0e37\\u0e2d\\u0e19\\u0e40\\u0e14\\u0e34\\u0e21\", \"\\u0e40\\u0e2b\\u0e21\\u0e47\\u0e19\", \"\\u0e40\\u0e2b\\u0e47\\u0e14\", \"\\u0e41\\u0e01\\u0e07\", \"\\u0e41\\u0e01\\u0e07\\u0e40\\u0e25\\u0e35\\u0e22\\u0e07\", \"\\u0e41\\u0e01\\u0e07\\u0e40\\u0e25\\u0e35\\u0e22\\u0e07\", \"\\u0e41\\u0e01\\u0e49\\u0e27\", \"\\u0e41\\u0e01\\u0e49\\u0e27\", \"\\u0e41\\u0e08\\u0e49\\u0e07\", \"\\u0e41\\u0e19\\u0e48\\u0e43\\u0e08\", \"\\u0e41\\u0e1a\\u0e1a\\u0e19\\u0e35\\u0e49\", \"\\u0e41\\u0e1a\\u0e48\\u0e07\", \"\\u0e41\\u0e1b\\u0e25\\u0e01\", \"\\u0e41\\u0e1e\\u0e07\", \"\\u0e41\\u0e21\\u0e47\\u0e01\", \"\\u0e41\\u0e21\\u0e48\", \"\\u0e41\\u0e21\\u0e49\\u0e41\\u0e15\\u0e48\\u0e19\\u0e49\\u0e2d\\u0e22\", \"\\u0e41\\u0e23\\u0e07\", \"\\u0e41\\u0e2d\\u0e1a\", \"\\u0e42\\u0e14\\u0e14\", \"\\u0e42\\u0e14\\u0e14\", \"\\u0e42\\u0e14\\u0e22\\u0e23\\u0e27\\u0e21\", \"\\u0e42\\u0e19\\u0e4a\\u0e15\", \"\\u0e42\\u0e2d\\u0e40\\u0e04\", \"\\u0e42\\u0e2d\\u0e40\\u0e04\", \"\\u0e43\\u0e08\\u0e08\\u0e23\\u0e34\\u0e07\", \"\\u0e43\\u0e2a\\u0e48\", \"\\u0e44\\u0e02\\u0e48\", \"\\u0e44\\u0e02\\u0e48\\u0e40\\u0e04\\u0e47\\u0e21\", \"\\u0e44\\u0e25\\u0e19\\u0e4c\", \"\\u0e44\\u0e27\", \"\\u0e44\\u0e2b\\u0e21\"]}, \"R\": 30, \"lambda.step\": 0.01, \"plot.opts\": {\"xlab\": \"PC1\", \"ylab\": \"PC2\"}, \"topic.order\": [3, 11, 9, 19, 16, 18, 6, 14, 1, 5, 12, 17, 2, 4, 10, 13, 8, 15, 7, 20]};\n",
              "\n",
              "function LDAvis_load_lib(url, callback){\n",
              "  var s = document.createElement('script');\n",
              "  s.src = url;\n",
              "  s.async = true;\n",
              "  s.onreadystatechange = s.onload = callback;\n",
              "  s.onerror = function(){console.warn(\"failed to load library \" + url);};\n",
              "  document.getElementsByTagName(\"head\")[0].appendChild(s);\n",
              "}\n",
              "\n",
              "if(typeof(LDAvis) !== \"undefined\"){\n",
              "   // already loaded: just create the visualization\n",
              "   !function(LDAvis){\n",
              "       new LDAvis(\"#\" + \"ldavis_el207111361489206911529697776452\", ldavis_el207111361489206911529697776452_data);\n",
              "   }(LDAvis);\n",
              "}else if(typeof define === \"function\" && define.amd){\n",
              "   // require.js is available: use it to load d3/LDAvis\n",
              "   require.config({paths: {d3: \"https://d3js.org/d3.v5\"}});\n",
              "   require([\"d3\"], function(d3){\n",
              "      window.d3 = d3;\n",
              "      LDAvis_load_lib(\"https://cdn.jsdelivr.net/gh/bmabey/pyLDAvis@3.4.0/pyLDAvis/js/ldavis.v3.0.0.js\", function(){\n",
              "        new LDAvis(\"#\" + \"ldavis_el207111361489206911529697776452\", ldavis_el207111361489206911529697776452_data);\n",
              "      });\n",
              "    });\n",
              "}else{\n",
              "    // require.js not available: dynamically load d3 & LDAvis\n",
              "    LDAvis_load_lib(\"https://d3js.org/d3.v5.js\", function(){\n",
              "         LDAvis_load_lib(\"https://cdn.jsdelivr.net/gh/bmabey/pyLDAvis@3.4.0/pyLDAvis/js/ldavis.v3.0.0.js\", function(){\n",
              "                 new LDAvis(\"#\" + \"ldavis_el207111361489206911529697776452\", ldavis_el207111361489206911529697776452_data);\n",
              "            })\n",
              "         });\n",
              "}\n",
              "</script>"
            ]
          },
          "metadata": {},
          "execution_count": 31
        }
      ]
    }
  ]
}